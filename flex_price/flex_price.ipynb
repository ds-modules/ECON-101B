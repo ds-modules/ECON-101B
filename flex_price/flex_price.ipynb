{
 "cells": [
  {
   "cell_type": "markdown",
   "metadata": {},
   "source": [
    "# Flexible Price Economy Problem Set (PS3)\n",
    "\n",
    "## Short-Run Economic Fluctuations: Flexible-Price Macroeconomics\n",
    "\n",
    "This assignment is due on Sunday 2-25-2017 at 5 PM. Here we will put more writing about the lessons and such. Pretty much just any general writing that could benefit the students.\n",
    "\n",
    "### Table of Contents\n",
    "\n",
    "1 - [Circular Flows and General Gluts](#chapter 7)\n",
    "\n",
    "2 - [The Full-Employment Long-Run Flexible-Price Macroeconomy: Behavioral Relationships](#chapter 8)\n",
    "\n",
    "3 - [The Flexible-Price Economy](#chapter 9)"
   ]
  },
  {
   "cell_type": "markdown",
   "metadata": {},
   "source": [
    "Run the cells below, and let's get started!"
   ]
  },
  {
   "cell_type": "code",
   "execution_count": 71,
   "metadata": {
    "collapsed": true
   },
   "outputs": [],
   "source": [
    "# imports\n",
    "import numpy as np\n",
    "import pandas as pd\n",
    "import matplotlib.pyplot as plt\n",
    "%matplotlib inline"
   ]
  },
  {
   "cell_type": "code",
   "execution_count": 72,
   "metadata": {},
   "outputs": [
    {
     "ename": "ModuleNotFoundError",
     "evalue": "No module named 'client'",
     "output_type": "error",
     "traceback": [
      "\u001b[0;31m---------------------------------------------------------------------------\u001b[0m",
      "\u001b[0;31mModuleNotFoundError\u001b[0m                       Traceback (most recent call last)",
      "\u001b[0;32m<ipython-input-72-26c82f7bf31e>\u001b[0m in \u001b[0;36m<module>\u001b[0;34m()\u001b[0m\n\u001b[1;32m      1\u001b[0m \u001b[0;31m# Don't change this cell; just run it.\u001b[0m\u001b[0;34m\u001b[0m\u001b[0;34m\u001b[0m\u001b[0m\n\u001b[0;32m----> 2\u001b[0;31m \u001b[0;32mfrom\u001b[0m \u001b[0mclient\u001b[0m\u001b[0;34m.\u001b[0m\u001b[0mapi\u001b[0m\u001b[0;34m.\u001b[0m\u001b[0mnotebook\u001b[0m \u001b[0;32mimport\u001b[0m \u001b[0mNotebook\u001b[0m\u001b[0;34m\u001b[0m\u001b[0m\n\u001b[0m\u001b[1;32m      3\u001b[0m \u001b[0mok\u001b[0m \u001b[0;34m=\u001b[0m \u001b[0mNotebook\u001b[0m\u001b[0;34m(\u001b[0m\u001b[0;34m'flex_price.ok'\u001b[0m\u001b[0;34m)\u001b[0m\u001b[0;34m\u001b[0m\u001b[0m\n\u001b[1;32m      4\u001b[0m \u001b[0m_\u001b[0m \u001b[0;34m=\u001b[0m \u001b[0mok\u001b[0m\u001b[0;34m.\u001b[0m\u001b[0mauth\u001b[0m\u001b[0;34m(\u001b[0m\u001b[0minline\u001b[0m\u001b[0;34m=\u001b[0m\u001b[0;32mTrue\u001b[0m\u001b[0;34m)\u001b[0m\u001b[0;34m\u001b[0m\u001b[0m\n",
      "\u001b[0;31mModuleNotFoundError\u001b[0m: No module named 'client'"
     ]
    }
   ],
   "source": [
    "# Don't change this cell; just run it. \n",
    "from client.api.notebook import Notebook\n",
    "ok = Notebook('flex_price.ok')\n",
    "_ = ok.auth(inline=True)"
   ]
  },
  {
   "cell_type": "markdown",
   "metadata": {},
   "source": [
    "## Chapter 7: Circular Flows and General Gluts <a id='chapter 7'></a>\n",
    "\n",
    "#### Sources of Price Stickiness\n",
    "\n",
    "Think about the four possible source of price stickiness: money illusion, \"fairness\" considerations, misperceptions of price changes, and menu costs. What have you read or seen in the past two months that strike you as examples of any of these four phenomena? Which of the four strikes you as most likely to be the most important? Be brief!—one paragraph only.\n",
    "\n",
    "$Answer:$"
   ]
  },
  {
   "cell_type": "markdown",
   "metadata": {},
   "source": [
    "#### Institutional Sources of Price Stickiness \n",
    "\n",
    "What changes in the economy's institutions can you think of that would diminish price stickiness and increase price flexibility? What advantage in terms of the size of the business cycle would you expect to follow from such changes in institutions? What disadvantages do you think that such institutional changes might have? One paragraph only.\n",
    "\n",
    "$Answer:$"
   ]
  },
  {
   "cell_type": "markdown",
   "metadata": {},
   "source": [
    "#### Jean Baptiste Say \n",
    "\n",
    "In 1803, Say claimed that because nobody makes anything without intending to use it or sell it, and nobody sells anything without intending to buy something else, that there could be no general shortage of demand in an economy-- that there could be a planned excess of supply of some commodities, but it would be balanced by a planned excess of demand of some other commodities. Was he wrong? Why was he wrong?\n",
    "\n",
    "$Answer:$"
   ]
  },
  {
   "cell_type": "markdown",
   "metadata": {
    "collapsed": true
   },
   "source": []
  },
  {
   "cell_type": "markdown",
   "metadata": {},
   "source": [
    "----\n",
    "\n",
    "### Textbook Outline:\n",
    "\n",
    "**III. Flexible-Price Macroeconomics**\n",
    "\n",
    "Introduction\n",
    "\n",
    "(7) Circular Flows and General Gluts (NEW)\n",
    "\n",
    "* The Circular Flow of Economic Activity (REV)\n",
    "    * The Circular Flow Diagram (REV)\n",
    "    * Different Measures of the  Circular Flow: Demand, Sales, Production, Income, Spending (REV)\n",
    "    * Walras's Law, Say's Law, and the Circular Flow (NEW)\n",
    "\n",
    "* Breaking the Automatic Equality of the Circular Flow (NEW)\n",
    "    * Money Is a Special Commodity (NEW)\n",
    "    * Excess Demand for Money: Depression and \"General Glut\" (NEW)\n",
    "    * Excess Supply of Money: Inflation and \"Too Much Money Chasing too Few Goods\" (NEW)\n",
    "    * What Is \"Money\" Here? (NEW)\n",
    "        * Liquid assets (NEW)\n",
    "        * Safe assets (NEW)\n",
    "        * Savings vehicles (NEW)\n",
    "\n",
    "----\n",
    "\n",
    "### Code Based Questions:"
   ]
  },
  {
   "cell_type": "markdown",
   "metadata": {},
   "source": [
    "## Chapter 8: Building Blocks of the Flexible Price Model <a id='chapter 8'></a>\n",
    "\n",
    "### Textbook Outline:\n",
    "\n",
    "(8) Building Blocks of the Flexible-Price Model\n",
    "\n",
    "* Potential Output and Real Wages\n",
    "    * The Production Function (REV)\n",
    "    * The Invariance of Potential Output to the Cycle (NEW)\n",
    "    * The Labor Market\n",
    "        * Labor demand\n",
    "        * Labor supply\n",
    "        * Labor market equilibrium and real wages (REV)\n",
    "\n",
    "* Spending on Domestically-Produced Goods\n",
    "    * Consumption Spending\n",
    "        * Household decisions\n",
    "        * The marginal propensity to consume\n",
    "        * Baseline consumption\n",
    "    * Investment Spending\n",
    "            * BOX: Details: Kinds of investment\n",
    "        * Why firms invest\n",
    "            * Interest rates\n",
    "            * Animal spirits\n",
    "            * The role of expectations\n",
    "        * The investment function\n",
    "    * Government purchases\n",
    "    * Net exports\n",
    "* The Role of International Trade\n",
    "    * Gross exports\n",
    "    * Imports\n",
    "    * Net exports\n",
    "    * The exchange rate\n",
    "        * The role of interest rates and expectations\n",
    "            * BOX: Details: The j-curve\n",
    "\n",
    "* Conclusion\n",
    "\n",
    "----\n",
    "\n",
    "### Code Based Questions:\n",
    "* Production function\n",
    "    * Possible input/output sliders\n",
    "    * Graphical visualization\n",
    "* Labor market equilibrium\n",
    "    * Suppose demand curve is given by f, supply curve by g. Calculate equilibrium wage and employment values"
   ]
  },
  {
   "cell_type": "markdown",
   "metadata": {
    "collapsed": true
   },
   "source": [
    "#### Visualizing production functions\n",
    "Consider an economy bound to the following production function:\n",
    "\n",
    "$$\n",
    "Y=K^α(EL)^{(1−α)} \n",
    "$$\n",
    "\n",
    "$1$. First, create a function `prod()` that takes as inputs K, α, E and L, and returns the quantity of output Y. You will use it later to visualize the trends in production as these parameters are changed."
   ]
  },
  {
   "cell_type": "code",
   "execution_count": 75,
   "metadata": {
    "collapsed": true
   },
   "outputs": [],
   "source": [
    "def prod(K, alpha, E, L):\n",
    "    return # Your code here\n",
    "\n",
    "#(K ** alpha) * (E * L) ** (1 - alpha)"
   ]
  },
  {
   "cell_type": "markdown",
   "metadata": {},
   "source": [
    "$2$. Next, we want to observe how each variable affect the potential output Y. Run the block below and use the sliders to adjust each variables. How does the potential output Y change as you vary K, α, E, and L?"
   ]
  },
  {
   "cell_type": "code",
   "execution_count": 65,
   "metadata": {},
   "outputs": [
    {
     "data": {
      "application/vnd.jupyter.widget-view+json": {
       "model_id": "807a6f56a0d14f3eb252585a8a78b0f3"
      }
     },
     "metadata": {},
     "output_type": "display_data"
    },
    {
     "data": {
      "text/plain": [
       "<function __main__.prod>"
      ]
     },
     "execution_count": 65,
     "metadata": {},
     "output_type": "execute_result"
    }
   ],
   "source": [
    "from ipywidgets import interact, interactive, fixed, interact_manual\n",
    "import ipywidgets as widgets\n",
    "\n",
    "interact(prod,\n",
    "         K = widgets.IntSlider(min=0,max=1000000,step=1,value=500000), \n",
    "         alpha = widgets.FloatSlider(min=0,max=1,step=0.1,value=0.5), \n",
    "         E = widgets.IntSlider(min=0,max=1000000,step=1,value=500000), \n",
    "         L = widgets.IntSlider(min=0,max=1000000,step=1,value=500000))"
   ]
  },
  {
   "cell_type": "markdown",
   "metadata": {},
   "source": [
    "$Answer:$"
   ]
  },
  {
   "cell_type": "markdown",
   "metadata": {},
   "source": [
    "$3$. Lastly, plot the production function with respect to capital stock K and potential output Y, holding the supply of labor L and the efficiency of labor E fixed. Once you finish the function, we have provided you with input sliders for α, E, and L. How does the production function with respect to K and Y change as α, E, and L vary?"
   ]
  },
  {
   "cell_type": "code",
   "execution_count": 66,
   "metadata": {
    "scrolled": true
   },
   "outputs": [
    {
     "data": {
      "application/vnd.jupyter.widget-view+json": {
       "model_id": "bac9aff604a949dc81623bfc8df1e8ab"
      }
     },
     "metadata": {},
     "output_type": "display_data"
    },
    {
     "data": {
      "text/plain": [
       "<function __main__.graph_prod_K>"
      ]
     },
     "execution_count": 66,
     "metadata": {},
     "output_type": "execute_result"
    }
   ],
   "source": [
    "def graph_prod_K(alpha, E, L):\n",
    "    K = np.linspace(0, 1000000, 1000000) # a range of K from 0 to 1000000 that we are using to plot the production function.     \n",
    "    production_function_k = # Your code here\n",
    "    plt.plot(K, production_function_k)\n",
    "    plt.xlabel('Capital Stock (k)')\n",
    "    plt.ylabel('Real GDP (Y)')\n",
    "    plt.show()\n",
    "\n",
    "interact(graph_prod_K,\n",
    "         alpha = widgets.FloatSlider(min=0,max=1,step=0.1,value=0.5), \n",
    "         E = widgets.IntSlider(min=0,max=1000000,step=1,value=500000), \n",
    "         L = widgets.IntSlider(min=0,max=1000000,step=1,value=500000))"
   ]
  },
  {
   "cell_type": "markdown",
   "metadata": {},
   "source": [
    "$Answer:$"
   ]
  },
  {
   "cell_type": "markdown",
   "metadata": {},
   "source": [
    "#### Labor market equilibrium\n",
    "\n",
    "$1$. Suppose the demand curve for labor  $f$ and supply curve for labor  $g$ are given below.\n",
    "\n",
    "$$\n",
    "f = 10 - 4L\n",
    "$$\n",
    "\n",
    "$$\n",
    "g = 1 + 5L\n",
    "$$\n",
    "\n",
    "What is the equilibrium wage? ($L$ is thousands of hours of labor per week)"
   ]
  },
  {
   "cell_type": "markdown",
   "metadata": {},
   "source": [
    "$Answer:$"
   ]
  },
  {
   "cell_type": "markdown",
   "metadata": {},
   "source": [
    "$2$. Fill in your code below to plot the two curves. Do the curves make sense? What is the intersect of the two lines? Are they the same with the values you calculated from the last problem?"
   ]
  },
  {
   "cell_type": "code",
   "execution_count": 139,
   "metadata": {},
   "outputs": [
    {
     "data": {
      "image/png": "[encoded data removed]",
      "text/plain": [
       "<matplotlib.figure.Figure at 0x112c51358>"
      ]
     },
     "metadata": {},
     "output_type": "display_data"
    },
    {
     "name": "stdout",
     "output_type": "stream",
     "text": [
      "Equilibrium wage is: 1.0$\n",
      "Employment value is: 6 thousands of hours per week\n"
     ]
    }
   ],
   "source": [
    "def demand_for_labor(L):\n",
    "    return # Your code here\n",
    "\n",
    "def supply_for_labor(L):\n",
    "    return # Your code here\n",
    "\n",
    "L = np.arange(-10, 10, 1)\n",
    "f = demand_for_labor(L)\n",
    "g = supply_for_labor(L)\n",
    "\n",
    "plt.plot(f, L)\n",
    "plt.plot(g, L)\n",
    "plt.xlabel(\"thousands of hours of labor per week\")\n",
    "plt.ylabel(\"Real Wage($)\")\n",
    "y_intersect = 0\n",
    "for i in np.arange(0, len(f)):\n",
    "    if (f[i] == g[i]):\n",
    "        y_intersect = f[i]\n",
    "x_intersect = (y_intersect - 1) / 5 \n",
    "plt.scatter(y_intersect, x_intersect, color = \"red\")\n",
    "plt.show()\n",
    "print(\"Equilibrium wage is: \" + str(x_intersect) + \"$\")\n",
    "print(\"Employment value is: \" + str(y_intersect) + \" thousands of hours per week\")\n",
    "\n",
    "\n",
    "\n",
    "\n"
   ]
  },
  {
   "cell_type": "markdown",
   "metadata": {},
   "source": [
    "## Chapter 9: Equilibrium in the Flexible Price Model <a id='chapter 9'></a>\n",
    "\n",
    "#### Adding Up National Product\n",
    "\n",
    "In the simple income-expenditure model with real national product Y equal to the sum of consumption spending by households C, investment spending by businesses I, government purchases G, and with net exports NX; with consumption spending C given by the equation: where Y = C + O and C = co + cyY(1-t); and with imports IM given by the equation: IM = imyY..."
   ]
  },
  {
   "cell_type": "markdown",
   "metadata": {},
   "source": [
    "$1.$ Suppose I = 1.8 trillion, G = 3 trillion, GX = 1.7 trillion, co = 3 trillion, cy = 0.5, the tax rate t=0, and imy = .15. What is GDP Y?"
   ]
  },
  {
   "cell_type": "code",
   "execution_count": null,
   "metadata": {
    "collapsed": true
   },
   "outputs": [],
   "source": []
  },
  {
   "cell_type": "markdown",
   "metadata": {},
   "source": [
    "$2.$ Now write a python function `gdp_y()` that will calculate GDP Y based on the specified parameters. Use the next two questions to test your function."
   ]
  },
  {
   "cell_type": "code",
   "execution_count": 14,
   "metadata": {
    "collapsed": true
   },
   "outputs": [],
   "source": [
    "def gdp_y():\n",
    "    # Your code here\n",
    "    return ..."
   ]
  },
  {
   "cell_type": "markdown",
   "metadata": {},
   "source": [
    "$3.$ Suppose I = 1.8 trillion, G = 3.5 trillion, GX = 1.7 trillion, co = 2 trillion, cy = 1.0, the tax rate t=0.85, and imy = .15. What is GDP Y?"
   ]
  },
  {
   "cell_type": "code",
   "execution_count": 10,
   "metadata": {
    "collapsed": true
   },
   "outputs": [],
   "source": [
    "# plug in to your gdp_y() function\n"
   ]
  },
  {
   "cell_type": "markdown",
   "metadata": {},
   "source": [
    "$4.$ Suppose I = 1.7 trillion, G = 2 trillion, GX = 1.8 trillion, co = 3 trillion, cy = 0.65, the tax rate t=0, and imy = .15. What is GDP Y?"
   ]
  },
  {
   "cell_type": "code",
   "execution_count": 11,
   "metadata": {
    "collapsed": true
   },
   "outputs": [],
   "source": [
    "# plug in to your gdp_y() function\n"
   ]
  },
  {
   "cell_type": "markdown",
   "metadata": {},
   "source": [
    "### Textbook Outline:\n",
    "\n",
    "(9) Equilibrium in the Flexible-Price Model\n",
    "\n",
    "* Full Employment Equilibrium\n",
    "    * The Flow-of-Funds Approach\n",
    "    * The Assumption of Wage and Price Flexibility\n",
    "        * BOX: Details: If prices were truly flexible\n",
    "\n",
    "* Two Approaches, One Model\n",
    "    * Using the Circular Flow Diagram\n",
    "        * BOX: Details: Financial transactions and the flow of funds\n",
    "    * Using Some Algebra\n",
    "    * Unpacking the Flow-of-Funds Equation\n",
    "\n",
    "* The Real Interest Rate Is What Adjusts to Lead to Equilibrium\n",
    "    * Graphing the Saving-Investment Relationship\n",
    "        * BOX: Details: Deriving the equilibrium interest rate equation\n",
    "    * The Adjustment to Equilibrium\n",
    "\n",
    "* Using the Model: What Makes the Real Interest Rate Change?\n",
    "    * The Effect of a Change in Saving\n",
    "    * The Effect of a Change in Investment Demand\n",
    "    * The Effect of a Change in Government Purchases\n",
    "    * The Effect of a Change in Demand for Exports\n",
    "\n",
    "* Calculating the Equilibrium Real Interest Rate: Some Algrebra\n",
    "    * The Formula for the Equilibrium Real Interest Rate\n",
    "    * Interpreting the Real Interest Rate Equation\n",
    "    * Determining the Effect of a Change in Policy on the Components of Aggregate Demand \n",
    "        * Government purchases\n",
    "        * Saving and investment\n",
    "        * Exports and imports\n",
    "        * Consumption\n",
    "\n",
    "* Conclusion\n",
    "---\n",
    "\n",
    "### Code Based Questions:\n",
    "* Previous questions can be easily converted to code questions\n",
    "* Visualization sliders for real interest rate; estimate from the graph a rate that would lead to equilibrium and then confirm mathematically"
   ]
  },
  {
   "cell_type": "markdown",
   "metadata": {},
   "source": [
    "Good job, you're done now!"
   ]
  },
  {
   "cell_type": "code",
   "execution_count": null,
   "metadata": {
    "collapsed": true
   },
   "outputs": [],
   "source": [
    "# Don't forget to run this cell to submit your homework!\n",
    "_ = ok.submit()"
   ]
  }
 ],
 "metadata": {
  "anaconda-cloud": {},
  "kernelspec": {
   "display_name": "Python 3",
   "language": "python",
   "name": "python3"
  },
  "language_info": {
   "codemirror_mode": {
    "name": "ipython",
    "version": 3
   },
   "file_extension": ".py",
   "mimetype": "text/x-python",
   "name": "python",
   "nbconvert_exporter": "python",
   "pygments_lexer": "ipython3",
   "version": "3.6.1"
  }
 },
 "nbformat": 4,
 "nbformat_minor": 1
}
