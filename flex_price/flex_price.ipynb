{
 "cells": [
  {
   "cell_type": "markdown",
   "metadata": {},
   "source": [
    "# Flexible Price Economy Problem Set (PS3)\n",
    "\n",
    "## Short-Run Economic Fluctuations: Flexible-Price Macroeconomics\n",
    "\n",
    "This assignment is due on Sunday 2-25-2017 at 5 PM. Here we will put more writing about the lessons and such. Pretty much just any general writing that could benefit the students.\n",
    "\n",
    "### Table of Contents\n",
    "\n",
    "1 - [Circular Flows and General Gluts](#chapter 7)\n",
    "\n",
    "2 - [The Full-Employment Long-Run Flexible-Price Macroeconomy: Behavioral Relationships](#chapter 8)\n",
    "\n",
    "3 - [The Flexible-Price Economy](#chapter 9)"
   ]
  },
  {
   "cell_type": "markdown",
   "metadata": {},
   "source": [
    "Run the cells below, and let's get started!"
   ]
  },
  {
   "cell_type": "code",
   "execution_count": null,
   "metadata": {
    "collapsed": true
   },
   "outputs": [],
   "source": [
    "# imports\n",
    "import numpy as np\n",
    "import pandas as pd\n",
    "import matplotlib.pyplot as plt\n",
    "%matplotlib inline"
   ]
  },
  {
   "cell_type": "code",
   "execution_count": null,
   "metadata": {
    "collapsed": true
   },
   "outputs": [],
   "source": [
    "# Don't change this cell; just run it. \n",
    "from client.api.notebook import Notebook\n",
    "ok = Notebook('flex_price.ok')\n",
    "_ = ok.auth(inline=True)"
   ]
  },
  {
   "cell_type": "markdown",
   "metadata": {},
   "source": [
    "## Chapter 7: Circular Flows and General Gluts <a id='chapter 7'></a>\n",
    "\n",
    "### Previous Questions:\n",
    "\n",
    "#### Sources of Price Stickiness\n",
    "\n",
    "Think about the four possible source of price stickiness: money illusion, \"fairness\" considerations, misperceptions of price changes, and menu costs. What have you read or seen in the past two months that strike you as examples of any of these four phenomena? Which of the four strikes you as most likely to be the most important? Be brief!—one paragraph only.\n",
    "\n",
    "#### Institutional Sources of Price Stickiness \n",
    "\n",
    "What changes in the economy's institutions can you think of that would diminish price stickiness and increase price flexibility? What advantage in terms of the size of the business cycle would you expect to follow from such changes in institutions? What disadvantages do you think that such institutional changes might have? (One paragraph only!)\n",
    "\n",
    "#### Jean Baptiste Say \n",
    "\n",
    "in 1803 claimed that because nobody makes anything without intending to use it or sell it, and nobody sells anything without intending to buy something else, that there could be no general shortage of demand in an economy-- that there could be a planned excess of supply of some commodities, but it would be balanced by a planned excess of demand of some other commodities. Was he wrong? Why was he wrong?\n",
    "\n",
    "----\n",
    "\n",
    "### Textbook Outline:\n",
    "\n",
    "**III. Flexible-Price Macroeconomics**\n",
    "\n",
    "Introduction\n",
    "\n",
    "(7) Circular Flows and General Gluts (NEW)\n",
    "\n",
    "* The Circular Flow of Economic Activity (REV)\n",
    "    * The Circular Flow Diagram (REV)\n",
    "    * Different Measures of the  Circular Flow: Demand, Sales, Production, Income, Spending (REV)\n",
    "    * Walras's Law, Say's Law, and the Circular Flow (NEW)\n",
    "\n",
    "* Breaking the Automatic Equality of the Circular Flow (NEW)\n",
    "    * Money Is a Special Commodity (NEW)\n",
    "    * Excess Demand for Money: Depression and \"General Glut\" (NEW)\n",
    "    * Excess Supply of Money: Inflation and \"Too Much Money Chasing too Few Goods\" (NEW)\n",
    "    * What Is \"Money\" Here? (NEW)\n",
    "        * Liquid assets (NEW)\n",
    "        * Safe assets (NEW)\n",
    "        * Savings vehicles (NEW)\n",
    "\n",
    "----\n",
    "\n",
    "### Code Based Questions:"
   ]
  },
  {
   "cell_type": "markdown",
   "metadata": {
    "collapsed": true
   },
   "source": []
  },
  {
   "cell_type": "markdown",
   "metadata": {},
   "source": [
    "## Chapter 8: Building Blocks of the Flexible Price Model <a id='chapter 8'></a>\n",
    "\n",
    "### Textbook Outline:\n",
    "\n",
    "(8) Building Blocks of the Flexible-Price Model\n",
    "\n",
    "* Potential Output and Real Wages\n",
    "    * The Production Function (REV)\n",
    "    * The Invariance of Potential Output to the Cycle (NEW)\n",
    "    * The Labor Market\n",
    "        * Labor demand\n",
    "        * Labor supply\n",
    "        * Labor market equilibrium and real wages (REV)\n",
    "\n",
    "* Spending on Domestically-Produced Goods\n",
    "    * Consumption Spending\n",
    "        * Household decisions\n",
    "        * The marginal propensity to consume\n",
    "        * Baseline consumption\n",
    "    * Investment Spending\n",
    "            * BOX: Details: Kinds of investment\n",
    "        * Why firms invest\n",
    "            * Interest rates\n",
    "            * Animal spirits\n",
    "            * The role of expectations\n",
    "        * The investment function\n",
    "    * Government purchases\n",
    "    * Net exports\n",
    "* The Role of International Trade\n",
    "    * Gross exports\n",
    "    * Imports\n",
    "    * Net exports\n",
    "    * The exchange rate\n",
    "        * The role of interest rates and expectations\n",
    "            * BOX: Details: The j-curve\n",
    "\n",
    "* Conclusion\n",
    "\n",
    "----\n",
    "\n",
    "### Code Based Questions:\n",
    "* Production function\n",
    "    * Possible input/output sliders\n",
    "    * Graphical visualization\n",
    "* Labor market equilibrium\n",
    "    * Suppose demand curve is given by f, supply curve by g. Calculate equilibrium wage and employment values"
   ]
  },
  {
   "cell_type": "code",
   "execution_count": null,
   "metadata": {
    "collapsed": true
   },
   "outputs": [],
   "source": []
  },
  {
   "cell_type": "markdown",
   "metadata": {},
   "source": [
    "## Chapter 9: Equilibrium in the Flexible Price Model <a id='chapter 9'></a>\n",
    "\n",
    "### Previous Questions:\n",
    "\n",
    "#### Adding Up National Product\n",
    "\n",
    "In the simple income-expenditure model with real national product Y equal to the sum of consumption spending by households C, investment spending by businesses I, government purchases G, and with net exports NX; with consumption spending C given by the equation: where Y = C + O and C = co + cyY(1-t); and with imports IM given by the equation: IM = imyY...\n",
    "\n",
    "1. Suppose C = $10.25 trillion, I = $1.68 trillion, G = $2.97 trillion, GX = $1.66 trillion, the tax rate t=0, and IM = $2.10 trillion. What is national product Y?\n",
    "2. Suppose C = $3.83 trillion, the tax rate t=0, I = $0.86 trillion, G = $1.18 trillion, GX = $.55 trillion, and Y = $5.80 trillion. What is gross imports IM?\n",
    "3. Suppose Suppose IM = $0.29 trillion, the tax rate t=0, I = $0.48 trillion, G = $0.57 trillion, GX = $.28 trillion, and Y = $2.79 trillion. What is consumption spending C?\n",
    "4. Suppose Suppose IM = $0.02 trillion, the tax rate t=0, I = $0.08 trillion, G = $0.11 trillion, GX = $0.03 trillion, and C = $0.33 trillion. What is national product Y?\n",
    "\n",
    "#### Adding Up National Product II\n",
    "\n",
    "In the simple income-expenditure model with real GDP Y equal to the sum of consumption spending by households C, investment spending by businesses I, government purchases G, and with net exports NX; with consumption spending C given by the equation: C = co + cyY(1-t); and with imports IM given by the equation: IM = imyY...\n",
    "\n",
    "1. Suppose I = $1.7 trillion, G = $3 trillion, GX = $1.7 trillion, co = $3 trillion, cy = 0.5, the tax rate t=0, and imy = .15. What is national product Y?\n",
    "2. Suppose I = $1.7 trillion, G = $3.5 trillion, GX = $1.7 trillion, co = $3 trillion, cy = 0.5, the tax rate t=0, and imy = .15. What is national product Y?\n",
    "3. Suppose I = $1.7 trillion, G = $4 trillion, GX = $1.7 trillion, co = $3 trillion, cy = 0.5, the tax rate t=0, and imy = .15. What is national product Y?\n",
    "4. Suppose I = $1.7 trillion, G = $2.5 trillion, GX = $1.7 trillion, co = $3 trillion, cy = 0.5, the tax rate t=0, and imy = .15. What is national product Y?"
   ]
  },
  {
   "cell_type": "markdown",
   "metadata": {},
   "source": [
    "#### Adding Up National Product III\n",
    "\n",
    "In the simple income-expenditure model with real GDP Y equal to the sum of consumption spending by households C, investment spending by businesses I, government purchases G, and with net exports NX; with consumption spending C given by the equation: C = co + cyY(1-t); and with imports IM given by the equation: IM = imyY...\n",
    "\n",
    "1. Suppose I = $1.8 trillion, G = $3 trillion, GX = $1.7 trillion, co = $3 trillion, cy = 0.5, the tax rate t=0, and imy = .15. What is GDP Y?\n",
    "2. Suppose I = $1.8 trillion, G = $3.5 trillion, GX = $1.7 trillion, co = $2 trillion, cy = 1.0, the tax rate t=0.85, and imy = .15. What is GDP Y?\n",
    "3. Suppose I = $1.7 trillion, G = $2 trillion, GX = $1.8 trillion, co = $3 trillion, cy = 0.65, the tax rate t=0, and imy = .15. What is GDP Y?\n",
    "\n",
    "### Textbook Outline:\n",
    "\n",
    "(9) Equilibrium in the Flexible-Price Model\n",
    "\n",
    "* Full Employment Equilibrium\n",
    "    * The Flow-of-Funds Approach\n",
    "    * The Assumption of Wage and Price Flexibility\n",
    "        * BOX: Details: If prices were truly flexible\n",
    "\n",
    "* Two Approaches, One Model\n",
    "    * Using the Circular Flow Diagram\n",
    "        * BOX: Details: Financial transactions and the flow of funds\n",
    "    * Using Some Algebra\n",
    "    * Unpacking the Flow-of-Funds Equation\n",
    "\n",
    "* The Real Interest Rate Is What Adjusts to Lead to Equilibrium\n",
    "    * Graphing the Saving-Investment Relationship\n",
    "        * BOX: Details: Deriving the equilibrium interest rate equation\n",
    "    * The Adjustment to Equilibrium\n",
    "\n",
    "* Using the Model: What Makes the Real Interest Rate Change?\n",
    "    * The Effect of a Change in Saving\n",
    "    * The Effect of a Change in Investment Demand\n",
    "    * The Effect of a Change in Government Purchases\n",
    "    * The Effect of a Change in Demand for Exports\n",
    "\n",
    "* Calculating the Equilibrium Real Interest Rate: Some Algrebra\n",
    "    * The Formula for the Equilibrium Real Interest Rate\n",
    "    * Interpreting the Real Interest Rate Equation\n",
    "    * Determining the Effect of a Change in Policy on the Components of Aggregate Demand \n",
    "        * Government purchases\n",
    "        * Saving and investment\n",
    "        * Exports and imports\n",
    "        * Consumption\n",
    "\n",
    "* Conclusion\n",
    "---\n",
    "\n",
    "### Code Based Questions:\n",
    "* Previous questions can be easily converted to code questions\n",
    "* Visualization sliders for real interest rate; estimate from the graph a rate that would lead to equilibrium and then confirm mathematically"
   ]
  },
  {
   "cell_type": "markdown",
   "metadata": {},
   "source": [
    "#### Adding Up National Product\n",
    "\n",
    "In the simple income-expenditure model with real national product Y equal to the sum of consumption spending by households C, investment spending by businesses I, government purchases G, and with net exports NX; with consumption spending C given by the equation: where Y = C + O and C = co + cyY(1-t); and with imports IM given by the equation: IM = imyY...\n",
    "\n",
    "1. Suppose C = $10.25 trillion, I = $1.68 trillion, G = $2.97 trillion, GX = $1.66 trillion, the tax rate t=0, and IM = $2.10 trillion. What is national product Y?\n",
    "2. Suppose C = $3.83 trillion, the tax rate t=0, I = $0.86 trillion, G = $1.18 trillion, GX = $.55 trillion, and Y = $5.80 trillion. What is gross imports IM?\n",
    "3. Suppose Suppose IM = $0.29 trillion, the tax rate t=0, I = $0.48 trillion, G = $0.57 trillion, GX = $.28 trillion, and Y = $2.79 trillion. What is consumption spending C?\n",
    "4. Suppose Suppose IM = $0.02 trillion, the tax rate t=0, I = $0.08 trillion, G = $0.11 trillion, GX = $0.03 trillion, and C = $0.33 trillion. What is national product Y?"
   ]
  },
  {
   "cell_type": "markdown",
   "metadata": {},
   "source": [
    "#### Adding Up National Product II\n",
    "\n",
    "In the simple income-expenditure model with real GDP Y equal to the sum of consumption spending by households C, investment spending by businesses I, government purchases G, and with net exports NX; with consumption spending C given by the equation: C = co + cyY(1-t); and with imports IM given by the equation: IM = imyY...\n",
    "\n",
    "Suppose I = $1.7 trillion, G = $3 trillion, GX = $1.7 trillion, co = $3 trillion, cy = 0.5, the tax rate t=0, and imy = .15. What is national product Y?"
   ]
  },
  {
   "cell_type": "code",
   "execution_count": null,
   "metadata": {
    "collapsed": true
   },
   "outputs": [],
   "source": [
    "national_product = ________"
   ]
  },
  {
   "cell_type": "code",
   "execution_count": null,
   "metadata": {
    "collapsed": true
   },
   "outputs": [],
   "source": [
    "#Model the above economy w/ a varying G\n",
    "\n",
    "#Solution"
   ]
  },
  {
   "cell_type": "markdown",
   "metadata": {},
   "source": [
    "Suppose I = $1.8 trillion, G = $3 trillion, GX = $1.7 trillion, co = $3 trillion, cy = 0.5, the tax rate t=0, and imy = .15. What is GDP Y?"
   ]
  },
  {
   "cell_type": "code",
   "execution_count": null,
   "metadata": {
    "collapsed": true
   },
   "outputs": [],
   "source": []
  },
  {
   "cell_type": "markdown",
   "metadata": {},
   "source": [
    "Suppose I = $1.8 trillion, G = $3.5 trillion, GX = $1.7 trillion, co = $2 trillion, cy = 1.0, the tax rate t=0.85, and imy = .15. What is GDP Y?"
   ]
  },
  {
   "cell_type": "code",
   "execution_count": null,
   "metadata": {
    "collapsed": true
   },
   "outputs": [],
   "source": []
  },
  {
   "cell_type": "markdown",
   "metadata": {},
   "source": [
    "Suppose I = $1.7 trillion, G = $2 trillion, GX = $1.8 trillion, co = $3 trillion, cy = 0.65, the tax rate t=0, and imy = .15. What is GDP Y?"
   ]
  },
  {
   "cell_type": "code",
   "execution_count": null,
   "metadata": {
    "collapsed": true
   },
   "outputs": [],
   "source": []
  },
  {
   "cell_type": "markdown",
   "metadata": {},
   "source": [
    "Good job, you're done now!"
   ]
  },
  {
   "cell_type": "code",
   "execution_count": null,
   "metadata": {
    "collapsed": true
   },
   "outputs": [],
   "source": [
    "# Don't forget to run this cell to submit your homework!\n",
    "_ = ok.submit()"
   ]
  }
 ],
 "metadata": {
  "anaconda-cloud": {},
  "kernelspec": {
   "display_name": "Python 3",
   "language": "python",
   "name": "python3"
  },
  "language_info": {
   "codemirror_mode": {
    "name": "ipython",
    "version": 3
   },
   "file_extension": ".py",
   "mimetype": "text/x-python",
   "name": "python",
   "nbconvert_exporter": "python",
   "pygments_lexer": "ipython3",
   "version": "3.6.1"
  }
 },
 "nbformat": 4,
 "nbformat_minor": 1
}
