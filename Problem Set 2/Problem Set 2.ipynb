{
 "cells": [
  {
   "cell_type": "code",
   "execution_count": 27,
   "metadata": {
    "collapsed": true
   },
   "outputs": [],
   "source": [
    "# imports\n",
    "import numpy as np\n",
    "import pandas as pd\n",
    "import seaborn as sns\n",
    "import ipywidgets as widgets\n",
    "from ipywidgets import interact\n",
    "import matplotlib.pyplot as plt\n",
    "%matplotlib inline"
   ]
  },
  {
   "cell_type": "markdown",
   "metadata": {},
   "source": [
    "## Chapter 4: Theories of Economic Growth\n",
    "\n",
    "#### Budget Deficits\n",
    "\n",
    "Consider an economy in which the depreciation rate is $2\\%$ per year, the rate of population increase is $1\\%$ per year, the rate of technological progress is $1\\%$ per year, and the private savings rate is $17\\%$ of GDP. Suppose that the government increases its budget deficit--which had been at $1\\%$ of GDP for a long time--to $5\\%$ of GDP and keeps it there indefinitely.\n",
    "\n",
    "$1$. a) What is the effect of this shift on the economy's steady-state capital-output ratio? "
   ]
  },
  {
   "cell_type": "markdown",
   "metadata": {},
   "source": []
  },
  {
   "cell_type": "markdown",
   "metadata": {},
   "source": [
    "b) What is the effect of this shift on the economy's steady state growth path for output per worker?"
   ]
  },
  {
   "cell_type": "markdown",
   "metadata": {},
   "source": []
  },
  {
   "cell_type": "markdown",
   "metadata": {},
   "source": [
    "$2$. Suppose that your forecast of output per worker 20 years in the future had been \\$120,000. What is your new forecast of output per worker twenty years hence?"
   ]
  },
  {
   "cell_type": "code",
   "execution_count": null,
   "metadata": {
    "collapsed": true
   },
   "outputs": [],
   "source": []
  },
  {
   "cell_type": "markdown",
   "metadata": {},
   "source": [
    "$3$. Suppose that environmental regulations lead to a diversion of investment spending from investments that boost the capital stock to investments that replace polluting with less-polluting capital. In our standard growth model, what would be the consequences of such a diversion for the economy's capital-output ratio and for its balanced-growth path? Would it make sense to say that these environmental regulations diminished the economy's wealth?"
   ]
  },
  {
   "cell_type": "markdown",
   "metadata": {},
   "source": []
  },
  {
   "cell_type": "markdown",
   "metadata": {},
   "source": [
    "#### Savings Rates\n",
    "\n",
    "Consider an economy in which the depreciation rate is $4\\%$ per year, the rate of population increase is $1\\%$ per year, the rate of technological progress is $2\\%$ per year, and the national savings rate is $21\\%$ of GDP. Suppose that thrift-promoting policies raise the savings rate to $24.5\\%$ of GDP and keep it there indefinitely.\n",
    "\n",
    "$1$. Calculate—that is write an equation for it as a function of time—what the level of output per worker would have been had the savings rate remained at $21\\%$, and had the economy initially been on its steady-state growth path."
   ]
  },
  {
   "cell_type": "code",
   "execution_count": null,
   "metadata": {
    "collapsed": true
   },
   "outputs": [],
   "source": []
  },
  {
   "cell_type": "markdown",
   "metadata": {},
   "source": [
    "$2$. Calculate—that is write an equation for it as a function of time—what the level of output per worker will have be now that the savings rate has increased."
   ]
  },
  {
   "cell_type": "code",
   "execution_count": null,
   "metadata": {
    "collapsed": true
   },
   "outputs": [],
   "source": []
  },
  {
   "cell_type": "markdown",
   "metadata": {},
   "source": [
    "#### Population Growth\n",
    "\n",
    "Many project that by the middle of the twenty-first century the population of the United States will be stable. Using the Solow growth model, what would the qualitative effects of such a downward shift in the growth rate of the labor force be on the growth of output per worker and to the growth of total output? (Consider both the effect of zero population growth on the steady-state growth path, and the transition from the \"old\" positive population growth to the \"new\" zero population growth steady-state growth path.)"
   ]
  },
  {
   "cell_type": "markdown",
   "metadata": {},
   "source": []
  },
  {
   "cell_type": "markdown",
   "metadata": {},
   "source": [
    "#### Long Run Models\n",
    "\n",
    "We have cautioned you that the Solow growth model is—especially in its focus-on- the-steady-state-growth-path version—a long run model. What do we mean by that?"
   ]
  },
  {
   "cell_type": "markdown",
   "metadata": {},
   "source": []
  },
  {
   "cell_type": "markdown",
   "metadata": {},
   "source": [
    "#### Doubling Capital per Worker\n",
    "\n",
    "Consider an economy with the production function: \n",
    "$$\n",
    "Y=K^α(EL)^{(1−α)} \n",
    "$$\n",
    "\n",
    "on its steady-state balanced-growth path.\n",
    "\n",
    "$1$. Suppose $α$ = $\\frac{1}{2}$, $E$ = $1$, $L$ = $100$, and $K$ = $64$; what is output per worker $\\frac{Y}{L}$?"
   ]
  },
  {
   "cell_type": "code",
   "execution_count": null,
   "metadata": {
    "collapsed": true
   },
   "outputs": [],
   "source": []
  },
  {
   "cell_type": "markdown",
   "metadata": {},
   "source": [
    "$2$. Suppose $α$ = $\\frac{1}{2}$, $E$ = $3$, $L$ = $196$, and $K$ = $49$; what is output per worker $\\frac{Y}{L}$?"
   ]
  },
  {
   "cell_type": "code",
   "execution_count": null,
   "metadata": {
    "collapsed": true
   },
   "outputs": [],
   "source": []
  },
  {
   "cell_type": "markdown",
   "metadata": {},
   "source": [
    "$3$. If both capital $K$ and labor $L$ triple, what happens to total output $Y$?"
   ]
  },
  {
   "cell_type": "markdown",
   "metadata": {},
   "source": []
  },
  {
   "cell_type": "markdown",
   "metadata": {},
   "source": [
    "#### Walking Up the Production Function\n",
    "\n",
    "Using the production function from the previous section:\n",
    "\n",
    "$1$. Suppose $α$ = $\\frac{1}{3}$, $E$ = $1$, $L$ = $100$, and $K$ = $64$; what is output per worker $\\frac{Y}{L}$?"
   ]
  },
  {
   "cell_type": "code",
   "execution_count": null,
   "metadata": {
    "collapsed": true
   },
   "outputs": [],
   "source": []
  },
  {
   "cell_type": "markdown",
   "metadata": {},
   "source": [
    "$2$. Suppose $α$ = $\\frac{1}{3}$, $E$ = $3$, $L$ = $196$, and $K$ = $49$; what is output per worker $\\frac{Y}{L}$?"
   ]
  },
  {
   "cell_type": "code",
   "execution_count": null,
   "metadata": {
    "collapsed": true
   },
   "outputs": [],
   "source": []
  },
  {
   "cell_type": "markdown",
   "metadata": {},
   "source": [
    "$3$. If both capital $K$ and labor $L$ double, what happens to total output $Y$?"
   ]
  },
  {
   "cell_type": "markdown",
   "metadata": {},
   "source": []
  },
  {
   "cell_type": "markdown",
   "metadata": {},
   "source": [
    "$4$. Holding $E$ = $1$, suppose that capital per worker increases from 1 to 4 and then from\n",
    "4 to 9. What happens to output per worker?"
   ]
  },
  {
   "cell_type": "markdown",
   "metadata": {},
   "source": []
  },
  {
   "cell_type": "markdown",
   "metadata": {},
   "source": [
    "#### From function to table\n",
    "\n",
    "Manually inputting values into the production function can be tedious, can't it? Luckily, we can design simple functions to translate our production function into more easily accessible forms. Specifically, we want to create a pandas dataframe of output values as $E$, $L$, and $K$ are changed (assuming $α$ is fixed at $\\frac{1}{2}$. To accomplish this, first we must make a function that represents our production function. That is, this function takes in values for $E$, $L$, and $K$ and returns output $Y$ according to the function\n",
    "$$\n",
    "Y=K^α(EL)^{(1−α)} \n",
    "$$\n",
    "\n",
    "Fill in the function below."
   ]
  },
  {
   "cell_type": "code",
   "execution_count": 28,
   "metadata": {
    "collapsed": true
   },
   "outputs": [],
   "source": [
    "def prod_func(E, L, K):\n",
    "    Y = ...\n",
    "    return Y"
   ]
  },
  {
   "cell_type": "markdown",
   "metadata": {},
   "source": [
    "Now, we want to build a function that takes in a range of values for $E$, $L$, and $K$ and returns a table of outputs for the different input values. Don't be intimidated by the triple $for$ statement! These nested loops allow for all values of $E$, $L$, and $K$ to be matched with all other combinations of the others. Fill in the missing parts of the function below. "
   ]
  },
  {
   "cell_type": "code",
   "execution_count": 33,
   "metadata": {
    "collapsed": true
   },
   "outputs": [],
   "source": [
    "def prod_table(loE, hiE, loL, hiL, loK, hiK):\n",
    "    E = []\n",
    "    L= []\n",
    "    K = []\n",
    "    Y = []\n",
    "    for i in range(loE, hiE + 1):\n",
    "        for j in range(loL, hiL + 1):\n",
    "            for k in range(loK, hiK + 1):\n",
    "                E.append(i)\n",
    "                L.append(j)\n",
    "                K.append(k)\n",
    "    for x in range(len(E)):\n",
    "        Y.append(prod_func(E[x], L[x], K[x]))\n",
    "    dict = {\"E\": E, \"L\": L, \"K\": K, \"Y\": Y}\n",
    "    table = pd.DataFrame(dict, columns=[\"E\", \"L\", \"K\", \"Y\"])\n",
    "    return table"
   ]
  },
  {
   "cell_type": "markdown",
   "metadata": {},
   "source": [
    "Try creating a table with your own ranges of the variables!"
   ]
  },
  {
   "cell_type": "code",
   "execution_count": 35,
   "metadata": {
    "collapsed": true
   },
   "outputs": [
    {
     "ename": "TypeError",
     "evalue": "unsupported operand type(s) for +: 'ellipsis' and 'int'",
     "output_type": "error",
     "traceback": [
      "\u001b[0;31m---------------------------------------------------------------------------\u001b[0m",
      "\u001b[0;31mTypeError\u001b[0m                                 Traceback (most recent call last)",
      "\u001b[0;32m<ipython-input-35-c81cd954b10b>\u001b[0m in \u001b[0;36m<module>\u001b[0;34m()\u001b[0m\n\u001b[1;32m      1\u001b[0m \u001b[1;31m### Fill in your chosen values, and run the cell to output a table!\u001b[0m\u001b[1;33m\u001b[0m\u001b[1;33m\u001b[0m\u001b[0m\n\u001b[0;32m----> 2\u001b[0;31m \u001b[0mprod_table\u001b[0m\u001b[1;33m(\u001b[0m\u001b[1;33m...\u001b[0m\u001b[1;33m,\u001b[0m \u001b[1;33m...\u001b[0m\u001b[1;33m,\u001b[0m \u001b[1;33m...\u001b[0m\u001b[1;33m,\u001b[0m \u001b[1;33m...\u001b[0m\u001b[1;33m,\u001b[0m \u001b[1;33m...\u001b[0m\u001b[1;33m,\u001b[0m \u001b[1;33m...\u001b[0m\u001b[1;33m)\u001b[0m\u001b[1;33m\u001b[0m\u001b[0m\n\u001b[0m",
      "\u001b[0;32m<ipython-input-33-e9b92225181e>\u001b[0m in \u001b[0;36mprod_table\u001b[0;34m(loE, hiE, loL, hiL, loK, hiK)\u001b[0m\n\u001b[1;32m      4\u001b[0m     \u001b[0mK\u001b[0m \u001b[1;33m=\u001b[0m \u001b[1;33m[\u001b[0m\u001b[1;33m]\u001b[0m\u001b[1;33m\u001b[0m\u001b[0m\n\u001b[1;32m      5\u001b[0m     \u001b[0mY\u001b[0m \u001b[1;33m=\u001b[0m \u001b[1;33m[\u001b[0m\u001b[1;33m]\u001b[0m\u001b[1;33m\u001b[0m\u001b[0m\n\u001b[0;32m----> 6\u001b[0;31m     \u001b[1;32mfor\u001b[0m \u001b[0mi\u001b[0m \u001b[1;32min\u001b[0m \u001b[0mrange\u001b[0m\u001b[1;33m(\u001b[0m\u001b[0mloE\u001b[0m\u001b[1;33m,\u001b[0m \u001b[0mhiE\u001b[0m \u001b[1;33m+\u001b[0m \u001b[1;36m1\u001b[0m\u001b[1;33m)\u001b[0m\u001b[1;33m:\u001b[0m\u001b[1;33m\u001b[0m\u001b[0m\n\u001b[0m\u001b[1;32m      7\u001b[0m         \u001b[1;32mfor\u001b[0m \u001b[0mj\u001b[0m \u001b[1;32min\u001b[0m \u001b[0mrange\u001b[0m\u001b[1;33m(\u001b[0m\u001b[0mloL\u001b[0m\u001b[1;33m,\u001b[0m \u001b[0mhiL\u001b[0m \u001b[1;33m+\u001b[0m \u001b[1;36m1\u001b[0m\u001b[1;33m)\u001b[0m\u001b[1;33m:\u001b[0m\u001b[1;33m\u001b[0m\u001b[0m\n\u001b[1;32m      8\u001b[0m             \u001b[1;32mfor\u001b[0m \u001b[0mk\u001b[0m \u001b[1;32min\u001b[0m \u001b[0mrange\u001b[0m\u001b[1;33m(\u001b[0m\u001b[0mloK\u001b[0m\u001b[1;33m,\u001b[0m \u001b[0mhiK\u001b[0m \u001b[1;33m+\u001b[0m \u001b[1;36m1\u001b[0m\u001b[1;33m)\u001b[0m\u001b[1;33m:\u001b[0m\u001b[1;33m\u001b[0m\u001b[0m\n",
      "\u001b[0;31mTypeError\u001b[0m: unsupported operand type(s) for +: 'ellipsis' and 'int'"
     ]
    }
   ],
   "source": [
    "### Fill in your chosen values, and run the cell to output a table!\n",
    "prod_table(..., ..., ..., ..., ..., ...)"
   ]
  },
  {
   "cell_type": "markdown",
   "metadata": {},
   "source": [
    "As you can probably guess, when large ranges for the variables are given, the table gets extremely long. Although not a perfect visualization for the behavior of the production function, the tables created by prod_func is nonetheless an interesting way of representing the production function. "
   ]
  },
  {
   "cell_type": "markdown",
   "metadata": {},
   "source": [
    "#### Balanced Growth Path\n",
    "\n",
    "Suppose that an economy's production function is \n",
    "$$\n",
    "Y = K^{0.5}(EL)^{0.5}\n",
    "$$\n",
    "\n",
    "Suppose further that the savings rate $s$ is $40\\%$ of GDP, that the depreciation rate $δ$ is $4\\%$ per year, the population growth rate $n$ is $0$, and the rate of growth $g$ of the efficiency of the labor force is $2\\%$ per year.\n",
    "\n",
    "$1$. What is the steady-state balanced-growth capital-output ratio?"
   ]
  },
  {
   "cell_type": "code",
   "execution_count": null,
   "metadata": {
    "collapsed": true
   },
   "outputs": [],
   "source": []
  },
  {
   "cell_type": "markdown",
   "metadata": {},
   "source": [
    "$2$. How fast does output per worker grow along the steady-state balanced-growth\n",
    "path?"
   ]
  },
  {
   "cell_type": "code",
   "execution_count": null,
   "metadata": {
    "collapsed": true
   },
   "outputs": [],
   "source": []
  },
  {
   "cell_type": "markdown",
   "metadata": {},
   "source": [
    "$3$. How fast does total output grow along the steady-state balanced-growth path?"
   ]
  },
  {
   "cell_type": "code",
   "execution_count": null,
   "metadata": {
    "collapsed": true
   },
   "outputs": [],
   "source": []
  },
  {
   "cell_type": "markdown",
   "metadata": {},
   "source": [
    "$4$. Suppose that all variables are the same save the production function, which instead is: \n",
    "$$\n",
    "Y = K^{0.8}(EL)^{0.2}\n",
    "$$\n",
    "\n",
    "How would your answers be different? Why would your answers are different?"
   ]
  },
  {
   "cell_type": "markdown",
   "metadata": {},
   "source": []
  },
  {
   "cell_type": "markdown",
   "metadata": {},
   "source": [
    "## Chapter 5: Reality of Economic Growth"
   ]
  },
  {
   "cell_type": "markdown",
   "metadata": {},
   "source": [
    "#### Escape from the Malthusian Trap\n",
    "\n",
    "Suppose somebody who hasn't taken any economics courses were to ask you why humanity escaped from the Malthusian trap--of very low standards of living and slow population growth rates that nevertheless put pressure on available natural resources and kept output per worker from rising--in which humanity found itself between the year 8000 B.C.E. and 1800. What answer would you give? (One paragraph only, please!)"
   ]
  },
  {
   "cell_type": "markdown",
   "metadata": {},
   "source": []
  },
  {
   "cell_type": "markdown",
   "metadata": {},
   "source": [
    "#### Malthusian Economy\n",
    "\n",
    "Suppose—in the Malthusian model with natural resources—that population growth depends on the level of output per worker, so that:\n",
    "\n",
    "$$\n",
    "n = .00002(\\frac{Y}{L} - $400)\n",
    "$$\n",
    "\n",
    "That is, the population and labor force growth rate n is zero if output per worker equals $\\$400$, and that each $\\$100$ increase in output per worker raises the population growth rate by $0.2$ percent per year. Suppose also that the natural-resources parameter $β$ in the production function: $Y = Kα(EL L)1−α−β (ER )β$ is $0.2$. Suppose also that $gL$ = $0$.\n",
    "\n",
    "$1$. If $gR$ = $0.2\\%$ per year, what is the steady-state rate of population growth? If it is $0.4\\%$ per year? $1\\%$ per year?"
   ]
  },
  {
   "cell_type": "code",
   "execution_count": null,
   "metadata": {
    "collapsed": true
   },
   "outputs": [],
   "source": []
  },
  {
   "cell_type": "markdown",
   "metadata": {},
   "source": [
    "$2$. How long does it take the population to double for each of the efficiency-of-using-resources growth rates above?"
   ]
  },
  {
   "cell_type": "code",
   "execution_count": null,
   "metadata": {
    "collapsed": true
   },
   "outputs": [],
   "source": []
  },
  {
   "cell_type": "markdown",
   "metadata": {},
   "source": [
    "$3$. By what multiple does the population grow in a millennium for each of the efficiency-of-labor growth rates in (a) above?"
   ]
  },
  {
   "cell_type": "code",
   "execution_count": null,
   "metadata": {
    "collapsed": true
   },
   "outputs": [],
   "source": []
  },
  {
   "cell_type": "markdown",
   "metadata": {},
   "source": [
    "#### Malthus\n",
    "\n",
    "Write a paragraph explaining to somebody who hasn’t taken this course how human populations could increase from 170 million in year 1 to 500 million in year 1500 without there being any noticeable increases in life expectancy or median material standards of living.`"
   ]
  },
  {
   "cell_type": "code",
   "execution_count": null,
   "metadata": {
    "collapsed": true
   },
   "outputs": [],
   "source": []
  },
  {
   "cell_type": "markdown",
   "metadata": {},
   "source": [
    "#### Economic History Facts\n",
    "\n",
    "$1$. Roughly, how much larger was global world product in 1800 than it was in the year 1?"
   ]
  },
  {
   "cell_type": "code",
   "execution_count": null,
   "metadata": {
    "collapsed": true
   },
   "outputs": [],
   "source": []
  },
  {
   "cell_type": "markdown",
   "metadata": {},
   "source": [
    "$2$. Roughly, how large is global world product today?"
   ]
  },
  {
   "cell_type": "code",
   "execution_count": null,
   "metadata": {
    "collapsed": true
   },
   "outputs": [],
   "source": []
  },
  {
   "cell_type": "markdown",
   "metadata": {},
   "source": [
    "$3$. Roughly, how much larger is global world product today than it was in 2000?"
   ]
  },
  {
   "cell_type": "code",
   "execution_count": null,
   "metadata": {
    "collapsed": true
   },
   "outputs": [],
   "source": []
  },
  {
   "cell_type": "markdown",
   "metadata": {},
   "source": [
    "#### Argentina\n",
    "\n",
    "In 1960, Argentina had a level of output per worker of $\\$14,000$ per year. In the 1940s and 1950s it had had a savings-investment share of $24\\%$ and a labor-force growth rate of $2\\%$ per year. Since 1960 Argentina has averaged a savings-investment share of $15\\%$ and a labor force growth rate of $1\\%$ per year. Assume that Argentina in the 1940s and 1950s had an efficiency of labor growth rate g of $1\\%$ per year. Assume $α$ = $\\frac{2}{3}$. Assume the depreciation rate $δ$ is $5\\%$ per year. Assume that Argentina in 1960 was on its 1940s and 1950s steady-state balanced-growth path, and that Argentina today is on its post-1960 balanced growth path.\n",
    "\n",
    "$1$. What was Argentinaʼs capital-output ratio in 1960?"
   ]
  },
  {
   "cell_type": "code",
   "execution_count": null,
   "metadata": {
    "collapsed": true
   },
   "outputs": [],
   "source": []
  },
  {
   "cell_type": "markdown",
   "metadata": {},
   "source": [
    "$2$. What was Argentinaʼs efficiency of labor $E$ in 1960?"
   ]
  },
  {
   "cell_type": "code",
   "execution_count": null,
   "metadata": {
    "collapsed": true
   },
   "outputs": [],
   "source": []
  },
  {
   "cell_type": "markdown",
   "metadata": {},
   "source": [
    "$3$. If the efficiency-of-labor growth rate had been $1\\%$ per year since 1960, what would Argentinaʼs efficiency of labor, capital-output ratio, and level of output per worker be today?"
   ]
  },
  {
   "cell_type": "code",
   "execution_count": null,
   "metadata": {
    "collapsed": true
   },
   "outputs": [],
   "source": []
  },
  {
   "cell_type": "markdown",
   "metadata": {},
   "source": [
    "$4$. If the efficiency of labor growth rate had been $2\\%$ per year since 1960, what would Argentinaʼs efficiency of labor, capital-output ratio, and level of output per worker be today?"
   ]
  },
  {
   "cell_type": "code",
   "execution_count": null,
   "metadata": {
    "collapsed": true
   },
   "outputs": [],
   "source": []
  },
  {
   "cell_type": "markdown",
   "metadata": {},
   "source": [
    "$5$. If the efficiency of labor growth rate had been $3\\%$ per year since 1960, what would Argentinaʼs efficiency of labor, capital-output ratio, and level of output per worker be today?"
   ]
  },
  {
   "cell_type": "code",
   "execution_count": null,
   "metadata": {
    "collapsed": true
   },
   "outputs": [],
   "source": []
  },
  {
   "cell_type": "markdown",
   "metadata": {},
   "source": [
    "$6$. If the efficiency of labor growth rate had been $4\\%$ per year since 1960, what would Argentinaʼs efficiency of labor, capital-output ratio, and level of output per worker be today?"
   ]
  },
  {
   "cell_type": "code",
   "execution_count": null,
   "metadata": {
    "collapsed": true
   },
   "outputs": [],
   "source": []
  },
  {
   "cell_type": "markdown",
   "metadata": {},
   "source": [
    "$7$. If the efficiency of labor growth rate had been $5\\%$ per year since 1960, what would Argentinaʼs efficiency of labor, capital-output ratio, and level of output per worker be today?"
   ]
  },
  {
   "cell_type": "code",
   "execution_count": null,
   "metadata": {
    "collapsed": true
   },
   "outputs": [],
   "source": []
  },
  {
   "cell_type": "markdown",
   "metadata": {},
   "source": [
    "$8$. Argentinaʼs level of output per worker today is $\\$27,000$ per year. What do you guess its growth rate of the efficiency of labor has been on average since 1960?"
   ]
  },
  {
   "cell_type": "code",
   "execution_count": null,
   "metadata": {
    "collapsed": true
   },
   "outputs": [],
   "source": []
  },
  {
   "cell_type": "markdown",
   "metadata": {},
   "source": [
    "#### Working with data\n",
    "\n",
    "Now let's work with a datatable $arg$_$employment$, which contains information on Argentina's recent employment data. \n",
    "\n",
    "\n",
    "Run the cell below to load the table."
   ]
  },
  {
   "cell_type": "code",
   "execution_count": 43,
   "metadata": {
    "collapsed": false
   },
   "outputs": [],
   "source": [
    "arg_employment = pd.read_csv('argentina_employment.csv')"
   ]
  },
  {
   "cell_type": "code",
   "execution_count": 44,
   "metadata": {
    "collapsed": false
   },
   "outputs": [
    {
     "data": {
      "text/html": [
       "<div>\n",
       "<table border=\"1\" class=\"dataframe\">\n",
       "  <thead>\n",
       "    <tr style=\"text-align: right;\">\n",
       "      <th></th>\n",
       "      <th>Year</th>\n",
       "      <th>Labour force (thousands)</th>\n",
       "      <th>Unemployment rate (%)</th>\n",
       "      <th>Output per worker</th>\n",
       "    </tr>\n",
       "  </thead>\n",
       "  <tbody>\n",
       "    <tr>\n",
       "      <th>0</th>\n",
       "      <td>1996</td>\n",
       "      <td>8901.22</td>\n",
       "      <td>17.20</td>\n",
       "      <td>18935.12</td>\n",
       "    </tr>\n",
       "    <tr>\n",
       "      <th>1</th>\n",
       "      <td>1997</td>\n",
       "      <td>9233.51</td>\n",
       "      <td>14.89</td>\n",
       "      <td>19646.35</td>\n",
       "    </tr>\n",
       "    <tr>\n",
       "      <th>2</th>\n",
       "      <td>1998</td>\n",
       "      <td>9481.71</td>\n",
       "      <td>12.69</td>\n",
       "      <td>19635.53</td>\n",
       "    </tr>\n",
       "    <tr>\n",
       "      <th>3</th>\n",
       "      <td>1999</td>\n",
       "      <td>9644.77</td>\n",
       "      <td>14.10</td>\n",
       "      <td>18988.12</td>\n",
       "    </tr>\n",
       "    <tr>\n",
       "      <th>4</th>\n",
       "      <td>2000</td>\n",
       "      <td>9722.58</td>\n",
       "      <td>15.03</td>\n",
       "      <td>18774.82</td>\n",
       "    </tr>\n",
       "  </tbody>\n",
       "</table>\n",
       "</div>"
      ],
      "text/plain": [
       "   Year  Labour force (thousands)  Unemployment rate (%)  Output per worker\n",
       "0  1996                   8901.22                  17.20           18935.12\n",
       "1  1997                   9233.51                  14.89           19646.35\n",
       "2  1998                   9481.71                  12.69           19635.53\n",
       "3  1999                   9644.77                  14.10           18988.12\n",
       "4  2000                   9722.58                  15.03           18774.82"
      ]
     },
     "execution_count": 44,
     "metadata": {},
     "output_type": "execute_result"
    }
   ],
   "source": [
    "arg_employment.head()"
   ]
  },
  {
   "cell_type": "markdown",
   "metadata": {
    "collapsed": true
   },
   "source": [
    "Examine the table and take note of variables and time period. \n",
    "\n",
    "$1$. As a warmup, find the unemployment rate of the last year included in the table. (Hint: Use .max(), it's better practice than manually looking at the table for the highest year)"
   ]
  },
  {
   "cell_type": "code",
   "execution_count": null,
   "metadata": {
    "collapsed": true
   },
   "outputs": [],
   "source": []
  },
  {
   "cell_type": "markdown",
   "metadata": {
    "collapsed": true
   },
   "source": [
    "$2$. Plot a time series of the labour force in Argentina. "
   ]
  },
  {
   "cell_type": "code",
   "execution_count": 45,
   "metadata": {
    "collapsed": false
   },
   "outputs": [
    {
     "data": {
      "text/plain": [
       "<matplotlib.axes._subplots.AxesSubplot at 0x262888dbe48>"
      ]
     },
     "execution_count": 45,
     "metadata": {},
     "output_type": "execute_result"
    },
    {
     "data": {
      "image/png": "[encoded data removed]",
      "text/plain": [
       "<matplotlib.figure.Figure at 0x262888db7b8>"
      ]
     },
     "metadata": {},
     "output_type": "display_data"
    }
   ],
   "source": [
    "arg_employment.plot(x = 'Year', y = 'Labour force (thousands)')"
   ]
  },
  {
   "cell_type": "markdown",
   "metadata": {},
   "source": [
    "$3$. Now make a time series for the unemployment rate."
   ]
  },
  {
   "cell_type": "code",
   "execution_count": 48,
   "metadata": {
    "collapsed": false
   },
   "outputs": [
    {
     "data": {
      "text/plain": [
       "<matplotlib.axes._subplots.AxesSubplot at 0x262889eca90>"
      ]
     },
     "execution_count": 48,
     "metadata": {},
     "output_type": "execute_result"
    },
    {
     "data": {
      "image/png": "[encoded data removed]",
      "text/plain": [
       "<matplotlib.figure.Figure at 0x26288a2f278>"
      ]
     },
     "metadata": {},
     "output_type": "display_data"
    }
   ],
   "source": [
    "arg_employment.plot(x = 'Year', y = 'Unemployment rate (%)')"
   ]
  },
  {
   "cell_type": "markdown",
   "metadata": {},
   "source": [
    "Room for conceptual questions"
   ]
  },
  {
   "cell_type": "code",
   "execution_count": null,
   "metadata": {
    "collapsed": true
   },
   "outputs": [],
   "source": []
  },
  {
   "cell_type": "code",
   "execution_count": null,
   "metadata": {
    "collapsed": true
   },
   "outputs": [],
   "source": []
  }
 ],
 "metadata": {
  "anaconda-cloud": {},
  "kernelspec": {
   "display_name": "Python [conda root]",
   "language": "python",
   "name": "conda-root-py"
  },
  "language_info": {
   "codemirror_mode": {
    "name": "ipython",
    "version": 3
   },
   "file_extension": ".py",
   "mimetype": "text/x-python",
   "name": "python",
   "nbconvert_exporter": "python",
   "pygments_lexer": "ipython3",
   "version": "3.5.2"
  }
 },
 "nbformat": 4,
 "nbformat_minor": 1
}
