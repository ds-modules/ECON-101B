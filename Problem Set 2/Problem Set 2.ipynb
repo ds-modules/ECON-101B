{
 "cells": [
  {
   "cell_type": "markdown",
   "metadata": {},
   "source": [
    "## Chapter 5: Reality of Economic Growth"
   ]
  },
  {
   "cell_type": "code",
   "execution_count": 3,
   "metadata": {
    "collapsed": true
   },
   "outputs": [],
   "source": [
    "# imports\n",
    "import numpy as np\n",
    "import pandas as pd\n",
    "import seaborn as sns\n",
    "import ipywidgets as widgets\n",
    "from ipywidgets import interact\n",
    "import matplotlib.pyplot as plt\n",
    "%matplotlib inline"
   ]
  },
  {
   "cell_type": "markdown",
   "metadata": {},
   "source": [
    "#### Escape from the Malthusian Trap\n",
    "\n",
    "Suppose somebody who hasn't taken any economics courses were to ask you why humanity escaped from the Malthusian trap--of very low standards of living and slow population growth rates that nevertheless put pressure on available natural resources and kept output per worker from rising--in which humanity found itself between the year 8000 B.C.E. and 1800. What answer would you give? (One paragraph only, please!)"
   ]
  },
  {
   "cell_type": "markdown",
   "metadata": {},
   "source": []
  },
  {
   "cell_type": "markdown",
   "metadata": {},
   "source": [
    "#### Malthusian Economy\n",
    "\n",
    "Suppose—in the Malthusian model with natural resources—that population growth depends on the level of output per worker, so that:\n",
    "\n",
    "$$\n",
    "n = .00002(\\frac{Y}{L} - $400)\n",
    "$$\n",
    "\n",
    "That is, the population and labor force growth rate n is zero if output per worker equals $\\$400$, and that each $\\$100$ increase in output per worker raises the population growth rate by $0.2$ percent per year. Suppose also that the natural-resources parameter $β$ in the production function: $Y = Kα(EL L)1−α−β (ER )β$ is $0.2$. Suppose also that $gL$ = $0$.\n",
    "\n",
    "$1$. If $gR$ = $0.2\\%$ per year, what is the steady-state rate of population growth? If it is $0.4\\%$ per year? $1\\%$ per year?"
   ]
  },
  {
   "cell_type": "code",
   "execution_count": null,
   "metadata": {
    "collapsed": true
   },
   "outputs": [],
   "source": []
  },
  {
   "cell_type": "markdown",
   "metadata": {},
   "source": [
    "$2$. How long does it take the population to double for each of the efficiency-of-using-resources growth rates above?"
   ]
  },
  {
   "cell_type": "code",
   "execution_count": null,
   "metadata": {
    "collapsed": true
   },
   "outputs": [],
   "source": []
  },
  {
   "cell_type": "markdown",
   "metadata": {},
   "source": [
    "$3$. By what multiple does the population grow in a millennium for each of the efficiency-of-labor growth rates in (a) above?"
   ]
  },
  {
   "cell_type": "code",
   "execution_count": null,
   "metadata": {
    "collapsed": true
   },
   "outputs": [],
   "source": []
  },
  {
   "cell_type": "markdown",
   "metadata": {},
   "source": [
    "#### Malthus\n",
    "\n",
    "Write a paragraph explaining to somebody who hasn’t taken this course how human populations could increase from 170 million in year 1 to 500 million in year 1500 without there being any noticeable increases in life expectancy or median material standards of living.`"
   ]
  },
  {
   "cell_type": "code",
   "execution_count": null,
   "metadata": {
    "collapsed": true
   },
   "outputs": [],
   "source": []
  },
  {
   "cell_type": "markdown",
   "metadata": {},
   "source": [
    "#### Economic History Facts\n",
    "\n",
    "$1$. Roughly, how much larger was global world product in 1800 than it was in the year 1?"
   ]
  },
  {
   "cell_type": "code",
   "execution_count": null,
   "metadata": {
    "collapsed": true
   },
   "outputs": [],
   "source": []
  },
  {
   "cell_type": "markdown",
   "metadata": {},
   "source": [
    "$2$. Roughly, how large is global world product today?"
   ]
  },
  {
   "cell_type": "code",
   "execution_count": null,
   "metadata": {
    "collapsed": true
   },
   "outputs": [],
   "source": []
  },
  {
   "cell_type": "markdown",
   "metadata": {},
   "source": [
    "$3$. Roughly, how much larger is global world product today than it was in 2000?"
   ]
  },
  {
   "cell_type": "code",
   "execution_count": null,
   "metadata": {
    "collapsed": true
   },
   "outputs": [],
   "source": []
  },
  {
   "cell_type": "markdown",
   "metadata": {},
   "source": [
    "#### Argentina\n",
    "\n",
    "In 1960, Argentina had a level of output per worker of $\\$14,000$ per year. In the 1940s and 1950s it had had a savings-investment share of $24\\%$ and a labor-force growth rate of $2\\%$ per year. Since 1960 Argentina has averaged a savings-investment share of $15\\%$ and a labor force growth rate of $1\\%$ per year. Assume that Argentina in the 1940s and 1950s had an efficiency of labor growth rate g of $1\\%$ per year. Assume $α$ = $\\frac{2}{3}$. Assume the depreciation rate $δ$ is $5\\%$ per year. Assume that Argentina in 1960 was on its 1940s and 1950s steady-state balanced-growth path, and that Argentina today is on its post-1960 balanced growth path.\n",
    "\n",
    "$1$. What was Argentinaʼs capital-output ratio in 1960?"
   ]
  },
  {
   "cell_type": "code",
   "execution_count": null,
   "metadata": {
    "collapsed": true
   },
   "outputs": [],
   "source": []
  },
  {
   "cell_type": "markdown",
   "metadata": {},
   "source": [
    "$2$. What was Argentinaʼs efficiency of labor $E$ in 1960?"
   ]
  },
  {
   "cell_type": "code",
   "execution_count": null,
   "metadata": {
    "collapsed": true
   },
   "outputs": [],
   "source": []
  },
  {
   "cell_type": "markdown",
   "metadata": {},
   "source": [
    "$3$. If the efficiency-of-labor growth rate had been $1\\%$ per year since 1960, what would Argentinaʼs efficiency of labor, capital-output ratio, and level of output per worker be today?"
   ]
  },
  {
   "cell_type": "code",
   "execution_count": null,
   "metadata": {
    "collapsed": true
   },
   "outputs": [],
   "source": []
  },
  {
   "cell_type": "markdown",
   "metadata": {},
   "source": [
    "$4$. If the efficiency of labor growth rate had been $2\\%$ per year since 1960, what would Argentinaʼs efficiency of labor, capital-output ratio, and level of output per worker be today?"
   ]
  },
  {
   "cell_type": "code",
   "execution_count": null,
   "metadata": {
    "collapsed": true
   },
   "outputs": [],
   "source": []
  },
  {
   "cell_type": "markdown",
   "metadata": {},
   "source": [
    "$5$. If the efficiency of labor growth rate had been $3\\%$ per year since 1960, what would Argentinaʼs efficiency of labor, capital-output ratio, and level of output per worker be today?"
   ]
  },
  {
   "cell_type": "code",
   "execution_count": null,
   "metadata": {
    "collapsed": true
   },
   "outputs": [],
   "source": []
  },
  {
   "cell_type": "markdown",
   "metadata": {},
   "source": [
    "$6$. If the efficiency of labor growth rate had been $4\\%$ per year since 1960, what would Argentinaʼs efficiency of labor, capital-output ratio, and level of output per worker be today?"
   ]
  },
  {
   "cell_type": "code",
   "execution_count": null,
   "metadata": {
    "collapsed": true
   },
   "outputs": [],
   "source": []
  },
  {
   "cell_type": "markdown",
   "metadata": {},
   "source": [
    "$7$. If the efficiency of labor growth rate had been $5\\%$ per year since 1960, what would Argentinaʼs efficiency of labor, capital-output ratio, and level of output per worker be today?"
   ]
  },
  {
   "cell_type": "code",
   "execution_count": null,
   "metadata": {
    "collapsed": true
   },
   "outputs": [],
   "source": []
  },
  {
   "cell_type": "markdown",
   "metadata": {},
   "source": [
    "$8$. Argentinaʼs level of output per worker today is $\\$27,000$ per year. What do you guess its growth rate of the efficiency of labor has been on average since 1960?"
   ]
  },
  {
   "cell_type": "code",
   "execution_count": null,
   "metadata": {
    "collapsed": true
   },
   "outputs": [],
   "source": []
  },
  {
   "cell_type": "markdown",
   "metadata": {},
   "source": [
    "#### Working with data\n",
    "\n",
    "Run the cell below to load the arg_employment dataset."
   ]
  },
  {
   "cell_type": "code",
   "execution_count": 6,
   "metadata": {
    "collapsed": false
   },
   "outputs": [],
   "source": [
    "arg_employment = pd.read_csv('argentina_employment.csv')"
   ]
  },
  {
   "cell_type": "code",
   "execution_count": 7,
   "metadata": {
    "collapsed": false
   },
   "outputs": [
    {
     "data": {
      "text/html": [
       "<div>\n",
       "<table border=\"1\" class=\"dataframe\">\n",
       "  <thead>\n",
       "    <tr style=\"text-align: right;\">\n",
       "      <th></th>\n",
       "      <th>Year</th>\n",
       "      <th>Labour force by sex and age (thousands)</th>\n",
       "      <th>Unemployment rate by sex and age (%)</th>\n",
       "      <th>Output per worker (GDP constant 2011 international $ in PPP)</th>\n",
       "    </tr>\n",
       "  </thead>\n",
       "  <tbody>\n",
       "    <tr>\n",
       "      <th>0</th>\n",
       "      <td>1996</td>\n",
       "      <td>8901.22</td>\n",
       "      <td>17.20</td>\n",
       "      <td>18935.12</td>\n",
       "    </tr>\n",
       "    <tr>\n",
       "      <th>1</th>\n",
       "      <td>1997</td>\n",
       "      <td>9233.51</td>\n",
       "      <td>14.89</td>\n",
       "      <td>19646.35</td>\n",
       "    </tr>\n",
       "    <tr>\n",
       "      <th>2</th>\n",
       "      <td>1998</td>\n",
       "      <td>9481.71</td>\n",
       "      <td>12.69</td>\n",
       "      <td>19635.53</td>\n",
       "    </tr>\n",
       "    <tr>\n",
       "      <th>3</th>\n",
       "      <td>1999</td>\n",
       "      <td>9644.77</td>\n",
       "      <td>14.10</td>\n",
       "      <td>18988.12</td>\n",
       "    </tr>\n",
       "    <tr>\n",
       "      <th>4</th>\n",
       "      <td>2000</td>\n",
       "      <td>9722.58</td>\n",
       "      <td>15.03</td>\n",
       "      <td>18774.82</td>\n",
       "    </tr>\n",
       "    <tr>\n",
       "      <th>5</th>\n",
       "      <td>2001</td>\n",
       "      <td>9853.15</td>\n",
       "      <td>17.35</td>\n",
       "      <td>18131.25</td>\n",
       "    </tr>\n",
       "    <tr>\n",
       "      <th>6</th>\n",
       "      <td>2002</td>\n",
       "      <td>9971.88</td>\n",
       "      <td>19.61</td>\n",
       "      <td>16314.16</td>\n",
       "    </tr>\n",
       "    <tr>\n",
       "      <th>7</th>\n",
       "      <td>2003</td>\n",
       "      <td>10589.22</td>\n",
       "      <td>15.40</td>\n",
       "      <td>16721.13</td>\n",
       "    </tr>\n",
       "    <tr>\n",
       "      <th>8</th>\n",
       "      <td>2004</td>\n",
       "      <td>10701.84</td>\n",
       "      <td>13.52</td>\n",
       "      <td>16435.36</td>\n",
       "    </tr>\n",
       "    <tr>\n",
       "      <th>9</th>\n",
       "      <td>2005</td>\n",
       "      <td>10764.06</td>\n",
       "      <td>11.51</td>\n",
       "      <td>17279.78</td>\n",
       "    </tr>\n",
       "    <tr>\n",
       "      <th>10</th>\n",
       "      <td>2006</td>\n",
       "      <td>11038.44</td>\n",
       "      <td>10.08</td>\n",
       "      <td>18077.66</td>\n",
       "    </tr>\n",
       "    <tr>\n",
       "      <th>11</th>\n",
       "      <td>2007</td>\n",
       "      <td>11052.00</td>\n",
       "      <td>8.47</td>\n",
       "      <td>19229.30</td>\n",
       "    </tr>\n",
       "    <tr>\n",
       "      <th>12</th>\n",
       "      <td>2008</td>\n",
       "      <td>11153.99</td>\n",
       "      <td>7.84</td>\n",
       "      <td>19618.29</td>\n",
       "    </tr>\n",
       "    <tr>\n",
       "      <th>13</th>\n",
       "      <td>2009</td>\n",
       "      <td>11386.26</td>\n",
       "      <td>8.65</td>\n",
       "      <td>19451.24</td>\n",
       "    </tr>\n",
       "    <tr>\n",
       "      <th>14</th>\n",
       "      <td>2010</td>\n",
       "      <td>16340.26</td>\n",
       "      <td>7.38</td>\n",
       "      <td>21068.08</td>\n",
       "    </tr>\n",
       "    <tr>\n",
       "      <th>15</th>\n",
       "      <td>2011</td>\n",
       "      <td>16438.11</td>\n",
       "      <td>7.05</td>\n",
       "      <td>22564.37</td>\n",
       "    </tr>\n",
       "    <tr>\n",
       "      <th>16</th>\n",
       "      <td>2012</td>\n",
       "      <td>16902.72</td>\n",
       "      <td>7.34</td>\n",
       "      <td>22399.57</td>\n",
       "    </tr>\n",
       "    <tr>\n",
       "      <th>17</th>\n",
       "      <td>2013</td>\n",
       "      <td>17224.45</td>\n",
       "      <td>6.61</td>\n",
       "      <td>22618.29</td>\n",
       "    </tr>\n",
       "    <tr>\n",
       "      <th>18</th>\n",
       "      <td>2014</td>\n",
       "      <td>16857.77</td>\n",
       "      <td>7.02</td>\n",
       "      <td>22386.72</td>\n",
       "    </tr>\n",
       "  </tbody>\n",
       "</table>\n",
       "</div>"
      ],
      "text/plain": [
       "    Year  Labour force by sex and age (thousands)  \\\n",
       "0   1996                                  8901.22   \n",
       "1   1997                                  9233.51   \n",
       "2   1998                                  9481.71   \n",
       "3   1999                                  9644.77   \n",
       "4   2000                                  9722.58   \n",
       "5   2001                                  9853.15   \n",
       "6   2002                                  9971.88   \n",
       "7   2003                                 10589.22   \n",
       "8   2004                                 10701.84   \n",
       "9   2005                                 10764.06   \n",
       "10  2006                                 11038.44   \n",
       "11  2007                                 11052.00   \n",
       "12  2008                                 11153.99   \n",
       "13  2009                                 11386.26   \n",
       "14  2010                                 16340.26   \n",
       "15  2011                                 16438.11   \n",
       "16  2012                                 16902.72   \n",
       "17  2013                                 17224.45   \n",
       "18  2014                                 16857.77   \n",
       "\n",
       "    Unemployment rate by sex and age (%)  \\\n",
       "0                                  17.20   \n",
       "1                                  14.89   \n",
       "2                                  12.69   \n",
       "3                                  14.10   \n",
       "4                                  15.03   \n",
       "5                                  17.35   \n",
       "6                                  19.61   \n",
       "7                                  15.40   \n",
       "8                                  13.52   \n",
       "9                                  11.51   \n",
       "10                                 10.08   \n",
       "11                                  8.47   \n",
       "12                                  7.84   \n",
       "13                                  8.65   \n",
       "14                                  7.38   \n",
       "15                                  7.05   \n",
       "16                                  7.34   \n",
       "17                                  6.61   \n",
       "18                                  7.02   \n",
       "\n",
       "    Output per worker (GDP constant 2011 international $ in PPP)  \n",
       "0                                            18935.12             \n",
       "1                                            19646.35             \n",
       "2                                            19635.53             \n",
       "3                                            18988.12             \n",
       "4                                            18774.82             \n",
       "5                                            18131.25             \n",
       "6                                            16314.16             \n",
       "7                                            16721.13             \n",
       "8                                            16435.36             \n",
       "9                                            17279.78             \n",
       "10                                           18077.66             \n",
       "11                                           19229.30             \n",
       "12                                           19618.29             \n",
       "13                                           19451.24             \n",
       "14                                           21068.08             \n",
       "15                                           22564.37             \n",
       "16                                           22399.57             \n",
       "17                                           22618.29             \n",
       "18                                           22386.72             "
      ]
     },
     "execution_count": 7,
     "metadata": {},
     "output_type": "execute_result"
    }
   ],
   "source": [
    "arg_employment"
   ]
  },
  {
   "cell_type": "code",
   "execution_count": null,
   "metadata": {
    "collapsed": true
   },
   "outputs": [],
   "source": []
  },
  {
   "cell_type": "code",
   "execution_count": null,
   "metadata": {
    "collapsed": true
   },
   "outputs": [],
   "source": []
  },
  {
   "cell_type": "code",
   "execution_count": null,
   "metadata": {
    "collapsed": true
   },
   "outputs": [],
   "source": []
  }
 ],
 "metadata": {
  "anaconda-cloud": {},
  "kernelspec": {
   "display_name": "Python [conda root]",
   "language": "python",
   "name": "conda-root-py"
  },
  "language_info": {
   "codemirror_mode": {
    "name": "ipython",
    "version": 3
   },
   "file_extension": ".py",
   "mimetype": "text/x-python",
   "name": "python",
   "nbconvert_exporter": "python",
   "pygments_lexer": "ipython3",
   "version": "3.5.2"
  }
 },
 "nbformat": 4,
 "nbformat_minor": 1
}
