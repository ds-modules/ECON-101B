{
 "cells": [
  {
   "cell_type": "markdown",
   "metadata": {},
   "source": [
    "# Flexible Price Economy Problem Set (PS3)\n",
    "\n",
    "## Short-Run Economic Fluctuations: Flexible-Price Macroeconomics\n",
    "\n",
    "This assignment is due on Sunday 2-25-2018 at 5 PM.\n",
    "\n",
    "### Table of Contents\n",
    "\n",
    "1 - [Circular Flows and General Gluts](#chapter 7)\n",
    "\n",
    "2 - [The Full-Employment Long-Run Flexible-Price Macroeconomy: Behavioral Relationships](#chapter 8)\n",
    "\n",
    "3 - [The Flexible-Price Economy](#chapter 9)"
   ]
  },
  {
   "cell_type": "markdown",
   "metadata": {},
   "source": [
    "Run the cells below, and let's get started!"
   ]
  },
  {
   "cell_type": "code",
   "execution_count": null,
   "metadata": {},
   "outputs": [],
   "source": [
    "# imports\n",
    "import numpy as np\n",
    "import pandas as pd\n",
    "import matplotlib.pyplot as plt\n",
    "%matplotlib inline"
   ]
  },
  {
   "cell_type": "code",
   "execution_count": null,
   "metadata": {},
   "outputs": [],
   "source": [
    "# Don't change this cell; just run it. \n",
    "from client.api.notebook import Notebook\n",
    "ok = Notebook('flex_price.ok')\n",
    "#_ = ok.auth(inline=True)"
   ]
  },
  {
   "cell_type": "markdown",
   "metadata": {},
   "source": [
    "## Chapter 7: Circular Flows and General Gluts <a id='chapter 7'></a>\n",
    "\n",
    "#### Sources of Price Stickiness\n",
    "\n",
    "$1.$ Think about the four possible source of price stickiness: money illusion, \"fairness\" considerations, misperceptions of price changes, and menu costs. What have you read or seen in the past two months that strike you as examples of any of these four phenomena? Which of the four strikes you as most likely to be the most important? Be brief!—one paragraph only."
   ]
  },
  {
   "cell_type": "markdown",
   "metadata": {},
   "source": [
    "$Answer:$"
   ]
  },
  {
   "cell_type": "markdown",
   "metadata": {},
   "source": [
    "#### Institutional Sources of Price Stickiness \n",
    "\n",
    "$2.$ What changes in the economy's institutions can you think of that would diminish price stickiness and increase price flexibility? What advantage in terms of the size of the business cycle would you expect to follow from such changes in institutions? What disadvantages do you think that such institutional changes might have? One paragraph only."
   ]
  },
  {
   "cell_type": "markdown",
   "metadata": {},
   "source": [
    "$Answer:$"
   ]
  },
  {
   "cell_type": "markdown",
   "metadata": {},
   "source": [
    "#### Jean Baptiste Say \n",
    "\n",
    "$3.$ In 1803, Say claimed that because nobody makes anything without intending to use it or sell it, and nobody sells anything without intending to buy something else, that there could be no general shortage of demand in an economy-- that there could be a planned excess of supply of some commodities, but it would be balanced by a planned excess of demand of some other commodities. Was he wrong? Why was he wrong?"
   ]
  },
  {
   "cell_type": "markdown",
   "metadata": {},
   "source": [
    "$Answer:$"
   ]
  },
  {
   "cell_type": "markdown",
   "metadata": {},
   "source": [
    "## Chapter 8: Building Blocks of the Flexible Price Model <a id='chapter 8'></a>\n",
    "\n",
    "#### Visualizing production functions\n",
    "Consider an economy bound to the following production function:\n",
    "\n",
    "$$\n",
    "Y=K^α(EL)^{(1−α)} \n",
    "$$\n",
    "\n",
    "$1$. First, create a function `prod()` that takes as inputs K, α, E and L, and returns the quantity of potential output Y. You will use it later to visualize the trends in production as these parameters are changed."
   ]
  },
  {
   "cell_type": "code",
   "execution_count": null,
   "metadata": {},
   "outputs": [],
   "source": [
    "def prod(K, alpha, E, L):\n",
    "    return (K ** alpha) * (E * L) ** (1 - alpha) # your code here"
   ]
  },
  {
   "cell_type": "markdown",
   "metadata": {},
   "source": [
    "$2$. Next, we want to observe how each variable affects the potential output Y. Run the block below and use the sliders to adjust each of the variables. How does the potential output Y change as you vary K, α, E, and L? Give a brief description of each variable's effect on the Y value."
   ]
  },
  {
   "cell_type": "code",
   "execution_count": null,
   "metadata": {},
   "outputs": [],
   "source": [
    "from ipywidgets import interact, interactive, fixed, interact_manual\n",
    "import ipywidgets as widgets\n",
    "\n",
    "interact(prod,\n",
    "         K = widgets.IntSlider(min=0,max=1000000,step=1,value=500000), \n",
    "         alpha = widgets.FloatSlider(min=0,max=1,step=0.1,value=0.5), \n",
    "         E = widgets.IntSlider(min=0,max=1000000,step=1,value=500000), \n",
    "         L = widgets.IntSlider(min=0,max=1000000,step=1,value=500000))"
   ]
  },
  {
   "cell_type": "markdown",
   "metadata": {},
   "source": [
    "$Answer: $"
   ]
  },
  {
   "cell_type": "markdown",
   "metadata": {},
   "source": [
    "$3$. Lastly, plot the production function with respect to capital stock K and potential output Y, holding the supply of labor L and the efficiency of labor E fixed. Once you finish the function, we have provided you with input sliders for α, E, and L. How does the production function with respect to K and Y change as α, E, and L vary?"
   ]
  },
  {
   "cell_type": "code",
   "execution_count": null,
   "metadata": {
    "scrolled": false
   },
   "outputs": [],
   "source": [
    "def graph_prod_K(alpha, E, L):\n",
    "    K = np.linspace(0, 1000000, 1000000) # a range of K from 0 to 1000000 that we are using to plot the production function.     \n",
    "    production_function_k = prod(K, alpha, E, L) # Your code here\n",
    "    plt.plot(K, production_function_k)\n",
    "    plt.xlabel('Capital Stock (k)')\n",
    "    plt.ylabel('Real GDP (Y)')\n",
    "    plt.show()\n",
    "\n",
    "interact(graph_prod_K,\n",
    "         alpha = widgets.FloatSlider(min=0,max=1,step=0.1,value=0.5), \n",
    "         E = widgets.IntSlider(min=0,max=1000000,step=1,value=500000), \n",
    "         L = widgets.IntSlider(min=0,max=1000000,step=1,value=500000))"
   ]
  },
  {
   "cell_type": "markdown",
   "metadata": {},
   "source": [
    "$3.$ While playing with the sliders, you will notice that the `alpha` value determines the shape (slope and curvature) of the graph while `E` and `L` simply control scaling. In just a few sentences, and using a mathematical argument, give your best explanation as to why this is. (Hint: Examine the production function and think about what each variable is doing)"
   ]
  },
  {
   "cell_type": "markdown",
   "metadata": {},
   "source": [
    "$Answer:$"
   ]
  },
  {
   "cell_type": "markdown",
   "metadata": {},
   "source": [
    "#### Labor market equilibrium\n",
    "\n",
    "$1$. Suppose the demand curve for labor  $f$ and supply curve for labor  $g$ are given below.\n",
    "\n",
    "$$\n",
    "f = 10 - 4L\n",
    "$$\n",
    "\n",
    "$$\n",
    "g = 1 + 5L\n",
    "$$\n",
    "\n",
    "What is the equilibrium wage? ($L$ is thousands of hours of labor per week)"
   ]
  },
  {
   "cell_type": "markdown",
   "metadata": {},
   "source": [
    "$Answer:$"
   ]
  },
  {
   "cell_type": "markdown",
   "metadata": {},
   "source": [
    "$2$. Fill in your code below to plot the two curves. Do the curves make sense? What is the intersection point of the two lines? Are they the same with the values you calculated from the last problem?"
   ]
  },
  {
   "cell_type": "code",
   "execution_count": null,
   "metadata": {},
   "outputs": [],
   "source": [
    "def demand_for_labor(L):\n",
    "    return 10 - 4*L # Your code here\n",
    "\n",
    "def supply_for_labor(L):\n",
    "    return 1 + 5*L # Your code here\n",
    "\n",
    "L = np.arange(-10, 10, 1)\n",
    "f = demand_for_labor(L)\n",
    "g = supply_for_labor(L)\n",
    "\n",
    "plt.plot(f, L)\n",
    "plt.plot(g, L)\n",
    "plt.xlabel(\"thousands of hours of labor per week\")\n",
    "plt.ylabel(\"Real Wage($)\")\n",
    "y_intersect = 0\n",
    "for i in np.arange(0, len(f)):\n",
    "    if (f[i] == g[i]):\n",
    "        y_intersect = f[i]\n",
    "x_intersect = (y_intersect - 1) / 5 \n",
    "plt.scatter(y_intersect, x_intersect, color = \"red\")\n",
    "plt.show()\n",
    "print(\"Equilibrium wage is: $\" + str(x_intersect))\n",
    "print(\"Employment value is: \" + str(y_intersect) + \" thousands of hours per week\")"
   ]
  },
  {
   "cell_type": "markdown",
   "metadata": {},
   "source": [
    "## Chapter 9: Equilibrium in the Flexible Price Model <a id='chapter 9'></a>\n",
    "\n",
    "#### Adding Up National Product\n",
    "\n",
    "The simple income-expenditure model relies on the relationship between Planned Total Expenditure (PE) and real GDP (Y) to gauge economic equilibrium. If these two values become unequal, then the economy is no longer in equilibrium. It's time to enforce our understanding of the flex price model and how the component elements come into play.\n",
    "\n",
    "To calculate PE, one must simply add up *consumption spending* C, *investment spending* I, *government spending* G, and *net exports* NX. In simpler terms, \n",
    "\n",
    "$$\n",
    "PE=C+I+G+NX \n",
    "$$\n",
    "\n"
   ]
  },
  {
   "cell_type": "markdown",
   "metadata": {},
   "source": [
    "$1.$ The first parameter in calculating `PE`, consumption spending `C`, is itself reliant on several parameters. These are GDP `Y`, tax rate `t`, and `C0` and `Cy`, which determine baseline consumption and unit increase in consumption per unit increase in `Y`. `C` is calculated as such:\n",
    "\n",
    "$$\n",
    "C=C_0+C_y({1-t})Y\n",
    "$$\n",
    "\n",
    "**Write two functions**, one that will calculate consumption spending and another that will calculate planned total expenditure *using your consumption value*."
   ]
  },
  {
   "cell_type": "code",
   "execution_count": null,
   "metadata": {},
   "outputs": [],
   "source": [
    "def consumption(c0, cy, t, y):\n",
    "   # your code here\n",
    "    return c0 + cy*(1-t)*y\n",
    "\n",
    "def planned_expenditure(c, i, g, nx):\n",
    "    # your code here\n",
    "    return c + i + g + nx"
   ]
  },
  {
   "cell_type": "markdown",
   "metadata": {},
   "source": [
    "$2.$ Now we will use your functions to calculate Planned Total Expenditure for a few values of C, I, G, and NX. Using the provided array of GDP values, first calculate consumption when C0 = `1.43` trillion, Cy = `.73`, and t = `0.27`. Then, using the given values of I, G, and NX along with your consumption calculation, compute an array of PE values."
   ]
  },
  {
   "cell_type": "code",
   "execution_count": null,
   "metadata": {},
   "outputs": [],
   "source": [
    "# range of GDP values\n",
    "gdp = np.arange(1e9, 5e9+1e8, 1e8) # range of GDP values\n",
    "\n",
    "c = consumption(1.43e9, .73, .27, gdp) # your code here\n",
    "\n",
    "# Values of i, g, and nx to be used in calculating pe\n",
    "i = 1.8e8\n",
    "g = 1.4e8\n",
    "nx = 8.2e7\n",
    "\n",
    "pe = planned_expenditure(c, i, g, nx) # your code here"
   ]
  },
  {
   "cell_type": "markdown",
   "metadata": {},
   "source": [
    "$3.$ Now that you have a list of GDP values, along with a corresponding list of PE values, it's time to **plot them against one another**. Do that in the following code block, and make sure to label your axes so your plot is easily legible."
   ]
  },
  {
   "cell_type": "code",
   "execution_count": null,
   "metadata": {},
   "outputs": [],
   "source": [
    "# your code here\n",
    "plt.plot(gdp, pe)\n",
    "plt.xlabel(\"Real GDP (Billions of $)\")\n",
    "plt.ylabel(\"Planned Total Expenditure (Billions of $)\")"
   ]
  },
  {
   "cell_type": "markdown",
   "metadata": {},
   "source": [
    "$4.$ The diagonal line in your plot represents PE as a function of national income. Paste your code from above in the following cell block, then plot an additional line that represents a 1:1 relation between GDP and PE. This line, you remember, will be used to gauge economic equilibrium. Add a legend to your plot that distinguishes between your two lines (there are several ways to do this, but try using the `label` argument within `.plot`)."
   ]
  },
  {
   "cell_type": "code",
   "execution_count": null,
   "metadata": {},
   "outputs": [],
   "source": [
    "# your code here\n",
    "plt.plot(gdp, pe, label=\"PE as a function of GDP\")\n",
    "plt.xlabel(\"Real GDP (Billions of $)\")\n",
    "plt.ylabel(\"Planned Total Expenditure (Billions of $)\")\n",
    "plt.plot(gdp, gdp, label=\"Equilibrium line\")\n",
    "plt.legend()"
   ]
  },
  {
   "cell_type": "markdown",
   "metadata": {},
   "source": [
    "$5.$ What is the plot that you just made called? What is the name and significance of the intersection point of the two lines?"
   ]
  },
  {
   "cell_type": "markdown",
   "metadata": {},
   "source": [
    "$Answer: $"
   ]
  },
  {
   "cell_type": "markdown",
   "metadata": {},
   "source": [
    "$6.$ Now, remember that when prices are sticky, planned total expenditure is a good measure of real GDP. Why is this? When prices are not sticky, why would this no longer hold true? What does Keynes have to say about the role that planned expenditure plays in potential production?"
   ]
  },
  {
   "cell_type": "markdown",
   "metadata": {},
   "source": [
    "$Answer:$ "
   ]
  },
  {
   "cell_type": "markdown",
   "metadata": {},
   "source": [
    "Good job, you're done now!"
   ]
  },
  {
   "cell_type": "code",
   "execution_count": null,
   "metadata": {},
   "outputs": [],
   "source": [
    "# Don't forget to run this cell to submit your homework!\n",
    "#_ = ok.submit()"
   ]
  }
 ],
 "metadata": {
  "anaconda-cloud": {},
  "kernelspec": {
   "display_name": "Python 3",
   "language": "python",
   "name": "python3"
  },
  "language_info": {
   "codemirror_mode": {
    "name": "ipython",
    "version": 3
   },
   "file_extension": ".py",
   "mimetype": "text/x-python",
   "name": "python",
   "nbconvert_exporter": "python",
   "pygments_lexer": "ipython3",
   "version": "3.6.1"
  }
 },
 "nbformat": 4,
 "nbformat_minor": 2
}
