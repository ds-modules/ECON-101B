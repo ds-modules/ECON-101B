{
 "cells": [
  {
   "cell_type": "code",
   "execution_count": null,
   "metadata": {
    "collapsed": true,
    "scrolled": true
   },
   "outputs": [],
   "source": [
    "!pip install -U okpy\n",
    "from client.api.notebook import Notebook\n",
    "ok = Notebook('intro.ok')"
   ]
  },
  {
   "cell_type": "code",
   "execution_count": null,
   "metadata": {
    "collapsed": true
   },
   "outputs": [],
   "source": [
    "_ = ok.auth(force = True)"
   ]
  },
  {
   "cell_type": "code",
   "execution_count": null,
   "metadata": {
    "collapsed": true,
    "scrolled": true
   },
   "outputs": [],
   "source": [
    "_ = ok.grade('q12')\n",
    "_ = ok.backup()"
   ]
  },
  {
   "cell_type": "code",
   "execution_count": null,
   "metadata": {
    "collapsed": true
   },
   "outputs": [],
   "source": [
    "_ = ok.submit()"
   ]
  },
  {
   "cell_type": "code",
   "execution_count": 17,
   "metadata": {
    "collapsed": true
   },
   "outputs": [],
   "source": [
    "# imports\n",
    "import numpy as np\n",
    "import pandas as pd\n",
    "import seaborn as sns\n",
    "import ipywidgets as widgets\n",
    "from ipywidgets import interact\n",
    "import matplotlib.pyplot as plt\n",
    "%matplotlib inline"
   ]
  },
  {
   "cell_type": "markdown",
   "metadata": {},
   "source": [
    "Here is how to make an interactive model:"
   ]
  },
  {
   "cell_type": "code",
   "execution_count": 3,
   "metadata": {
    "collapsed": true
   },
   "outputs": [],
   "source": [
    "# make a function that takes in parameter[s] and graphs\n",
    "# stick that into interact"
   ]
  },
  {
   "cell_type": "markdown",
   "metadata": {},
   "source": [
    "# Introduction to programming concepts\n",
    "Welcome to 101B! This introductory notebook will familiarize you with some of the basic strategies for data analysis that will be useful to you throughout the course. Once you have completed setting up Python on your computer using `pip install`, move on to the next cells to begin."
   ]
  },
  {
   "cell_type": "markdown",
   "metadata": {},
   "source": [
    "## Part 1: Python basics\n",
    "Before getting into the more advanced analysis techniques that will be required in this course, we need to brush up on a few of the foundational elements of programming in Python.\n",
    "### A. Expressions\n",
    "The departure point for all programming is the concept of the __expression__. An expression is a combination of variables, operators, and other Python elements that the language interprets and acts upon. Expressions act as a set of instructions to be fed through the interpreter, with the goal of generating specific outcomes. See below for some examples of basic expressions."
   ]
  },
  {
   "cell_type": "code",
   "execution_count": 18,
   "metadata": {},
   "outputs": [
    {
     "name": "stdout",
     "output_type": "stream",
     "text": [
      "6.0\n"
     ]
    }
   ],
   "source": [
    "### Examples of expressions:\n",
    "a = 4\n",
    "b = 10/5\n",
    "### The two expressions above do not return anything – they simply store values to the computer.\n",
    "\n",
    "### An expression that returns an output:\n",
    "print(a + b)"
   ]
  },
  {
   "cell_type": "markdown",
   "metadata": {},
   "source": [
    "### B. Variables\n",
    "In the examples above, `a` and `b` are specific Python objects known as __variables__. The first two lines set the variables equal to numerical (one `integer` and one `float`) values, while the final line asks the interpreter to `print` their sum. Variables are stored within the notebook's environment, meaning stored variable values carry over from cell to cell."
   ]
  },
  {
   "cell_type": "code",
   "execution_count": 19,
   "metadata": {},
   "outputs": [
    {
     "name": "stdout",
     "output_type": "stream",
     "text": [
      "4\n"
     ]
    }
   ],
   "source": [
    "### Notice that 'a' retains its value.\n",
    "print(a)"
   ]
  },
  {
   "cell_type": "markdown",
   "metadata": {},
   "source": [
    "### Question 1: Variables\n",
    "See if you can write a series of expressions that creates two new variables called __x__ and __y__, assigns them values of __10.5__ and __7.2__, then prints their product."
   ]
  },
  {
   "cell_type": "code",
   "execution_count": 20,
   "metadata": {},
   "outputs": [
    {
     "name": "stdout",
     "output_type": "stream",
     "text": [
      "\n"
     ]
    }
   ],
   "source": [
    "### Fill in the missing lines to complete the expressions.\n",
    "x = ...\n",
    "...\n",
    "\n",
    "print()"
   ]
  },
  {
   "cell_type": "markdown",
   "metadata": {},
   "source": [
    "### C. Lists\n",
    "The next topic is particularly useful in the kind of data manipulation that you will see throughout 101B. The following few cells will introduce the concept of __lists__ (and their counterpart, `numpy arrays`). Read through the following cell to understand the basic structure of a list."
   ]
  },
  {
   "cell_type": "code",
   "execution_count": 21,
   "metadata": {},
   "outputs": [
    {
     "name": "stdout",
     "output_type": "stream",
     "text": [
      "6\n"
     ]
    }
   ],
   "source": [
    "### A list is initialized like this:\n",
    "lst = [1, 3, 6, 'lists', 'are' 'fun', 4]\n",
    "\n",
    "### And elements are selected like this:\n",
    "example = lst[2]\n",
    "\n",
    "### The above line selects the 3rd element of lst (list indices are 0-offset) and sets it to a variable named example.\n",
    "print(example)"
   ]
  },
  {
   "cell_type": "markdown",
   "metadata": {},
   "source": [
    "### Slicing lists\n",
    "As you can see from above, lists do not have to be made up of elements of the same kind. Indices do not have to be taken one at a time, either. Instead, we can take a slice of indices and return the elements at those indices as a separate list."
   ]
  },
  {
   "cell_type": "code",
   "execution_count": 22,
   "metadata": {},
   "outputs": [
    {
     "data": {
      "text/plain": [
       "[3, 6, 'lists']"
      ]
     },
     "execution_count": 22,
     "metadata": {},
     "output_type": "execute_result"
    }
   ],
   "source": [
    "### This line will store the first (inclusive) through fourth (exclusive) elements of lst as a new list called lst_2:\n",
    "lst_2 = lst[1:4]\n",
    "\n",
    "lst_2"
   ]
  },
  {
   "cell_type": "markdown",
   "metadata": {},
   "source": [
    "### Question 2: Lists\n",
    "Build a list of length 10 containing whatever elements you'd like. Then, slice it into a new list of length five using a index slicing. Finally, print the last element in your sliced list."
   ]
  },
  {
   "cell_type": "code",
   "execution_count": 9,
   "metadata": {
    "scrolled": true
   },
   "outputs": [
    {
     "ename": "TypeError",
     "evalue": "'ellipsis' object is not subscriptable",
     "output_type": "error",
     "traceback": [
      "\u001b[0;31m---------------------------------------------------------------------------\u001b[0m",
      "\u001b[0;31mTypeError\u001b[0m                                 Traceback (most recent call last)",
      "\u001b[0;32m<ipython-input-9-9192a0c0c62a>\u001b[0m in \u001b[0;36m<module>\u001b[0;34m()\u001b[0m\n\u001b[1;32m      2\u001b[0m \u001b[0mmy_list\u001b[0m \u001b[0;34m=\u001b[0m \u001b[0;34m...\u001b[0m\u001b[0;34m\u001b[0m\u001b[0m\n\u001b[1;32m      3\u001b[0m \u001b[0;34m\u001b[0m\u001b[0m\n\u001b[0;32m----> 4\u001b[0;31m \u001b[0mmy_list_sliced\u001b[0m \u001b[0;34m=\u001b[0m \u001b[0mmy_list\u001b[0m\u001b[0;34m[\u001b[0m\u001b[0;34m...\u001b[0m\u001b[0;34m]\u001b[0m\u001b[0;34m\u001b[0m\u001b[0m\n\u001b[0m\u001b[1;32m      5\u001b[0m \u001b[0;34m\u001b[0m\u001b[0m\n\u001b[1;32m      6\u001b[0m \u001b[0mprint\u001b[0m\u001b[0;34m(\u001b[0m\u001b[0;34m...\u001b[0m\u001b[0;34m)\u001b[0m\u001b[0;34m\u001b[0m\u001b[0m\n",
      "\u001b[0;31mTypeError\u001b[0m: 'ellipsis' object is not subscriptable"
     ]
    }
   ],
   "source": [
    "### Fill in the ellipses to complete the question.\n",
    "my_list = ...\n",
    "\n",
    "my_list_sliced = my_list[...]\n",
    "\n",
    "print(...)"
   ]
  },
  {
   "cell_type": "markdown",
   "metadata": {},
   "source": [
    "Lists can also be operated on with a few built-in analysis functions. These include `min` and `max`, among others. Lists can also be concatenated together. Find some examples below."
   ]
  },
  {
   "cell_type": "code",
   "execution_count": 23,
   "metadata": {},
   "outputs": [
    {
     "name": "stdout",
     "output_type": "stream",
     "text": [
      "Max of a_list: 13\n",
      "Min of b_list: 1\n",
      "Concatenated: [1, 6, 4, 8, 13, 2, 4, 5, 2, 14, 9, 11]\n"
     ]
    }
   ],
   "source": [
    "### A list containing six integers.\n",
    "a_list = [1, 6, 4, 8, 13, 2]\n",
    "\n",
    "### Another list containing six integers.\n",
    "b_list = [4, 5, 2, 14, 9, 11]\n",
    "\n",
    "print('Max of a_list:', max(a_list))\n",
    "print('Min of b_list:', min(a_list))\n",
    "\n",
    "### Concatenate a_list and b_list:\n",
    "c_list = a_list + b_list\n",
    "print('Concatenated:', c_list)"
   ]
  },
  {
   "cell_type": "markdown",
   "metadata": {},
   "source": [
    "### D. Numpy Arrays\n",
    "Closely related to the concept of a list is the array, a nested sequence of elements that is structurally identical to a list. Arrays, however, can be operated on arithmetically with much more versatility than regular lists. For the purpose of later data manipulation, we'll access arrays through Numpy, which will require an installation and an import statement.\n",
    "To install numpy, open your terminal and use the command:\n",
    "> `pip install numpy`\n",
    "\n",
    "Now run the next cell to import the numpy library into your notebook, and examine how numpy arrays can be used."
   ]
  },
  {
   "cell_type": "code",
   "execution_count": 11,
   "metadata": {
    "collapsed": true
   },
   "outputs": [],
   "source": [
    "import numpy as np"
   ]
  },
  {
   "cell_type": "code",
   "execution_count": 85,
   "metadata": {},
   "outputs": [
    {
     "data": {
      "text/plain": [
       "array([ 0,  2,  4,  6,  8, 10, 12, 14, 16, 18])"
      ]
     },
     "execution_count": 85,
     "metadata": {},
     "output_type": "execute_result"
    }
   ],
   "source": [
    "### Initialize an array of integers 0 through 9.\n",
    "example_array = np.array([0, 1, 2, 3, 4, 5, 6, 7, 8, 9])\n",
    "\n",
    "### This can also be accomplished using np.arange\n",
    "example_array_2 = np.arange(10)\n",
    "\n",
    "### Double the values in example_array and print the new array.\n",
    "double_array = example_array*2\n",
    "double_array"
   ]
  },
  {
   "cell_type": "markdown",
   "metadata": {},
   "source": [
    "### E. Looping\n",
    "Loops are often useful in manipulating, iterating over, or transforming large lists and arrays. The first type we will discuss is the __for loop__. For loops are helpful in traversing a list and performing an action at each element. For example, the following code moves through every element in example_array, adds it to the previous element in example_array, and copies this sum to a new array."
   ]
  },
  {
   "cell_type": "code",
   "execution_count": 86,
   "metadata": {},
   "outputs": [
    {
     "data": {
      "text/plain": [
       "[5, 6, 7, 8, 9, 10, 11, 12, 13, 14]"
      ]
     },
     "execution_count": 86,
     "metadata": {},
     "output_type": "execute_result"
    }
   ],
   "source": [
    "new_list = []\n",
    "\n",
    "for element in example_array:\n",
    "    new_element = element + 5\n",
    "    new_list.append(new_element)\n",
    "\n",
    "new_list"
   ]
  },
  {
   "cell_type": "markdown",
   "metadata": {
    "collapsed": true
   },
   "source": [
    "The most important line in the above cell is the \"`for element in...`\" line. This statement sets the structure of our  loop, instructing the machine to stop at every number in `example_array`, perform the indicated operations, and then move on. Once Python has stopped at every element in `example_array`, the loop is completed and the final line, which outputs `new_list`, is executed. It's important to note that \"element\" is an arbitrary variable name used to represent whichever index value the loop is currently operating on. We can change the variable name to whatever we want and achieve the same result, as long as we stay consistent. For example:"
   ]
  },
  {
   "cell_type": "code",
   "execution_count": 87,
   "metadata": {},
   "outputs": [
    {
     "data": {
      "text/plain": [
       "[5, 6, 7, 8, 9, 10, 11, 12, 13, 14]"
      ]
     },
     "execution_count": 87,
     "metadata": {},
     "output_type": "execute_result"
    }
   ],
   "source": [
    "newer_list = []\n",
    "\n",
    "for completely_arbitrary_name in example_array:\n",
    "    newer_element = completely_arbitrary_name + 5\n",
    "    newer_list.append(newer_element)\n",
    "    \n",
    "newer_list"
   ]
  },
  {
   "cell_type": "markdown",
   "metadata": {},
   "source": [
    "For loops can also iterate over ranges of numerical values. If I wanted to alter `example_array` without copying it over to a new list, I would use a numerical iterator to access list indices rather than the elements themselves. This iterator, called `i`, would range from 0, the value of the first index, to 9, the value of the last. I can make sure of this by using the built-in `range` and `len` functions."
   ]
  },
  {
   "cell_type": "code",
   "execution_count": 88,
   "metadata": {},
   "outputs": [
    {
     "data": {
      "text/plain": [
       "array([ 5,  6,  7,  8,  9, 10, 11, 12, 13, 14])"
      ]
     },
     "execution_count": 88,
     "metadata": {},
     "output_type": "execute_result"
    }
   ],
   "source": [
    "for i in range(len(example_array)):\n",
    "    example_array[i] = example_array[i] + 5\n",
    "\n",
    "example_array"
   ]
  },
  {
   "cell_type": "markdown",
   "metadata": {},
   "source": [
    "### Other types of loops\n",
    "The __while loop__ repeatedly performs operations until its conditional is no longer satisfied. In the below example, an array of integers 0 to 9 is generated. When the program enters the while loop on the subsequent line, it notices that the maximum value of the array is less than 50. Because of this, it adds 1 to the fifth element, as instructed. Once the instructions embedded in the loop are complete, the program refers back to the conditional. Again, the maximum value is less than 50. This process repeats until the the fifth element, now the maximum value of the array, is equal to 50, at which point the conditional is no longer true and the loop breaks."
   ]
  },
  {
   "cell_type": "code",
   "execution_count": 89,
   "metadata": {},
   "outputs": [
    {
     "name": "stdout",
     "output_type": "stream",
     "text": [
      "Before: [0 1 2 3 4 5 6 7 8 9]\n",
      "After: [ 0  1  2  3 50  5  6  7  8  9]\n"
     ]
    }
   ],
   "source": [
    "while_array = np.arange(10)        # Generate our array of values\n",
    "\n",
    "print('Before:', while_array)\n",
    "\n",
    "while(max(while_array) < 50):      # Set our conditional\n",
    "    while_array[4] += 1            # Add 1 to the fifth element if the conditional is satisfied \n",
    "    \n",
    "print('After:', while_array)"
   ]
  },
  {
   "cell_type": "markdown",
   "metadata": {},
   "source": [
    "### Question 3: Loops\n",
    "In the following cell, partial steps to manipulate an array are included. You must fill in the blanks to accomplish the following: <br>\n",
    "1. Iterate over the entire array, checking if each element is a multiple of 5\n",
    "2. If an element is not a multiple of 5, add 1 to it repeatedly until it is\n",
    "3. Iterate back over the list and print each element.\n",
    "\n",
    "> Hint: To check if an integer `x` is a multiple of `y`, use the modulus operator `%`. Typing `x % y` will return the remainder when `x` is divided by `y`. Therefore, (`x % y != 0`) will return `True` when `y` __does not divide__ `x`, and `False` when it does."
   ]
  },
  {
   "cell_type": "code",
   "execution_count": 77,
   "metadata": {},
   "outputs": [
    {
     "ename": "TypeError",
     "evalue": "object of type 'ellipsis' has no len()",
     "output_type": "error",
     "traceback": [
      "\u001b[0;31m---------------------------------------------------------------------------\u001b[0m",
      "\u001b[0;31mTypeError\u001b[0m                                 Traceback (most recent call last)",
      "\u001b[0;32m<ipython-input-77-5408e94cf910>\u001b[0m in \u001b[0;36m<module>\u001b[0;34m()\u001b[0m\n\u001b[1;32m      2\u001b[0m \u001b[0mquestion_3\u001b[0m \u001b[0;34m=\u001b[0m \u001b[0mnp\u001b[0m\u001b[0;34m.\u001b[0m\u001b[0marray\u001b[0m\u001b[0;34m(\u001b[0m\u001b[0;34m[\u001b[0m\u001b[0;36m12\u001b[0m\u001b[0;34m,\u001b[0m \u001b[0;36m31\u001b[0m\u001b[0;34m,\u001b[0m \u001b[0;36m50\u001b[0m\u001b[0;34m,\u001b[0m \u001b[0;36m0\u001b[0m\u001b[0;34m,\u001b[0m \u001b[0;36m22\u001b[0m\u001b[0;34m,\u001b[0m \u001b[0;36m28\u001b[0m\u001b[0;34m,\u001b[0m \u001b[0;36m19\u001b[0m\u001b[0;34m,\u001b[0m \u001b[0;36m105\u001b[0m\u001b[0;34m,\u001b[0m \u001b[0;36m44\u001b[0m\u001b[0;34m,\u001b[0m \u001b[0;36m12\u001b[0m\u001b[0;34m,\u001b[0m \u001b[0;36m77\u001b[0m\u001b[0;34m]\u001b[0m\u001b[0;34m)\u001b[0m\u001b[0;34m\u001b[0m\u001b[0m\n\u001b[1;32m      3\u001b[0m \u001b[0;34m\u001b[0m\u001b[0m\n\u001b[0;32m----> 4\u001b[0;31m \u001b[0;32mfor\u001b[0m \u001b[0mi\u001b[0m \u001b[0;32min\u001b[0m \u001b[0mrange\u001b[0m\u001b[0;34m(\u001b[0m\u001b[0mlen\u001b[0m\u001b[0;34m(\u001b[0m\u001b[0;34m...\u001b[0m\u001b[0;34m)\u001b[0m\u001b[0;34m)\u001b[0m\u001b[0;34m:\u001b[0m\u001b[0;34m\u001b[0m\u001b[0m\n\u001b[0m\u001b[1;32m      5\u001b[0m     \u001b[0;32mwhile\u001b[0m\u001b[0;34m(\u001b[0m\u001b[0;34m...\u001b[0m\u001b[0;34m)\u001b[0m\u001b[0;34m:\u001b[0m\u001b[0;34m\u001b[0m\u001b[0m\n\u001b[1;32m      6\u001b[0m         \u001b[0mquestion_3\u001b[0m\u001b[0;34m[\u001b[0m\u001b[0mi\u001b[0m\u001b[0;34m]\u001b[0m \u001b[0;34m=\u001b[0m \u001b[0;34m...\u001b[0m\u001b[0;34m\u001b[0m\u001b[0m\n",
      "\u001b[0;31mTypeError\u001b[0m: object of type 'ellipsis' has no len()"
     ]
    }
   ],
   "source": [
    "### Make use of iterators, range, length, while loops, and indices to complete this question.\n",
    "question_3 = np.array([12, 31, 50, 0, 22, 28, 19, 105, 44, 12, 77])\n",
    "\n",
    "for i in range(len(...)):\n",
    "    while(...):\n",
    "        question_3[i] = ...\n",
    "        \n",
    "for element in question_3:\n",
    "    print(...)"
   ]
  },
  {
   "cell_type": "markdown",
   "metadata": {},
   "source": [
    "### F. Functions!\n",
    "Functions are useful when you want to repeat a series of steps on multiple different objects, but don't want to type out the steps over and over again. Many functions are built into Python already; for example, you've already made use of `len()` to retrieve the number of elements in a list. You can also write your own functions, though, and at this point you already have the skills to do so. <br>\n",
    "Functions generally take a set of __parameters__, which define the objects they will use when they are run. For example, the `len()` function takes a list or array as its parameter, and returns the length of that list. <br>\n",
    "The following cell gives an example of an extremely simple function, called `add_two`, which takes as its parameter an integer and returns that integer with, you guessed it, 2 added to it."
   ]
  },
  {
   "cell_type": "code",
   "execution_count": 93,
   "metadata": {
    "collapsed": true
   },
   "outputs": [],
   "source": [
    "# An adder function that adds 2 to the given n.\n",
    "def add_two(n):\n",
    "    return n + 2"
   ]
  },
  {
   "cell_type": "code",
   "execution_count": 94,
   "metadata": {},
   "outputs": [
    {
     "data": {
      "text/plain": [
       "7"
      ]
     },
     "execution_count": 94,
     "metadata": {},
     "output_type": "execute_result"
    }
   ],
   "source": [
    "add_two(5)"
   ]
  },
  {
   "cell_type": "markdown",
   "metadata": {},
   "source": [
    "Easy enough, right? Let's look at a function that takes two parameters, compares them somehow, and then returns a boolean value (`True` or `False`) depending on the comparison. The `is_multiple` function below takes as parameters an integer `m` and an integer `n`, checks if `m` is a multiple of `n`, and returns `True` if it is. Otherwise, it returns `False`."
   ]
  },
  {
   "cell_type": "code",
   "execution_count": 95,
   "metadata": {
    "collapsed": true
   },
   "outputs": [],
   "source": [
    "def is_multiple(m, n):\n",
    "    if (m % n == 0):\n",
    "        return True\n",
    "    else:\n",
    "        return False"
   ]
  },
  {
   "cell_type": "code",
   "execution_count": 105,
   "metadata": {},
   "outputs": [
    {
     "data": {
      "text/plain": [
       "True"
      ]
     },
     "execution_count": 105,
     "metadata": {},
     "output_type": "execute_result"
    }
   ],
   "source": [
    "is_multiple(12, 4)"
   ]
  },
  {
   "cell_type": "code",
   "execution_count": 106,
   "metadata": {},
   "outputs": [
    {
     "data": {
      "text/plain": [
       "False"
      ]
     },
     "execution_count": 106,
     "metadata": {},
     "output_type": "execute_result"
    }
   ],
   "source": [
    "is_multiple(12, 7)"
   ]
  },
  {
   "cell_type": "markdown",
   "metadata": {},
   "source": [
    "Since functions are so easily replicable, we can include them in loops if we want. For instance, our `is_multiple` function can be used to check if a number is prime! See for yourself by testing some possible prime numbers in the cell below."
   ]
  },
  {
   "cell_type": "code",
   "execution_count": 154,
   "metadata": {},
   "outputs": [
    {
     "name": "stdout",
     "output_type": "stream",
     "text": [
      "9999991 is prime\n"
     ]
    }
   ],
   "source": [
    "# Change possible_prime to any integer to test its primality\n",
    "# NOTE: If you happen to stumble across a large (> 8 digits) prime number, the cell could take a very, very long time\n",
    "# to run and will likely crash your kernel. Just click kernel>interrupt if it looks like it's caught.\n",
    "\n",
    "possible_prime = 9999991\n",
    "\n",
    "for i in range(2, possible_prime):\n",
    "    if (is_multiple(possible_prime, i)):\n",
    "        print(possible_prime, 'is not prime')   \n",
    "        break\n",
    "    if (i >= possible_prime/2):\n",
    "        print(possible_prime, 'is prime')\n",
    "        break"
   ]
  },
  {
   "cell_type": "markdown",
   "metadata": {},
   "source": [
    "### Question 4: Writing functions\n",
    "In the following cell, complete a function that will take as its parameters a list and two integers x and y, iterate through the list, and replace any number in the list that is a multiple of x with y.\n",
    "> Hint: use the is_multiple() function to streamline your code."
   ]
  },
  {
   "cell_type": "code",
   "execution_count": 156,
   "metadata": {
    "collapsed": true
   },
   "outputs": [],
   "source": [
    "def replace_with_y(lst, x, y):\n",
    "    for i in range(...):\n",
    "        if(...):\n",
    "            ...\n",
    "    return lst"
   ]
  },
  {
   "cell_type": "markdown",
   "metadata": {},
   "source": [
    "## Part 2: Visualization and Regression"
   ]
  },
  {
   "cell_type": "markdown",
   "metadata": {},
   "source": [
    "Now that you have completed the Python tutorial, you are now ready to learn about how to visualize data and how to analyze data with regression. To begin, run the cells below to install and import the required packages we will be using for this tutorial.\n",
    "\n"
   ]
  },
  {
   "cell_type": "code",
   "execution_count": null,
   "metadata": {
    "collapsed": true
   },
   "outputs": [],
   "source": [
    "!pip install numpy\n",
    "!pip install pandas\n",
    "!pip install sklearn\n",
    "!pip install matplotlib"
   ]
  },
  {
   "cell_type": "code",
   "execution_count": 32,
   "metadata": {
    "collapsed": true
   },
   "outputs": [],
   "source": [
    "%matplotlib inline\n",
    "import numpy as np \n",
    "import pandas as pd\n",
    "import sklearn as sk \n",
    "import matplotlib.pyplot as plt"
   ]
  },
  {
   "cell_type": "markdown",
   "metadata": {},
   "source": [
    "We will be using the US unemployment data from https://fred.stlouisfed.org/ show what we can do with data. Let's start by importing the .csv file data with pandas. The statement below will put the csv file into a pandas DataFrame, a data structure for holding tabular (2D) data."
   ]
  },
  {
   "cell_type": "code",
   "execution_count": 43,
   "metadata": {},
   "outputs": [
    {
     "data": {
      "text/html": [
       "<div>\n",
       "<table border=\"1\" class=\"dataframe\">\n",
       "  <thead>\n",
       "    <tr style=\"text-align: right;\">\n",
       "      <th></th>\n",
       "      <th>date</th>\n",
       "      <th>total_unemployed</th>\n",
       "      <th>more_than_15_weeks</th>\n",
       "      <th>not_in_labor_searched_for_work</th>\n",
       "      <th>multi_jobs</th>\n",
       "      <th>leavers</th>\n",
       "      <th>losers</th>\n",
       "      <th>housing_price_index</th>\n",
       "    </tr>\n",
       "  </thead>\n",
       "  <tbody>\n",
       "    <tr>\n",
       "      <th>0</th>\n",
       "      <td>11/1/10</td>\n",
       "      <td>16.9</td>\n",
       "      <td>8696.0</td>\n",
       "      <td>2531.0</td>\n",
       "      <td>6708.0</td>\n",
       "      <td>5.7</td>\n",
       "      <td>63.0</td>\n",
       "      <td>186.07</td>\n",
       "    </tr>\n",
       "    <tr>\n",
       "      <th>1</th>\n",
       "      <td>12/1/10</td>\n",
       "      <td>16.6</td>\n",
       "      <td>8549.0</td>\n",
       "      <td>2609.0</td>\n",
       "      <td>6899.0</td>\n",
       "      <td>6.4</td>\n",
       "      <td>61.2</td>\n",
       "      <td>183.27</td>\n",
       "    </tr>\n",
       "    <tr>\n",
       "      <th>2</th>\n",
       "      <td>1/1/11</td>\n",
       "      <td>16.2</td>\n",
       "      <td>8393.0</td>\n",
       "      <td>2800.0</td>\n",
       "      <td>6816.0</td>\n",
       "      <td>6.5</td>\n",
       "      <td>60.1</td>\n",
       "      <td>181.35</td>\n",
       "    </tr>\n",
       "    <tr>\n",
       "      <th>3</th>\n",
       "      <td>2/1/11</td>\n",
       "      <td>16.0</td>\n",
       "      <td>8175.0</td>\n",
       "      <td>2730.0</td>\n",
       "      <td>6741.0</td>\n",
       "      <td>6.4</td>\n",
       "      <td>60.2</td>\n",
       "      <td>179.66</td>\n",
       "    </tr>\n",
       "    <tr>\n",
       "      <th>4</th>\n",
       "      <td>3/1/11</td>\n",
       "      <td>15.9</td>\n",
       "      <td>8166.0</td>\n",
       "      <td>2434.0</td>\n",
       "      <td>6735.0</td>\n",
       "      <td>6.4</td>\n",
       "      <td>60.3</td>\n",
       "      <td>178.84</td>\n",
       "    </tr>\n",
       "    <tr>\n",
       "      <th>5</th>\n",
       "      <td>4/1/11</td>\n",
       "      <td>16.1</td>\n",
       "      <td>8016.0</td>\n",
       "      <td>2466.0</td>\n",
       "      <td>6823.0</td>\n",
       "      <td>6.8</td>\n",
       "      <td>59.4</td>\n",
       "      <td>180.80</td>\n",
       "    </tr>\n",
       "    <tr>\n",
       "      <th>6</th>\n",
       "      <td>5/1/11</td>\n",
       "      <td>15.8</td>\n",
       "      <td>8205.0</td>\n",
       "      <td>2206.0</td>\n",
       "      <td>6880.0</td>\n",
       "      <td>6.6</td>\n",
       "      <td>60.0</td>\n",
       "      <td>182.11</td>\n",
       "    </tr>\n",
       "    <tr>\n",
       "      <th>7</th>\n",
       "      <td>6/1/11</td>\n",
       "      <td>16.1</td>\n",
       "      <td>8143.0</td>\n",
       "      <td>2680.0</td>\n",
       "      <td>6946.0</td>\n",
       "      <td>7.0</td>\n",
       "      <td>58.8</td>\n",
       "      <td>183.85</td>\n",
       "    </tr>\n",
       "    <tr>\n",
       "      <th>8</th>\n",
       "      <td>7/1/11</td>\n",
       "      <td>15.9</td>\n",
       "      <td>8177.0</td>\n",
       "      <td>2785.0</td>\n",
       "      <td>6850.0</td>\n",
       "      <td>6.8</td>\n",
       "      <td>59.2</td>\n",
       "      <td>184.25</td>\n",
       "    </tr>\n",
       "    <tr>\n",
       "      <th>9</th>\n",
       "      <td>8/1/11</td>\n",
       "      <td>16.1</td>\n",
       "      <td>8247.0</td>\n",
       "      <td>2575.0</td>\n",
       "      <td>6940.0</td>\n",
       "      <td>7.1</td>\n",
       "      <td>58.2</td>\n",
       "      <td>182.97</td>\n",
       "    </tr>\n",
       "    <tr>\n",
       "      <th>10</th>\n",
       "      <td>9/1/11</td>\n",
       "      <td>16.4</td>\n",
       "      <td>8316.0</td>\n",
       "      <td>2511.0</td>\n",
       "      <td>6995.0</td>\n",
       "      <td>7.0</td>\n",
       "      <td>58.0</td>\n",
       "      <td>183.21</td>\n",
       "    </tr>\n",
       "    <tr>\n",
       "      <th>11</th>\n",
       "      <td>10/1/11</td>\n",
       "      <td>15.8</td>\n",
       "      <td>7802.0</td>\n",
       "      <td>2555.0</td>\n",
       "      <td>6917.0</td>\n",
       "      <td>8.0</td>\n",
       "      <td>57.9</td>\n",
       "      <td>181.51</td>\n",
       "    </tr>\n",
       "    <tr>\n",
       "      <th>12</th>\n",
       "      <td>11/1/11</td>\n",
       "      <td>15.5</td>\n",
       "      <td>7706.0</td>\n",
       "      <td>2591.0</td>\n",
       "      <td>6946.0</td>\n",
       "      <td>7.6</td>\n",
       "      <td>57.5</td>\n",
       "      <td>181.77</td>\n",
       "    </tr>\n",
       "    <tr>\n",
       "      <th>13</th>\n",
       "      <td>12/1/11</td>\n",
       "      <td>15.2</td>\n",
       "      <td>7545.0</td>\n",
       "      <td>2540.0</td>\n",
       "      <td>6977.0</td>\n",
       "      <td>7.2</td>\n",
       "      <td>57.5</td>\n",
       "      <td>181.03</td>\n",
       "    </tr>\n",
       "    <tr>\n",
       "      <th>14</th>\n",
       "      <td>1/1/12</td>\n",
       "      <td>15.2</td>\n",
       "      <td>7433.0</td>\n",
       "      <td>2809.0</td>\n",
       "      <td>7022.0</td>\n",
       "      <td>7.4</td>\n",
       "      <td>57.1</td>\n",
       "      <td>179.13</td>\n",
       "    </tr>\n",
       "    <tr>\n",
       "      <th>15</th>\n",
       "      <td>2/1/12</td>\n",
       "      <td>15.0</td>\n",
       "      <td>7293.0</td>\n",
       "      <td>2608.0</td>\n",
       "      <td>6966.0</td>\n",
       "      <td>8.0</td>\n",
       "      <td>55.4</td>\n",
       "      <td>179.83</td>\n",
       "    </tr>\n",
       "    <tr>\n",
       "      <th>16</th>\n",
       "      <td>3/1/12</td>\n",
       "      <td>14.5</td>\n",
       "      <td>7176.0</td>\n",
       "      <td>2352.0</td>\n",
       "      <td>6954.0</td>\n",
       "      <td>8.6</td>\n",
       "      <td>55.0</td>\n",
       "      <td>182.49</td>\n",
       "    </tr>\n",
       "    <tr>\n",
       "      <th>17</th>\n",
       "      <td>4/1/12</td>\n",
       "      <td>14.6</td>\n",
       "      <td>7072.0</td>\n",
       "      <td>2363.0</td>\n",
       "      <td>6903.0</td>\n",
       "      <td>8.0</td>\n",
       "      <td>54.2</td>\n",
       "      <td>185.29</td>\n",
       "    </tr>\n",
       "    <tr>\n",
       "      <th>18</th>\n",
       "      <td>5/1/12</td>\n",
       "      <td>14.7</td>\n",
       "      <td>7091.0</td>\n",
       "      <td>2423.0</td>\n",
       "      <td>6980.0</td>\n",
       "      <td>7.1</td>\n",
       "      <td>55.3</td>\n",
       "      <td>188.26</td>\n",
       "    </tr>\n",
       "    <tr>\n",
       "      <th>19</th>\n",
       "      <td>6/1/12</td>\n",
       "      <td>14.8</td>\n",
       "      <td>7227.0</td>\n",
       "      <td>2483.0</td>\n",
       "      <td>6804.0</td>\n",
       "      <td>7.3</td>\n",
       "      <td>56.2</td>\n",
       "      <td>190.15</td>\n",
       "    </tr>\n",
       "    <tr>\n",
       "      <th>20</th>\n",
       "      <td>7/1/12</td>\n",
       "      <td>14.8</td>\n",
       "      <td>6983.0</td>\n",
       "      <td>2529.0</td>\n",
       "      <td>6916.0</td>\n",
       "      <td>6.9</td>\n",
       "      <td>56.2</td>\n",
       "      <td>190.39</td>\n",
       "    </tr>\n",
       "    <tr>\n",
       "      <th>21</th>\n",
       "      <td>8/1/12</td>\n",
       "      <td>14.6</td>\n",
       "      <td>6889.0</td>\n",
       "      <td>2561.0</td>\n",
       "      <td>6921.0</td>\n",
       "      <td>7.6</td>\n",
       "      <td>55.2</td>\n",
       "      <td>190.60</td>\n",
       "    </tr>\n",
       "    <tr>\n",
       "      <th>22</th>\n",
       "      <td>9/1/12</td>\n",
       "      <td>14.8</td>\n",
       "      <td>6775.0</td>\n",
       "      <td>2517.0</td>\n",
       "      <td>6865.0</td>\n",
       "      <td>7.9</td>\n",
       "      <td>54.3</td>\n",
       "      <td>190.44</td>\n",
       "    </tr>\n",
       "    <tr>\n",
       "      <th>23</th>\n",
       "      <td>10/1/12</td>\n",
       "      <td>14.4</td>\n",
       "      <td>6784.0</td>\n",
       "      <td>2433.0</td>\n",
       "      <td>6888.0</td>\n",
       "      <td>8.5</td>\n",
       "      <td>53.8</td>\n",
       "      <td>190.84</td>\n",
       "    </tr>\n",
       "    <tr>\n",
       "      <th>24</th>\n",
       "      <td>11/1/12</td>\n",
       "      <td>14.4</td>\n",
       "      <td>6550.0</td>\n",
       "      <td>2505.0</td>\n",
       "      <td>7060.0</td>\n",
       "      <td>7.6</td>\n",
       "      <td>53.7</td>\n",
       "      <td>191.13</td>\n",
       "    </tr>\n",
       "    <tr>\n",
       "      <th>25</th>\n",
       "      <td>12/1/12</td>\n",
       "      <td>14.4</td>\n",
       "      <td>6629.0</td>\n",
       "      <td>2614.0</td>\n",
       "      <td>7003.0</td>\n",
       "      <td>8.0</td>\n",
       "      <td>52.6</td>\n",
       "      <td>190.66</td>\n",
       "    </tr>\n",
       "    <tr>\n",
       "      <th>26</th>\n",
       "      <td>1/1/13</td>\n",
       "      <td>14.5</td>\n",
       "      <td>6534.0</td>\n",
       "      <td>2443.0</td>\n",
       "      <td>6912.0</td>\n",
       "      <td>8.1</td>\n",
       "      <td>53.7</td>\n",
       "      <td>190.50</td>\n",
       "    </tr>\n",
       "    <tr>\n",
       "      <th>27</th>\n",
       "      <td>2/1/13</td>\n",
       "      <td>14.4</td>\n",
       "      <td>6367.0</td>\n",
       "      <td>2588.0</td>\n",
       "      <td>7285.0</td>\n",
       "      <td>8.0</td>\n",
       "      <td>54.0</td>\n",
       "      <td>192.07</td>\n",
       "    </tr>\n",
       "    <tr>\n",
       "      <th>28</th>\n",
       "      <td>3/1/13</td>\n",
       "      <td>13.8</td>\n",
       "      <td>6292.0</td>\n",
       "      <td>2326.0</td>\n",
       "      <td>7074.0</td>\n",
       "      <td>8.3</td>\n",
       "      <td>53.7</td>\n",
       "      <td>195.67</td>\n",
       "    </tr>\n",
       "    <tr>\n",
       "      <th>29</th>\n",
       "      <td>4/1/13</td>\n",
       "      <td>14.0</td>\n",
       "      <td>6345.0</td>\n",
       "      <td>2347.0</td>\n",
       "      <td>7007.0</td>\n",
       "      <td>7.5</td>\n",
       "      <td>54.3</td>\n",
       "      <td>198.43</td>\n",
       "    </tr>\n",
       "    <tr>\n",
       "      <th>...</th>\n",
       "      <td>...</td>\n",
       "      <td>...</td>\n",
       "      <td>...</td>\n",
       "      <td>...</td>\n",
       "      <td>...</td>\n",
       "      <td>...</td>\n",
       "      <td>...</td>\n",
       "      <td>...</td>\n",
       "    </tr>\n",
       "    <tr>\n",
       "      <th>44</th>\n",
       "      <td>7/1/14</td>\n",
       "      <td>12.2</td>\n",
       "      <td>4602.0</td>\n",
       "      <td>2178.0</td>\n",
       "      <td>7006.0</td>\n",
       "      <td>8.9</td>\n",
       "      <td>49.6</td>\n",
       "      <td>215.58</td>\n",
       "    </tr>\n",
       "    <tr>\n",
       "      <th>45</th>\n",
       "      <td>8/1/14</td>\n",
       "      <td>12.0</td>\n",
       "      <td>4488.0</td>\n",
       "      <td>2141.0</td>\n",
       "      <td>7122.0</td>\n",
       "      <td>8.9</td>\n",
       "      <td>49.6</td>\n",
       "      <td>215.47</td>\n",
       "    </tr>\n",
       "    <tr>\n",
       "      <th>46</th>\n",
       "      <td>9/1/14</td>\n",
       "      <td>11.8</td>\n",
       "      <td>4407.0</td>\n",
       "      <td>2226.0</td>\n",
       "      <td>7129.0</td>\n",
       "      <td>8.8</td>\n",
       "      <td>48.8</td>\n",
       "      <td>214.60</td>\n",
       "    </tr>\n",
       "    <tr>\n",
       "      <th>47</th>\n",
       "      <td>10/1/14</td>\n",
       "      <td>11.5</td>\n",
       "      <td>4308.0</td>\n",
       "      <td>2192.0</td>\n",
       "      <td>7577.0</td>\n",
       "      <td>8.6</td>\n",
       "      <td>48.1</td>\n",
       "      <td>214.88</td>\n",
       "    </tr>\n",
       "    <tr>\n",
       "      <th>48</th>\n",
       "      <td>11/1/14</td>\n",
       "      <td>11.4</td>\n",
       "      <td>4229.0</td>\n",
       "      <td>2109.0</td>\n",
       "      <td>7303.0</td>\n",
       "      <td>9.1</td>\n",
       "      <td>49.3</td>\n",
       "      <td>215.08</td>\n",
       "    </tr>\n",
       "    <tr>\n",
       "      <th>49</th>\n",
       "      <td>12/1/14</td>\n",
       "      <td>11.2</td>\n",
       "      <td>4037.0</td>\n",
       "      <td>2260.0</td>\n",
       "      <td>7214.0</td>\n",
       "      <td>9.0</td>\n",
       "      <td>49.3</td>\n",
       "      <td>215.49</td>\n",
       "    </tr>\n",
       "    <tr>\n",
       "      <th>50</th>\n",
       "      <td>1/1/15</td>\n",
       "      <td>11.3</td>\n",
       "      <td>4180.0</td>\n",
       "      <td>2234.0</td>\n",
       "      <td>7454.0</td>\n",
       "      <td>9.7</td>\n",
       "      <td>47.7</td>\n",
       "      <td>214.16</td>\n",
       "    </tr>\n",
       "    <tr>\n",
       "      <th>51</th>\n",
       "      <td>2/1/15</td>\n",
       "      <td>11.0</td>\n",
       "      <td>3987.0</td>\n",
       "      <td>2159.0</td>\n",
       "      <td>7098.0</td>\n",
       "      <td>10.3</td>\n",
       "      <td>48.6</td>\n",
       "      <td>216.25</td>\n",
       "    </tr>\n",
       "    <tr>\n",
       "      <th>52</th>\n",
       "      <td>3/1/15</td>\n",
       "      <td>10.9</td>\n",
       "      <td>3777.0</td>\n",
       "      <td>2055.0</td>\n",
       "      <td>7127.0</td>\n",
       "      <td>10.2</td>\n",
       "      <td>49.2</td>\n",
       "      <td>218.76</td>\n",
       "    </tr>\n",
       "    <tr>\n",
       "      <th>53</th>\n",
       "      <td>4/1/15</td>\n",
       "      <td>10.8</td>\n",
       "      <td>3644.0</td>\n",
       "      <td>2115.0</td>\n",
       "      <td>7016.0</td>\n",
       "      <td>9.7</td>\n",
       "      <td>48.7</td>\n",
       "      <td>221.71</td>\n",
       "    </tr>\n",
       "    <tr>\n",
       "      <th>54</th>\n",
       "      <td>5/1/15</td>\n",
       "      <td>10.7</td>\n",
       "      <td>3789.0</td>\n",
       "      <td>1862.0</td>\n",
       "      <td>7008.0</td>\n",
       "      <td>9.6</td>\n",
       "      <td>49.4</td>\n",
       "      <td>224.79</td>\n",
       "    </tr>\n",
       "    <tr>\n",
       "      <th>55</th>\n",
       "      <td>6/1/15</td>\n",
       "      <td>10.5</td>\n",
       "      <td>3532.0</td>\n",
       "      <td>1914.0</td>\n",
       "      <td>7184.0</td>\n",
       "      <td>9.3</td>\n",
       "      <td>49.2</td>\n",
       "      <td>226.96</td>\n",
       "    </tr>\n",
       "    <tr>\n",
       "      <th>56</th>\n",
       "      <td>7/1/15</td>\n",
       "      <td>10.3</td>\n",
       "      <td>3359.0</td>\n",
       "      <td>1927.0</td>\n",
       "      <td>7239.0</td>\n",
       "      <td>10.4</td>\n",
       "      <td>49.6</td>\n",
       "      <td>227.98</td>\n",
       "    </tr>\n",
       "    <tr>\n",
       "      <th>57</th>\n",
       "      <td>8/1/15</td>\n",
       "      <td>10.2</td>\n",
       "      <td>3463.0</td>\n",
       "      <td>1812.0</td>\n",
       "      <td>7217.0</td>\n",
       "      <td>9.8</td>\n",
       "      <td>49.8</td>\n",
       "      <td>227.39</td>\n",
       "    </tr>\n",
       "    <tr>\n",
       "      <th>58</th>\n",
       "      <td>9/1/15</td>\n",
       "      <td>10.0</td>\n",
       "      <td>3336.0</td>\n",
       "      <td>1921.0</td>\n",
       "      <td>7314.0</td>\n",
       "      <td>9.8</td>\n",
       "      <td>48.6</td>\n",
       "      <td>227.68</td>\n",
       "    </tr>\n",
       "    <tr>\n",
       "      <th>59</th>\n",
       "      <td>10/1/15</td>\n",
       "      <td>9.8</td>\n",
       "      <td>3344.0</td>\n",
       "      <td>1916.0</td>\n",
       "      <td>7377.0</td>\n",
       "      <td>9.7</td>\n",
       "      <td>49.7</td>\n",
       "      <td>227.71</td>\n",
       "    </tr>\n",
       "    <tr>\n",
       "      <th>60</th>\n",
       "      <td>11/1/15</td>\n",
       "      <td>9.9</td>\n",
       "      <td>3330.0</td>\n",
       "      <td>1717.0</td>\n",
       "      <td>7323.0</td>\n",
       "      <td>9.9</td>\n",
       "      <td>48.9</td>\n",
       "      <td>228.32</td>\n",
       "    </tr>\n",
       "    <tr>\n",
       "      <th>61</th>\n",
       "      <td>12/1/15</td>\n",
       "      <td>9.9</td>\n",
       "      <td>3327.0</td>\n",
       "      <td>1833.0</td>\n",
       "      <td>7743.0</td>\n",
       "      <td>10.3</td>\n",
       "      <td>47.7</td>\n",
       "      <td>228.21</td>\n",
       "    </tr>\n",
       "    <tr>\n",
       "      <th>62</th>\n",
       "      <td>1/1/16</td>\n",
       "      <td>9.9</td>\n",
       "      <td>3234.0</td>\n",
       "      <td>2089.0</td>\n",
       "      <td>7470.0</td>\n",
       "      <td>9.9</td>\n",
       "      <td>47.6</td>\n",
       "      <td>227.45</td>\n",
       "    </tr>\n",
       "    <tr>\n",
       "      <th>63</th>\n",
       "      <td>2/1/16</td>\n",
       "      <td>9.8</td>\n",
       "      <td>3299.0</td>\n",
       "      <td>1803.0</td>\n",
       "      <td>7343.0</td>\n",
       "      <td>9.7</td>\n",
       "      <td>48.3</td>\n",
       "      <td>228.94</td>\n",
       "    </tr>\n",
       "    <tr>\n",
       "      <th>64</th>\n",
       "      <td>3/1/16</td>\n",
       "      <td>9.8</td>\n",
       "      <td>3380.0</td>\n",
       "      <td>1720.0</td>\n",
       "      <td>7457.0</td>\n",
       "      <td>10.5</td>\n",
       "      <td>48.4</td>\n",
       "      <td>232.86</td>\n",
       "    </tr>\n",
       "    <tr>\n",
       "      <th>65</th>\n",
       "      <td>4/1/16</td>\n",
       "      <td>9.7</td>\n",
       "      <td>3340.0</td>\n",
       "      <td>1715.0</td>\n",
       "      <td>7416.0</td>\n",
       "      <td>10.9</td>\n",
       "      <td>48.8</td>\n",
       "      <td>235.18</td>\n",
       "    </tr>\n",
       "    <tr>\n",
       "      <th>66</th>\n",
       "      <td>5/1/16</td>\n",
       "      <td>9.7</td>\n",
       "      <td>3068.0</td>\n",
       "      <td>1713.0</td>\n",
       "      <td>7428.0</td>\n",
       "      <td>10.8</td>\n",
       "      <td>48.0</td>\n",
       "      <td>238.09</td>\n",
       "    </tr>\n",
       "    <tr>\n",
       "      <th>67</th>\n",
       "      <td>6/1/16</td>\n",
       "      <td>9.6</td>\n",
       "      <td>3126.0</td>\n",
       "      <td>1779.0</td>\n",
       "      <td>7229.0</td>\n",
       "      <td>10.8</td>\n",
       "      <td>48.5</td>\n",
       "      <td>240.33</td>\n",
       "    </tr>\n",
       "    <tr>\n",
       "      <th>68</th>\n",
       "      <td>7/1/16</td>\n",
       "      <td>9.7</td>\n",
       "      <td>3175.0</td>\n",
       "      <td>1950.0</td>\n",
       "      <td>7442.0</td>\n",
       "      <td>10.9</td>\n",
       "      <td>48.4</td>\n",
       "      <td>241.59</td>\n",
       "    </tr>\n",
       "    <tr>\n",
       "      <th>69</th>\n",
       "      <td>8/1/16</td>\n",
       "      <td>9.7</td>\n",
       "      <td>3077.0</td>\n",
       "      <td>1713.0</td>\n",
       "      <td>7573.0</td>\n",
       "      <td>11.4</td>\n",
       "      <td>48.4</td>\n",
       "      <td>242.09</td>\n",
       "    </tr>\n",
       "    <tr>\n",
       "      <th>70</th>\n",
       "      <td>9/1/16</td>\n",
       "      <td>9.7</td>\n",
       "      <td>3127.0</td>\n",
       "      <td>1844.0</td>\n",
       "      <td>7845.0</td>\n",
       "      <td>11.3</td>\n",
       "      <td>49.4</td>\n",
       "      <td>242.27</td>\n",
       "    </tr>\n",
       "    <tr>\n",
       "      <th>71</th>\n",
       "      <td>10/1/16</td>\n",
       "      <td>9.5</td>\n",
       "      <td>3130.0</td>\n",
       "      <td>1700.0</td>\n",
       "      <td>7758.0</td>\n",
       "      <td>12.1</td>\n",
       "      <td>47.9</td>\n",
       "      <td>241.88</td>\n",
       "    </tr>\n",
       "    <tr>\n",
       "      <th>72</th>\n",
       "      <td>11/1/16</td>\n",
       "      <td>9.3</td>\n",
       "      <td>2929.0</td>\n",
       "      <td>1932.0</td>\n",
       "      <td>7812.0</td>\n",
       "      <td>12.5</td>\n",
       "      <td>47.4</td>\n",
       "      <td>242.21</td>\n",
       "    </tr>\n",
       "    <tr>\n",
       "      <th>73</th>\n",
       "      <td>NaN</td>\n",
       "      <td>NaN</td>\n",
       "      <td>NaN</td>\n",
       "      <td>NaN</td>\n",
       "      <td>NaN</td>\n",
       "      <td>NaN</td>\n",
       "      <td>NaN</td>\n",
       "      <td>NaN</td>\n",
       "    </tr>\n",
       "  </tbody>\n",
       "</table>\n",
       "<p>74 rows × 8 columns</p>\n",
       "</div>"
      ],
      "text/plain": [
       "       date  total_unemployed  more_than_15_weeks  \\\n",
       "0   11/1/10              16.9              8696.0   \n",
       "1   12/1/10              16.6              8549.0   \n",
       "2    1/1/11              16.2              8393.0   \n",
       "3    2/1/11              16.0              8175.0   \n",
       "4    3/1/11              15.9              8166.0   \n",
       "5    4/1/11              16.1              8016.0   \n",
       "6    5/1/11              15.8              8205.0   \n",
       "7    6/1/11              16.1              8143.0   \n",
       "8    7/1/11              15.9              8177.0   \n",
       "9    8/1/11              16.1              8247.0   \n",
       "10   9/1/11              16.4              8316.0   \n",
       "11  10/1/11              15.8              7802.0   \n",
       "12  11/1/11              15.5              7706.0   \n",
       "13  12/1/11              15.2              7545.0   \n",
       "14   1/1/12              15.2              7433.0   \n",
       "15   2/1/12              15.0              7293.0   \n",
       "16   3/1/12              14.5              7176.0   \n",
       "17   4/1/12              14.6              7072.0   \n",
       "18   5/1/12              14.7              7091.0   \n",
       "19   6/1/12              14.8              7227.0   \n",
       "20   7/1/12              14.8              6983.0   \n",
       "21   8/1/12              14.6              6889.0   \n",
       "22   9/1/12              14.8              6775.0   \n",
       "23  10/1/12              14.4              6784.0   \n",
       "24  11/1/12              14.4              6550.0   \n",
       "25  12/1/12              14.4              6629.0   \n",
       "26   1/1/13              14.5              6534.0   \n",
       "27   2/1/13              14.4              6367.0   \n",
       "28   3/1/13              13.8              6292.0   \n",
       "29   4/1/13              14.0              6345.0   \n",
       "..      ...               ...                 ...   \n",
       "44   7/1/14              12.2              4602.0   \n",
       "45   8/1/14              12.0              4488.0   \n",
       "46   9/1/14              11.8              4407.0   \n",
       "47  10/1/14              11.5              4308.0   \n",
       "48  11/1/14              11.4              4229.0   \n",
       "49  12/1/14              11.2              4037.0   \n",
       "50   1/1/15              11.3              4180.0   \n",
       "51   2/1/15              11.0              3987.0   \n",
       "52   3/1/15              10.9              3777.0   \n",
       "53   4/1/15              10.8              3644.0   \n",
       "54   5/1/15              10.7              3789.0   \n",
       "55   6/1/15              10.5              3532.0   \n",
       "56   7/1/15              10.3              3359.0   \n",
       "57   8/1/15              10.2              3463.0   \n",
       "58   9/1/15              10.0              3336.0   \n",
       "59  10/1/15               9.8              3344.0   \n",
       "60  11/1/15               9.9              3330.0   \n",
       "61  12/1/15               9.9              3327.0   \n",
       "62   1/1/16               9.9              3234.0   \n",
       "63   2/1/16               9.8              3299.0   \n",
       "64   3/1/16               9.8              3380.0   \n",
       "65   4/1/16               9.7              3340.0   \n",
       "66   5/1/16               9.7              3068.0   \n",
       "67   6/1/16               9.6              3126.0   \n",
       "68   7/1/16               9.7              3175.0   \n",
       "69   8/1/16               9.7              3077.0   \n",
       "70   9/1/16               9.7              3127.0   \n",
       "71  10/1/16               9.5              3130.0   \n",
       "72  11/1/16               9.3              2929.0   \n",
       "73      NaN               NaN                 NaN   \n",
       "\n",
       "    not_in_labor_searched_for_work  multi_jobs  leavers  losers  \\\n",
       "0                           2531.0      6708.0      5.7    63.0   \n",
       "1                           2609.0      6899.0      6.4    61.2   \n",
       "2                           2800.0      6816.0      6.5    60.1   \n",
       "3                           2730.0      6741.0      6.4    60.2   \n",
       "4                           2434.0      6735.0      6.4    60.3   \n",
       "5                           2466.0      6823.0      6.8    59.4   \n",
       "6                           2206.0      6880.0      6.6    60.0   \n",
       "7                           2680.0      6946.0      7.0    58.8   \n",
       "8                           2785.0      6850.0      6.8    59.2   \n",
       "9                           2575.0      6940.0      7.1    58.2   \n",
       "10                          2511.0      6995.0      7.0    58.0   \n",
       "11                          2555.0      6917.0      8.0    57.9   \n",
       "12                          2591.0      6946.0      7.6    57.5   \n",
       "13                          2540.0      6977.0      7.2    57.5   \n",
       "14                          2809.0      7022.0      7.4    57.1   \n",
       "15                          2608.0      6966.0      8.0    55.4   \n",
       "16                          2352.0      6954.0      8.6    55.0   \n",
       "17                          2363.0      6903.0      8.0    54.2   \n",
       "18                          2423.0      6980.0      7.1    55.3   \n",
       "19                          2483.0      6804.0      7.3    56.2   \n",
       "20                          2529.0      6916.0      6.9    56.2   \n",
       "21                          2561.0      6921.0      7.6    55.2   \n",
       "22                          2517.0      6865.0      7.9    54.3   \n",
       "23                          2433.0      6888.0      8.5    53.8   \n",
       "24                          2505.0      7060.0      7.6    53.7   \n",
       "25                          2614.0      7003.0      8.0    52.6   \n",
       "26                          2443.0      6912.0      8.1    53.7   \n",
       "27                          2588.0      7285.0      8.0    54.0   \n",
       "28                          2326.0      7074.0      8.3    53.7   \n",
       "29                          2347.0      7007.0      7.5    54.3   \n",
       "..                             ...         ...      ...     ...   \n",
       "44                          2178.0      7006.0      8.9    49.6   \n",
       "45                          2141.0      7122.0      8.9    49.6   \n",
       "46                          2226.0      7129.0      8.8    48.8   \n",
       "47                          2192.0      7577.0      8.6    48.1   \n",
       "48                          2109.0      7303.0      9.1    49.3   \n",
       "49                          2260.0      7214.0      9.0    49.3   \n",
       "50                          2234.0      7454.0      9.7    47.7   \n",
       "51                          2159.0      7098.0     10.3    48.6   \n",
       "52                          2055.0      7127.0     10.2    49.2   \n",
       "53                          2115.0      7016.0      9.7    48.7   \n",
       "54                          1862.0      7008.0      9.6    49.4   \n",
       "55                          1914.0      7184.0      9.3    49.2   \n",
       "56                          1927.0      7239.0     10.4    49.6   \n",
       "57                          1812.0      7217.0      9.8    49.8   \n",
       "58                          1921.0      7314.0      9.8    48.6   \n",
       "59                          1916.0      7377.0      9.7    49.7   \n",
       "60                          1717.0      7323.0      9.9    48.9   \n",
       "61                          1833.0      7743.0     10.3    47.7   \n",
       "62                          2089.0      7470.0      9.9    47.6   \n",
       "63                          1803.0      7343.0      9.7    48.3   \n",
       "64                          1720.0      7457.0     10.5    48.4   \n",
       "65                          1715.0      7416.0     10.9    48.8   \n",
       "66                          1713.0      7428.0     10.8    48.0   \n",
       "67                          1779.0      7229.0     10.8    48.5   \n",
       "68                          1950.0      7442.0     10.9    48.4   \n",
       "69                          1713.0      7573.0     11.4    48.4   \n",
       "70                          1844.0      7845.0     11.3    49.4   \n",
       "71                          1700.0      7758.0     12.1    47.9   \n",
       "72                          1932.0      7812.0     12.5    47.4   \n",
       "73                             NaN         NaN      NaN     NaN   \n",
       "\n",
       "    housing_price_index  \n",
       "0                186.07  \n",
       "1                183.27  \n",
       "2                181.35  \n",
       "3                179.66  \n",
       "4                178.84  \n",
       "5                180.80  \n",
       "6                182.11  \n",
       "7                183.85  \n",
       "8                184.25  \n",
       "9                182.97  \n",
       "10               183.21  \n",
       "11               181.51  \n",
       "12               181.77  \n",
       "13               181.03  \n",
       "14               179.13  \n",
       "15               179.83  \n",
       "16               182.49  \n",
       "17               185.29  \n",
       "18               188.26  \n",
       "19               190.15  \n",
       "20               190.39  \n",
       "21               190.60  \n",
       "22               190.44  \n",
       "23               190.84  \n",
       "24               191.13  \n",
       "25               190.66  \n",
       "26               190.50  \n",
       "27               192.07  \n",
       "28               195.67  \n",
       "29               198.43  \n",
       "..                  ...  \n",
       "44               215.58  \n",
       "45               215.47  \n",
       "46               214.60  \n",
       "47               214.88  \n",
       "48               215.08  \n",
       "49               215.49  \n",
       "50               214.16  \n",
       "51               216.25  \n",
       "52               218.76  \n",
       "53               221.71  \n",
       "54               224.79  \n",
       "55               226.96  \n",
       "56               227.98  \n",
       "57               227.39  \n",
       "58               227.68  \n",
       "59               227.71  \n",
       "60               228.32  \n",
       "61               228.21  \n",
       "62               227.45  \n",
       "63               228.94  \n",
       "64               232.86  \n",
       "65               235.18  \n",
       "66               238.09  \n",
       "67               240.33  \n",
       "68               241.59  \n",
       "69               242.09  \n",
       "70               242.27  \n",
       "71               241.88  \n",
       "72               242.21  \n",
       "73                  NaN  \n",
       "\n",
       "[74 rows x 8 columns]"
      ]
     },
     "execution_count": 43,
     "metadata": {},
     "output_type": "execute_result"
    }
   ],
   "source": [
    "unemployment_data = pd.read_csv(\"data/unemployment.csv\")\n",
    "unemployment_data"
   ]
  },
  {
   "cell_type": "markdown",
   "metadata": {},
   "source": [
    "We can start visualizing the data that we have in the table. First, we convert the table into a numpy array. Let's extract the columns that we are interested in and plot them with pyplot. "
   ]
  },
  {
   "cell_type": "code",
   "execution_count": 45,
   "metadata": {},
   "outputs": [
    {
     "data": {
      "image/png": "[encoded data removed]",
      "text/plain": [
       "<matplotlib.figure.Figure at 0x115b16dd8>"
      ]
     },
     "metadata": {},
     "output_type": "display_data"
    }
   ],
   "source": [
    "#Once this cell is run, the \"data\" variable will store the table and can be accessed from any cell \n",
    "data = np.array(unemployment_data[:len(unemployment_data)-1])\n",
    "\n",
    "#data[:, col_num] means take select all row values in that column number in numpy\n",
    "total_unemployed = data[:, 1]\n",
    "not_labor = data[:, 3]\n",
    "\n",
    "#Plot the data by inputting the x and y axis\n",
    "plt.scatter(total_unemployed, not_labor)\n",
    "plt.xlabel(\"Percent Unemployed\")\n",
    "plt.ylabel(\"Total Not In Labor, Searched for Work\")\n",
    "plt.show()\n"
   ]
  },
  {
   "cell_type": "markdown",
   "metadata": {},
   "source": [
    "**Challenge:** Try plotting the total percent of people unemployed vs those unemployed for more than 15 weeks."
   ]
  },
  {
   "cell_type": "code",
   "execution_count": null,
   "metadata": {
    "collapsed": true
   },
   "outputs": [],
   "source": [
    "total_unemployed = #INSERT CODE HERE\n",
    "unemp_15_weeks = #INSERT CODE HERE\n",
    "\n",
    "plt.scatter(total_unemployed, unemp_15_weeks)\n",
    "plt.xlabel(\"Percent Unemployed\")\n",
    "plt.ylabel(\"Total Unemployed for > 15 Weeks\")\n",
    "plt.show()"
   ]
  },
  {
   "cell_type": "markdown",
   "metadata": {},
   "source": [
    "Now that we know how to select and plot our data, we are ready to dive into regression. For our current task, let's use the total unemployed and housing price index columns."
   ]
  },
  {
   "cell_type": "code",
   "execution_count": 47,
   "metadata": {},
   "outputs": [
    {
     "data": {
      "image/png": "[encoded data removed]",
      "text/plain": [
       "<matplotlib.figure.Figure at 0x115b16e10>"
      ]
     },
     "metadata": {},
     "output_type": "display_data"
    }
   ],
   "source": [
    "total_unemployed = data[:,1]\n",
    "hpi = data[:,7]\n",
    "\n",
    "plt.scatter(total_unemployed, hpi)\n",
    "plt.xlabel(\"Percent Unemployed\")\n",
    "plt.ylabel(\"Housing Price Index\")\n",
    "plt.show()"
   ]
  },
  {
   "cell_type": "markdown",
   "metadata": {},
   "source": [
    "The Scikit Learn library has lots of helpful tools for regression tasks. We will perform linear regression on our data with the imported LinearRegression class. The .fit(x, y) method fits the model to the input data and y values and saves it to that instance of the model. We can then use the .predict(x) method to predict the values of the input data from the model."
   ]
  },
  {
   "cell_type": "code",
   "execution_count": 60,
   "metadata": {},
   "outputs": [
    {
     "data": {
      "image/png": "[encoded data removed]",
      "text/plain": [
       "<matplotlib.figure.Figure at 0x115b919b0>"
      ]
     },
     "metadata": {},
     "output_type": "display_data"
    }
   ],
   "source": [
    "from sklearn.linear_model import LinearRegression\n",
    "\n",
    "model = LinearRegression()\n",
    "#We set x and y to our column values, and use np.reshape so that\n",
    "#the data is formatted correctly to be input into the model\n",
    "x = total_unemployed\n",
    "x = np.reshape(x, (73,1))\n",
    "y = hpi\n",
    "\n",
    "model.fit(x, y)\n",
    "y_ = model.predict(x)\n",
    "\n",
    "plt.scatter(x, y)\n",
    "plt.plot(x, y_)\n",
    "plt.xlabel(\"Percent Unemployed\")\n",
    "plt.ylabel(\"Housing Price Index\")\n",
    "plt.show()"
   ]
  },
  {
   "cell_type": "markdown",
   "metadata": {},
   "source": [
    "You can also use your linear regression model to predict values based on your current data. For example, if we wanted to predict the housing price index at an 18% unemployment rate:"
   ]
  },
  {
   "cell_type": "code",
   "execution_count": 63,
   "metadata": {},
   "outputs": [
    {
     "data": {
      "text/plain": [
       "163.73155856740138"
      ]
     },
     "execution_count": 63,
     "metadata": {},
     "output_type": "execute_result"
    }
   ],
   "source": [
    "prediction = model.predict(18)\n",
    "prediction[0]"
   ]
  },
  {
   "cell_type": "markdown",
   "metadata": {
    "collapsed": true
   },
   "source": [
    "**Challenge:** Let's make a regression model to predict the total number of people unemployed for more than 15 weeks based on the total percent of people unemployed. "
   ]
  },
  {
   "cell_type": "code",
   "execution_count": null,
   "metadata": {
    "collapsed": true
   },
   "outputs": [],
   "source": [
    "#Initialize the model\n",
    "model = #INSERT CODE HERE\n",
    "\n",
    "#Set up our x and y variables using columns from earlier \n",
    "x = #INSERT CODE HERE\n",
    "x = np.reshape(x, (73, 1))\n",
    "y = #INSERT CODE HERE\n",
    "\n",
    "#Fit our model to the data and store y_ values for our regression line\n",
    "#INSERT CODE HERE\n",
    "y_ = #INSERT CODE HERE\n",
    "\n",
    "plt.scatter(x, y)\n",
    "plt.plot(x, y_)\n",
    "plt.xlabel(\"Percent Unemployed\")\n",
    "plt.ylabel(\"Total Unemployed for > 15 Weeks\")\n",
    "plt.show()"
   ]
  },
  {
   "cell_type": "markdown",
   "metadata": {},
   "source": [
    "Congratulations! You have completed the regression tutorial. Try importing your own datasets and using regression to analyze your data."
   ]
  },
  {
   "cell_type": "markdown",
   "metadata": {},
   "source": [
    "## Chapter 1: Introduction to Macroeconomics"
   ]
  },
  {
   "cell_type": "markdown",
   "metadata": {},
   "source": [
    "#### Suppose a quantity grows at a steady proportional rate of 3% per year. \n",
    "How long will it take to double?"
   ]
  },
  {
   "cell_type": "code",
   "execution_count": 10,
   "metadata": {
    "collapsed": true
   },
   "outputs": [],
   "source": [
    "# ANSWER\n",
    "TIME_TO_DOUBLE = ___"
   ]
  },
  {
   "cell_type": "markdown",
   "metadata": {},
   "source": [
    "Quadruple?"
   ]
  },
  {
   "cell_type": "code",
   "execution_count": 5,
   "metadata": {
    "collapsed": true
   },
   "outputs": [],
   "source": [
    "# ANSWER\n",
    "TIME_TO_QUADRUPLE = ___"
   ]
  },
  {
   "cell_type": "markdown",
   "metadata": {},
   "source": [
    "Grow 1024-fold?"
   ]
  },
  {
   "cell_type": "code",
   "execution_count": 6,
   "metadata": {
    "collapsed": true
   },
   "outputs": [],
   "source": [
    "# ANSWER\n",
    "TIME_TO_1024 = ___"
   ]
  },
  {
   "cell_type": "markdown",
   "metadata": {},
   "source": [
    "#### Suppose we have a quantity x(t) that varies over time following the equation: $\\frac{dx(t)}{dt} = -(0.06)t + 0.36$"
   ]
  },
  {
   "cell_type": "markdown",
   "metadata": {},
   "source": [
    "Without integrating the equation:\n",
    "\n",
    "\n",
    "$1.$ Tell me what the long-run steady-state value of $x$--that is, the limit of $x$ as $t$ approaches in infinity--is going to be."
   ]
  },
  {
   "cell_type": "code",
   "execution_count": 13,
   "metadata": {
    "collapsed": true
   },
   "outputs": [],
   "source": [
    "steady_state_val = ___"
   ]
  },
  {
   "cell_type": "markdown",
   "metadata": {},
   "source": [
    "$2.$ Suppose that the value of $x$ at time $t=0$, $x(0)$ equals 12. Once again, without integrating the equation, tell me how long it will take x to close half the distance between its initial value of 12 and its steady-state value. "
   ]
  },
  {
   "cell_type": "code",
   "execution_count": 14,
   "metadata": {
    "collapsed": true
   },
   "outputs": [],
   "source": [
    "half_dist_time = ___"
   ]
  },
  {
   "cell_type": "markdown",
   "metadata": {},
   "source": [
    "$3.$ How long will it take to close 3/4 of the distance? "
   ]
  },
  {
   "cell_type": "code",
   "execution_count": null,
   "metadata": {
    "collapsed": true
   },
   "outputs": [],
   "source": [
    "three_fourth_time = ___"
   ]
  },
  {
   "cell_type": "markdown",
   "metadata": {},
   "source": [
    "$4.$ $7/8$ of the distance? "
   ]
  },
  {
   "cell_type": "code",
   "execution_count": null,
   "metadata": {
    "collapsed": true
   },
   "outputs": [],
   "source": [
    "seven_eighth_time = ___"
   ]
  },
  {
   "cell_type": "markdown",
   "metadata": {},
   "source": [
    "$5.$ $15/16$ of the distance?"
   ]
  },
  {
   "cell_type": "code",
   "execution_count": null,
   "metadata": {
    "collapsed": true
   },
   "outputs": [],
   "source": [
    "fifteen_sixteenth = ___"
   ]
  },
  {
   "cell_type": "markdown",
   "metadata": {},
   "source": [
    "Now you are allowed to integrate $\\frac{dx(t)}{dt} = -(0.06)t + 0.36$.\n",
    "\n",
    "$1.$ Write down and solve the indefinite integral. (***Make sure intro notebook goes over how to do Latex***)"
   ]
  },
  {
   "cell_type": "markdown",
   "metadata": {},
   "source": [
    "<font color='blue'> ANSWER:"
   ]
  },
  {
   "cell_type": "markdown",
   "metadata": {},
   "source": [
    "$2.$ Write down and solve the definite integral for the initial condition $x(0) = 12$."
   ]
  },
  {
   "cell_type": "markdown",
   "metadata": {},
   "source": [
    "<font color='blue'> ANSWER:"
   ]
  },
  {
   "cell_type": "markdown",
   "metadata": {},
   "source": [
    "$3.$ Write down and solve the definite integral for the initial condition $x(0) = 6$."
   ]
  },
  {
   "cell_type": "markdown",
   "metadata": {},
   "source": [
    "<font color='blue'> ANSWER:"
   ]
  },
  {
   "cell_type": "markdown",
   "metadata": {},
   "source": [
    "#### Suppose we have a quantity $z = (\\frac{x}{y})^\\beta$\n",
    "\n",
    "Suppose $x$ is growing at 4% per year and that $\\beta=1/4$:\n",
    "\n",
    "$1.$ How fast is $z$ growing if $y$ is growing at 0% per year? "
   ]
  },
  {
   "cell_type": "code",
   "execution_count": null,
   "metadata": {
    "collapsed": true
   },
   "outputs": [],
   "source": [
    "zero_per_growth = ___"
   ]
  },
  {
   "cell_type": "markdown",
   "metadata": {},
   "source": [
    "$2.$ If $y$ is growing at 2% per year?"
   ]
  },
  {
   "cell_type": "code",
   "execution_count": null,
   "metadata": {
    "collapsed": true
   },
   "outputs": [],
   "source": [
    "two_per_growth = ___"
   ]
  },
  {
   "cell_type": "markdown",
   "metadata": {},
   "source": [
    "$3.$ If $y$ is growing at 4% per year?"
   ]
  },
  {
   "cell_type": "code",
   "execution_count": null,
   "metadata": {
    "collapsed": true
   },
   "outputs": [],
   "source": [
    "four_per_growth = ___"
   ]
  },
  {
   "cell_type": "markdown",
   "metadata": {},
   "source": [
    "#### Rule of 72\n",
    "\n",
    "1. If a quantity grows at about 3% per year, how long will it take to double?"
   ]
  },
  {
   "cell_type": "code",
   "execution_count": null,
   "metadata": {
    "collapsed": true
   },
   "outputs": [],
   "source": [
    "time_to_double = ___"
   ]
  },
  {
   "cell_type": "markdown",
   "metadata": {},
   "source": [
    "$2.$ If a quantity shrinks at about 4% per year, how long will it take it to halve itself?"
   ]
  },
  {
   "cell_type": "code",
   "execution_count": null,
   "metadata": {
    "collapsed": true
   },
   "outputs": [],
   "source": [
    "time_to_half = ___"
   ]
  },
  {
   "cell_type": "markdown",
   "metadata": {},
   "source": [
    "$3.$ If a quantity doubles five times, how large is it relative to its original value?"
   ]
  },
  {
   "cell_type": "code",
   "execution_count": null,
   "metadata": {
    "collapsed": true
   },
   "outputs": [],
   "source": [
    "doubled_five_times_ratio = ___"
   ]
  },
  {
   "cell_type": "markdown",
   "metadata": {},
   "source": [
    "$4.$ If a quantity halves itself three times, how large is it relative to its original value?"
   ]
  },
  {
   "cell_type": "code",
   "execution_count": 71,
   "metadata": {
    "collapsed": true
   },
   "outputs": [],
   "source": [
    "halved_three_times_ratio = ___"
   ]
  },
  {
   "cell_type": "markdown",
   "metadata": {},
   "source": [
    "#### Show the relationship between the interest rate and the amount of time it takes to double graphically"
   ]
  },
  {
   "cell_type": "code",
   "execution_count": 7,
   "metadata": {
    "collapsed": true
   },
   "outputs": [],
   "source": [
    "def graph(interest_rate):\n",
    "    x = np.linspace(1,10,30)\n",
    "    y = 72 / x\n",
    "    \n",
    "    print('Time to double:', 72 / interest_rate, 'years')\n",
    "    \n",
    "    plt.plot(x,y)\n",
    "    plt.scatter(interest_rate, 72 / interest_rate, c='r')\n",
    "    \n",
    "    plt.xlabel('interest rate (%)')\n",
    "    plt.ylabel('time (years)')"
   ]
  },
  {
   "cell_type": "code",
   "execution_count": 8,
   "metadata": {},
   "outputs": [
    {
     "name": "stdout",
     "output_type": "stream",
     "text": [
      "Time to double: 72.0 years\n"
     ]
    },
    {
     "data": {
      "text/plain": [
       "<function __main__.graph>"
      ]
     },
     "execution_count": 8,
     "metadata": {},
     "output_type": "execute_result"
    },
    {
     "data": {
      "image/png": "[encoded data removed]",
      "text/plain": [
       "<matplotlib.figure.Figure at 0x10e6ea4a8>"
      ]
     },
     "metadata": {},
     "output_type": "display_data"
    }
   ],
   "source": [
    "interact(graph, interest_rate=widgets.IntSlider(min=1,max=10,step=1))"
   ]
  },
  {
   "cell_type": "markdown",
   "metadata": {},
   "source": [
    "#### How close is this to the actual formula? (EXPAND)"
   ]
  },
  {
   "cell_type": "code",
   "execution_count": null,
   "metadata": {
    "collapsed": true
   },
   "outputs": [],
   "source": []
  },
  {
   "cell_type": "markdown",
   "metadata": {},
   "source": [
    "#### Why do DeLong and Olney think that the interest rate and the level of the stock market are important macroeconomic variables?"
   ]
  },
  {
   "cell_type": "markdown",
   "metadata": {},
   "source": [
    "<font color='blue'> ANSWER:"
   ]
  },
  {
   "cell_type": "markdown",
   "metadata": {},
   "source": [
    "#### What are the principal flaws in using national product per worker as a measure of material welfare? Given these flaws, why do we use it anyway?"
   ]
  },
  {
   "cell_type": "markdown",
   "metadata": {},
   "source": [
    "<font color='blue'> ANSWER:"
   ]
  },
  {
   "cell_type": "markdown",
   "metadata": {},
   "source": [
    "#### What is the difference between the nominal interest rate and the real interest rate? Why do DeLong and Olney think that the real interest rate is more important?"
   ]
  },
  {
   "cell_type": "markdown",
   "metadata": {},
   "source": [
    "<font color='blue'> ANSWER:"
   ]
  },
  {
   "cell_type": "markdown",
   "metadata": {},
   "source": [
    "## Chapter 2: Measuring the Macroeconomy"
   ]
  },
  {
   "cell_type": "markdown",
   "metadata": {},
   "source": [
    "#### National Income and Product Accounting\n",
    "\n",
    "Explain whether or not, why, and how the following items are included in the calculations of national product:\n",
    "\n",
    "$1.$ Increases in business inventories. "
   ]
  },
  {
   "cell_type": "markdown",
   "metadata": {},
   "source": [
    "<font color='blue'> ANSWER:"
   ]
  },
  {
   "cell_type": "markdown",
   "metadata": {},
   "source": [
    "$2.$ Fees earned by real estate agents on selling existing homes."
   ]
  },
  {
   "cell_type": "markdown",
   "metadata": {},
   "source": [
    "<font color='blue'> ANSWER:"
   ]
  },
  {
   "cell_type": "markdown",
   "metadata": {},
   "source": [
    "$3.$ Social Security checks written by the government. "
   ]
  },
  {
   "cell_type": "markdown",
   "metadata": {},
   "source": [
    "<font color='blue'> ANSWER:"
   ]
  },
  {
   "cell_type": "markdown",
   "metadata": {},
   "source": [
    "$4.$ Building of a new dam by the Army Corps of Engineers."
   ]
  },
  {
   "cell_type": "markdown",
   "metadata": {},
   "source": [
    "<font color='blue'> ANSWER:"
   ]
  },
  {
   "cell_type": "markdown",
   "metadata": {},
   "source": [
    "$5.$ Interest that your parents pay on the mortgage they have on their house."
   ]
  },
  {
   "cell_type": "markdown",
   "metadata": {},
   "source": [
    "<font color='blue'> ANSWER:"
   ]
  },
  {
   "cell_type": "markdown",
   "metadata": {},
   "source": [
    "$6.$ Purchases of foreign-made trucks by American residents"
   ]
  },
  {
   "cell_type": "markdown",
   "metadata": {},
   "source": [
    "<font color='blue'> ANSWER:"
   ]
  },
  {
   "cell_type": "markdown",
   "metadata": {},
   "source": [
    "#### In or Out of National Product? And Why\n",
    "\n",
    "Explain whether or not, why, and how the following items are included in the calculation of national product:\n",
    "\n",
    "$1.$ The sale for \\$25,000 of an automobile that cost \\$20,000 to manufacture that had been produced here at home last year and carried over in inventory."
   ]
  },
  {
   "cell_type": "markdown",
   "metadata": {},
   "source": [
    "<font color='blue'> ANSWER:"
   ]
  },
  {
   "cell_type": "markdown",
   "metadata": {},
   "source": [
    "$2.$ The sale for \\$35,000 of an automobile that cost \\$25,000 to manufacture newly- made at home this year."
   ]
  },
  {
   "cell_type": "markdown",
   "metadata": {},
   "source": [
    "<font color='blue'> ANSWER:"
   ]
  },
  {
   "cell_type": "markdown",
   "metadata": {},
   "source": [
    "$3.$ The sale for \\$45,000 of an automobile that cost \\$30,000 to manufacture that was newly-made abroad this year and imported."
   ]
  },
  {
   "cell_type": "markdown",
   "metadata": {},
   "source": [
    "<font color='blue'> ANSWER:"
   ]
  },
  {
   "cell_type": "markdown",
   "metadata": {},
   "source": [
    "$4.$ The sale for \\$25,000 of an automobile that cost \\$20,000 to manufacture that was made abroad and imported last year."
   ]
  },
  {
   "cell_type": "markdown",
   "metadata": {},
   "source": [
    "<font color='blue'> ANSWER:"
   ]
  },
  {
   "cell_type": "markdown",
   "metadata": {},
   "source": [
    "#### In or Out of National Product? And Why II\n",
    "\n",
    "Explain whether or not, why, and how the following items are included in the calculation of GDP:\n",
    "\n",
    "$1.$ The purchase for \\$500 of a dishwasher produced here at home this year."
   ]
  },
  {
   "cell_type": "markdown",
   "metadata": {},
   "source": [
    "<font color='blue'> ANSWER:"
   ]
  },
  {
   "cell_type": "markdown",
   "metadata": {},
   "source": [
    "$2.$ The purchase for $500 of a dishwasher made abroad this year."
   ]
  },
  {
   "cell_type": "markdown",
   "metadata": {},
   "source": [
    "<font color='blue'> ANSWER:"
   ]
  },
  {
   "cell_type": "markdown",
   "metadata": {},
   "source": [
    "$3.$ The purchase for $500 of a used dishwasher."
   ]
  },
  {
   "cell_type": "markdown",
   "metadata": {},
   "source": [
    "<font color='blue'> ANSWER:"
   ]
  },
  {
   "cell_type": "markdown",
   "metadata": {},
   "source": [
    "$4.$ The manufacture of a new dishwasher here at home for $500 of a dishwasher that\n",
    "then nobody wants to buy."
   ]
  },
  {
   "cell_type": "markdown",
   "metadata": {},
   "source": [
    "<font color='blue'> ANSWER:"
   ]
  },
  {
   "cell_type": "markdown",
   "metadata": {},
   "source": [
    "#### Components of National Income and Product\n",
    "\n",
    "Suppose that the appliance store buys a refrigerator from the manufacturer on December 15, 2018 for \\$600, and that you then buy that refrigerator on January 15, 2019 for \\$1000:\n",
    "\n",
    "$1.$ What is the contribution to GDP in 2018? "
   ]
  },
  {
   "cell_type": "code",
   "execution_count": 52,
   "metadata": {
    "collapsed": true
   },
   "outputs": [],
   "source": [
    "contribution_2018 = ___"
   ]
  },
  {
   "cell_type": "markdown",
   "metadata": {},
   "source": [
    "$2.$ How is the refrigerator accounted for in the NIPA in 2019?"
   ]
  },
  {
   "cell_type": "markdown",
   "metadata": {},
   "source": [
    "<font color='blue'> ANSWER:"
   ]
  },
  {
   "cell_type": "markdown",
   "metadata": {},
   "source": [
    "$3.$ What is the contribution to GDP in 2018?"
   ]
  },
  {
   "cell_type": "code",
   "execution_count": 53,
   "metadata": {
    "collapsed": true
   },
   "outputs": [],
   "source": [
    "contribution_2019 = ___"
   ]
  },
  {
   "cell_type": "markdown",
   "metadata": {},
   "source": [
    "$4.$ How is the refrigerator accounted for in the NIPA in 2019?"
   ]
  },
  {
   "cell_type": "markdown",
   "metadata": {},
   "source": [
    "<font color='blue'> ANSWER:"
   ]
  },
  {
   "cell_type": "code",
   "execution_count": 65,
   "metadata": {
    "collapsed": true
   },
   "outputs": [],
   "source": [
    "## These lines are reading in CSV files and creating datatables from then, you don't have to worry about them! ##\n",
    "unemployment = pd.read_csv(\"data/Unemployment.csv\")\n",
    "quarterly_acc = pd.read_csv(\"data/Quarterly_Accounts.csv\")\n",
    "from_2007 = quarterly_acc.loc[(quarterly_acc[\"Year\"].isin(np.arange(2007, 2018)))]"
   ]
  },
  {
   "cell_type": "markdown",
   "metadata": {},
   "source": [
    "### Estimating National Product\n",
    "\n",
    "The Bureau of Economic Analysis measures national product in two different ways: as total expenditure on the economy’s output of goods and services and as the total income of everyone in the economy. Since – as you learned in earlier courses – these two things are the same, the two approaches should give the same answer. But in practice they do not.\n",
    "\n",
    "We have provided a data table `quarterly_gdp` that contains quarterly data on real GDP measured on the expenditure side (referred to in the National Income and Product Accounts as “Real Gross Domestic Product, chained dollars”) and real GDP measured on the income side (referred to as “Real Gross Domestic Income, chained dollars”). The table refers to Real Gross Dometic Product as \"Real GDP\" and to Real Gross Dometic Income as \"Real GDI\", and they are measured in billions of dollars. (Note: You will not have to use Nominal GDP)"
   ]
  },
  {
   "cell_type": "markdown",
   "metadata": {},
   "source": [
    "Another table, `from_2007`, has been created from `quarterly_gdp`, and includes information from 2007 to 2017. \n",
    "Below is a snippet from `from_2007`:"
   ]
  },
  {
   "cell_type": "code",
   "execution_count": 66,
   "metadata": {},
   "outputs": [
    {
     "data": {
      "text/html": [
       "<div>\n",
       "<table border=\"1\" class=\"dataframe\">\n",
       "  <thead>\n",
       "    <tr style=\"text-align: right;\">\n",
       "      <th></th>\n",
       "      <th>Year</th>\n",
       "      <th>Quarter</th>\n",
       "      <th>Real GDI</th>\n",
       "      <th>Real GDP</th>\n",
       "      <th>Nominal GDP</th>\n",
       "    </tr>\n",
       "  </thead>\n",
       "  <tbody>\n",
       "    <tr>\n",
       "      <th>240</th>\n",
       "      <td>2007</td>\n",
       "      <td>Q1</td>\n",
       "      <td>14882.6</td>\n",
       "      <td>14726.0</td>\n",
       "      <td>14233.2</td>\n",
       "    </tr>\n",
       "    <tr>\n",
       "      <th>241</th>\n",
       "      <td>2007</td>\n",
       "      <td>Q2</td>\n",
       "      <td>14904.1</td>\n",
       "      <td>14838.7</td>\n",
       "      <td>14422.3</td>\n",
       "    </tr>\n",
       "    <tr>\n",
       "      <th>242</th>\n",
       "      <td>2007</td>\n",
       "      <td>Q3</td>\n",
       "      <td>14822.4</td>\n",
       "      <td>14938.5</td>\n",
       "      <td>14569.7</td>\n",
       "    </tr>\n",
       "    <tr>\n",
       "      <th>243</th>\n",
       "      <td>2007</td>\n",
       "      <td>Q4</td>\n",
       "      <td>14816.6</td>\n",
       "      <td>14991.8</td>\n",
       "      <td>14685.3</td>\n",
       "    </tr>\n",
       "    <tr>\n",
       "      <th>244</th>\n",
       "      <td>2008</td>\n",
       "      <td>Q1</td>\n",
       "      <td>14842.2</td>\n",
       "      <td>14889.5</td>\n",
       "      <td>14668.4</td>\n",
       "    </tr>\n",
       "    <tr>\n",
       "      <th>245</th>\n",
       "      <td>2008</td>\n",
       "      <td>Q2</td>\n",
       "      <td>14832.4</td>\n",
       "      <td>14963.4</td>\n",
       "      <td>14813.0</td>\n",
       "    </tr>\n",
       "    <tr>\n",
       "      <th>246</th>\n",
       "      <td>2008</td>\n",
       "      <td>Q3</td>\n",
       "      <td>14767.0</td>\n",
       "      <td>14891.6</td>\n",
       "      <td>14843.0</td>\n",
       "    </tr>\n",
       "    <tr>\n",
       "      <th>247</th>\n",
       "      <td>2008</td>\n",
       "      <td>Q4</td>\n",
       "      <td>14479.5</td>\n",
       "      <td>14577.0</td>\n",
       "      <td>14549.9</td>\n",
       "    </tr>\n",
       "    <tr>\n",
       "      <th>248</th>\n",
       "      <td>2009</td>\n",
       "      <td>Q1</td>\n",
       "      <td>14257.8</td>\n",
       "      <td>14375.0</td>\n",
       "      <td>14383.9</td>\n",
       "    </tr>\n",
       "    <tr>\n",
       "      <th>249</th>\n",
       "      <td>2009</td>\n",
       "      <td>Q2</td>\n",
       "      <td>14259.2</td>\n",
       "      <td>14355.6</td>\n",
       "      <td>14340.4</td>\n",
       "    </tr>\n",
       "  </tbody>\n",
       "</table>\n",
       "</div>"
      ],
      "text/plain": [
       "     Year Quarter  Real GDI  Real GDP  Nominal GDP\n",
       "240  2007      Q1   14882.6   14726.0      14233.2\n",
       "241  2007      Q2   14904.1   14838.7      14422.3\n",
       "242  2007      Q3   14822.4   14938.5      14569.7\n",
       "243  2007      Q4   14816.6   14991.8      14685.3\n",
       "244  2008      Q1   14842.2   14889.5      14668.4\n",
       "245  2008      Q2   14832.4   14963.4      14813.0\n",
       "246  2008      Q3   14767.0   14891.6      14843.0\n",
       "247  2008      Q4   14479.5   14577.0      14549.9\n",
       "248  2009      Q1   14257.8   14375.0      14383.9\n",
       "249  2009      Q2   14259.2   14355.6      14340.4"
      ]
     },
     "execution_count": 66,
     "metadata": {},
     "output_type": "execute_result"
    }
   ],
   "source": [
    "from_2007.head(10)"
   ]
  },
  {
   "cell_type": "markdown",
   "metadata": {},
   "source": [
    "$1.$ Compute the growth rate at an annual rate of each of the two series by quarter for\n",
    "2007:Q1–2012:Q4."
   ]
  },
  {
   "cell_type": "code",
   "execution_count": 67,
   "metadata": {
    "collapsed": true
   },
   "outputs": [],
   "source": [
    "gdi_rate = ___\n",
    "gdp_rate = ___"
   ]
  },
  {
   "cell_type": "markdown",
   "metadata": {},
   "source": [
    "$2.$ Describe any two things you see when you compare the two series that you find\n",
    "interesting, and explain why you find them interesting."
   ]
  },
  {
   "cell_type": "markdown",
   "metadata": {},
   "source": [
    "<font color='blue'> ANSWER:"
   ]
  },
  {
   "cell_type": "markdown",
   "metadata": {},
   "source": [
    "#### Calculating Real Magnitudes:\n",
    "\n",
    "$1.$ When you calculate real national product, do you do so by dividing nominal national product by the price level or by subtracting the price level from nominal national product? "
   ]
  },
  {
   "cell_type": "markdown",
   "metadata": {},
   "source": [
    "<font color='blue'> ANSWER:"
   ]
  },
  {
   "cell_type": "markdown",
   "metadata": {},
   "source": [
    "$2.$ When you calculate the real interest rate, do you do so by dividing the nominal interest rate by the price level or by subtracting the inflation rate from the nominal interest rate? "
   ]
  },
  {
   "cell_type": "markdown",
   "metadata": {},
   "source": [
    "<font color='blue'> ANSWER:"
   ]
  },
  {
   "cell_type": "markdown",
   "metadata": {},
   "source": [
    "$3.$ Are your answers to (a) and (b) the same? Why or why not?"
   ]
  },
  {
   "cell_type": "markdown",
   "metadata": {},
   "source": [
    "<font color='blue'> ANSWER:"
   ]
  },
  {
   "cell_type": "markdown",
   "metadata": {},
   "source": [
    "### Unemployment Rate\n",
    "\n",
    "Use the `unemployment` table provided to answer the following questions. ***All numbers (other than percents) are in the thousands.***"
   ]
  },
  {
   "cell_type": "markdown",
   "metadata": {},
   "source": [
    "Here are the first five entries of the table."
   ]
  },
  {
   "cell_type": "code",
   "execution_count": 68,
   "metadata": {},
   "outputs": [
    {
     "data": {
      "text/html": [
       "<div>\n",
       "<table border=\"1\" class=\"dataframe\">\n",
       "  <thead>\n",
       "    <tr style=\"text-align: right;\">\n",
       "      <th></th>\n",
       "      <th>Year</th>\n",
       "      <th>Civilian Noninstitutional Population</th>\n",
       "      <th>Total  Civilian Labor Force</th>\n",
       "      <th>Percent of Population in Labor Force</th>\n",
       "      <th>Total Employed Population</th>\n",
       "      <th>Percent Employed\n",
       "of Population</th>\n",
       "      <th>Agri-\n",
       "culture Employees</th>\n",
       "      <th>Nonagri-\n",
       "cultural\n",
       "Industry Employees</th>\n",
       "      <th>Number of Unemployed</th>\n",
       "      <th>Percent Unemployed\n",
       "of\n",
       "labor\n",
       "force</th>\n",
       "      <th>Not In Labor Force</th>\n",
       "    </tr>\n",
       "  </thead>\n",
       "  <tbody>\n",
       "    <tr>\n",
       "      <th>0</th>\n",
       "      <td>1947</td>\n",
       "      <td>101827</td>\n",
       "      <td>59350</td>\n",
       "      <td>58.3</td>\n",
       "      <td>57038</td>\n",
       "      <td>56.0</td>\n",
       "      <td>7890</td>\n",
       "      <td>49148</td>\n",
       "      <td>2311</td>\n",
       "      <td>3.9</td>\n",
       "      <td>42477</td>\n",
       "    </tr>\n",
       "    <tr>\n",
       "      <th>1</th>\n",
       "      <td>1948</td>\n",
       "      <td>103068</td>\n",
       "      <td>60621</td>\n",
       "      <td>58.8</td>\n",
       "      <td>58343</td>\n",
       "      <td>56.6</td>\n",
       "      <td>7629</td>\n",
       "      <td>50714</td>\n",
       "      <td>2276</td>\n",
       "      <td>3.8</td>\n",
       "      <td>42447</td>\n",
       "    </tr>\n",
       "    <tr>\n",
       "      <th>2</th>\n",
       "      <td>1949</td>\n",
       "      <td>103994</td>\n",
       "      <td>61286</td>\n",
       "      <td>58.9</td>\n",
       "      <td>57651</td>\n",
       "      <td>55.4</td>\n",
       "      <td>7658</td>\n",
       "      <td>49993</td>\n",
       "      <td>3637</td>\n",
       "      <td>5.9</td>\n",
       "      <td>42708</td>\n",
       "    </tr>\n",
       "    <tr>\n",
       "      <th>3</th>\n",
       "      <td>1950</td>\n",
       "      <td>104995</td>\n",
       "      <td>62208</td>\n",
       "      <td>59.2</td>\n",
       "      <td>58918</td>\n",
       "      <td>56.1</td>\n",
       "      <td>7160</td>\n",
       "      <td>51758</td>\n",
       "      <td>3288</td>\n",
       "      <td>5.3</td>\n",
       "      <td>42787</td>\n",
       "    </tr>\n",
       "    <tr>\n",
       "      <th>4</th>\n",
       "      <td>1951</td>\n",
       "      <td>104621</td>\n",
       "      <td>62017</td>\n",
       "      <td>59.2</td>\n",
       "      <td>59961</td>\n",
       "      <td>57.3</td>\n",
       "      <td>6726</td>\n",
       "      <td>53235</td>\n",
       "      <td>2055</td>\n",
       "      <td>3.3</td>\n",
       "      <td>42604</td>\n",
       "    </tr>\n",
       "  </tbody>\n",
       "</table>\n",
       "</div>"
      ],
      "text/plain": [
       "   Year  Civilian Noninstitutional Population  Total  Civilian Labor Force  \\\n",
       "0  1947                                101827                        59350   \n",
       "1  1948                                103068                        60621   \n",
       "2  1949                                103994                        61286   \n",
       "3  1950                                104995                        62208   \n",
       "4  1951                                104621                        62017   \n",
       "\n",
       "   Percent of Population in Labor Force  Total Employed Population  \\\n",
       "0                                  58.3                      57038   \n",
       "1                                  58.8                      58343   \n",
       "2                                  58.9                      57651   \n",
       "3                                  59.2                      58918   \n",
       "4                                  59.2                      59961   \n",
       "\n",
       "   Percent Employed\\nof Population   Agri-\\nculture Employees  \\\n",
       "0                              56.0                      7890   \n",
       "1                              56.6                      7629   \n",
       "2                              55.4                      7658   \n",
       "3                              56.1                      7160   \n",
       "4                              57.3                      6726   \n",
       "\n",
       "   Nonagri-\\ncultural\\nIndustry Employees  Number of Unemployed  \\\n",
       "0                                   49148                  2311   \n",
       "1                                   50714                  2276   \n",
       "2                                   49993                  3637   \n",
       "3                                   51758                  3288   \n",
       "4                                   53235                  2055   \n",
       "\n",
       "   Percent Unemployed\\nof\\nlabor\\nforce  Not In Labor Force  \n",
       "0                                   3.9               42477  \n",
       "1                                   3.8               42447  \n",
       "2                                   5.9               42708  \n",
       "3                                   5.3               42787  \n",
       "4                                   3.3               42604  "
      ]
     },
     "execution_count": 68,
     "metadata": {},
     "output_type": "execute_result"
    }
   ],
   "source": [
    "unemployment.head()"
   ]
  },
  {
   "cell_type": "markdown",
   "metadata": {},
   "source": [
    "#### What, roughly, was the highest level the U.S. unemployment rate (measured as Percent Unemployed of Labor Force in the table) reached in:\n",
    "\n",
    "$1.$ The 20th century?"
   ]
  },
  {
   "cell_type": "code",
   "execution_count": null,
   "metadata": {
    "collapsed": true
   },
   "outputs": [],
   "source": [
    "unemployment_20th = ___"
   ]
  },
  {
   "cell_type": "markdown",
   "metadata": {},
   "source": [
    "$2.$ The past fifty years? "
   ]
  },
  {
   "cell_type": "code",
   "execution_count": null,
   "metadata": {
    "collapsed": true
   },
   "outputs": [],
   "source": [
    "unemployment_past_50 = ___"
   ]
  },
  {
   "cell_type": "markdown",
   "metadata": {},
   "source": [
    "$3.$ The twenty years before 2006?"
   ]
  },
  {
   "cell_type": "code",
   "execution_count": null,
   "metadata": {
    "collapsed": true
   },
   "outputs": [],
   "source": [
    "unemployment_before_2006 = ___"
   ]
  },
  {
   "cell_type": "markdown",
   "metadata": {},
   "source": [
    "$4.$ Given your answers to (1) through (3), Do you think there is a connection between your answer to the question above and the fact that Federal Reserve Chair Alan Greenspan received a five-minute standing ovation at the end of the first of many events marking his retirement in 2005?"
   ]
  },
  {
   "cell_type": "markdown",
   "metadata": {},
   "source": [
    "<font color='blue'> ANSWER:"
   ]
  },
  {
   "cell_type": "markdown",
   "metadata": {},
   "source": [
    "#### The State of the Labor Market\n",
    "\n",
    "$1.$ About how many people lose or quit their jobs in an average year?"
   ]
  },
  {
   "cell_type": "code",
   "execution_count": null,
   "metadata": {
    "collapsed": true
   },
   "outputs": [],
   "source": [
    "average_quitters = ___"
   ]
  },
  {
   "cell_type": "markdown",
   "metadata": {},
   "source": [
    "$2.$ About how many people get jobs in an average year?"
   ]
  },
  {
   "cell_type": "code",
   "execution_count": null,
   "metadata": {
    "collapsed": true
   },
   "outputs": [],
   "source": [
    "average_getters = ___"
   ]
  },
  {
   "cell_type": "markdown",
   "metadata": {},
   "source": [
    "$3.$ About how many people are unemployed in an average year?"
   ]
  },
  {
   "cell_type": "code",
   "execution_count": null,
   "metadata": {
    "collapsed": true
   },
   "outputs": [],
   "source": [
    "average_unemployed = ___"
   ]
  },
  {
   "cell_type": "markdown",
   "metadata": {},
   "source": [
    "$4.$ About how many people are at work in an average year?"
   ]
  },
  {
   "cell_type": "code",
   "execution_count": null,
   "metadata": {
    "collapsed": true
   },
   "outputs": [],
   "source": [
    "average_workers = ___"
   ]
  },
  {
   "cell_type": "markdown",
   "metadata": {},
   "source": [
    "$5.$ About how many people are unemployed now?"
   ]
  },
  {
   "cell_type": "code",
   "execution_count": null,
   "metadata": {
    "collapsed": true
   },
   "outputs": [],
   "source": [
    "unemployed_now = ___"
   ]
  },
  {
   "cell_type": "markdown",
   "metadata": {},
   "source": [
    "#### National Income Accounting:\n",
    "\n",
    "$1.$ What was the level of real GDP in 2005 dollars in 1970?"
   ]
  },
  {
   "cell_type": "code",
   "execution_count": null,
   "metadata": {
    "collapsed": true
   },
   "outputs": [],
   "source": [
    "real_gdp_2005 = ___"
   ]
  },
  {
   "cell_type": "markdown",
   "metadata": {},
   "source": [
    "$2.$ What was the rate of inflation in the United States in 2000?"
   ]
  },
  {
   "cell_type": "code",
   "execution_count": 70,
   "metadata": {
    "collapsed": true
   },
   "outputs": [],
   "source": [
    "inflation_rate_2000 = ___"
   ]
  },
  {
   "cell_type": "markdown",
   "metadata": {},
   "source": [
    "$3.$ Explain whether or not, how, and why the following items are included in the calculation of GDP: (i) rent you pay on an apartment, (ii) purchase of a used textbook, (iii) purchase of a new tank by the Department of Defense, (iv) watching an advertisement on youtube."
   ]
  },
  {
   "cell_type": "markdown",
   "metadata": {},
   "source": [
    "<font color='blue'> ANSWER:"
   ]
  },
  {
   "cell_type": "markdown",
   "metadata": {},
   "source": []
  }
 ],
 "metadata": {
  "anaconda-cloud": {},
  "kernelspec": {
   "display_name": "Python 3",
   "language": "python",
   "name": "python3"
  },
  "language_info": {
   "codemirror_mode": {
    "name": "ipython",
    "version": 3
   },
   "file_extension": ".py",
   "mimetype": "text/x-python",
   "name": "python",
   "nbconvert_exporter": "python",
   "pygments_lexer": "ipython3",
   "version": "3.6.1"
  }
 },
 "nbformat": 4,
 "nbformat_minor": 1
}
