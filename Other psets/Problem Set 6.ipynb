{
 "cells": [
  {
   "cell_type": "markdown",
   "metadata": {},
   "source": [
    "<font size=\"+3\">Econ 101B - Problem Set 1 </font>\n",
    " \n",
    "<font size=\"+1\"> Brad DeLong"
   ]
  },
  {
   "cell_type": "markdown",
   "metadata": {},
   "source": [
    "## Chapter 11: Consumption and the Multiplier"
   ]
  },
  {
   "cell_type": "markdown",
   "metadata": {},
   "source": [
    "#### The Keynesian Cross\n",
    "\n",
    "Consider an economy in which prices are sticky, the marginal propensity to consume out of disposable income Cy is 0.75, the tax rate t is 0.25, and the share of national income spent on imports IMy is 20 percent.\n",
    "\n",
    "1. Suppose that total autonomous spending is $6 trillion. Graph planned expenditure as a function of total national income.\n",
    "2. Determine the equilibrium level of national income and real product.\n",
    "3. What is the value of the multiplier in this economy?\n",
    "4. Suppose that total autonomous spending increases by $100 billion to $6.1 trillion. What happens to the equilibrium level of national income and real GDP, Y?"
   ]
  },
  {
   "cell_type": "markdown",
   "metadata": {},
   "source": [
    "#### Raising and Lowering Short-Run Real Product\n",
    "\n",
    "Classify the following set of changes into two groups: those that increase equilibrium real national product, and those that decrease real national product:\n",
    "\n",
    "1. An increase in consumers' desire to spend today.\n",
    "2. An increase in interest rates overseas.\n",
    "3. A decline in foreign exchange speculators' confidence in the value of the home currency.\n",
    "4. A fall in real GDP overseas.\n",
    "5. An increase in government purchases.\n",
    "6. An increase in managers' expectations of the future profitability of investments. g. An increase in the tax rate."
   ]
  },
  {
   "cell_type": "markdown",
   "metadata": {},
   "source": [
    "#### Boosting Real Product via Government Purchases\n",
    "\n",
    "1. Suppose that the government wishes (for good reasons) to increase the equilibrium level of real GDP by $800 billion. How would you suggest that the government go about figuring out how to accomplish this goal?\n",
    "2. Suppose that the economy is short of its full-employment level of GDP, $12 trillion, by $1,000 billion, with the MPC out of disposable income Cy equal to 0.6, the import share IMy equal to 0.2, and the tax rate t equal to 25%.\n",
    "3. Suppose the government wants to boost real GDP up to full employment by cutting taxes. How large a cut in the tax rate is required to boost real GDP to full employment? How large a cut in total tax collections is produced by this cut in the tax rate?\n",
    "4. Suppose the government wants to boost real GDP up to full employment by increasing government spending. How large an increase in government spending is required to boost real GDP to full employment?\n",
    "5. Can you account for any asymmetry between your answers?"
   ]
  },
  {
   "cell_type": "markdown",
   "metadata": {},
   "source": [
    "#### Shifting National Product\n",
    "\n",
    "In the simple income-expenditure model with real national product Y equal to the sum of consumption spending by households C, investment spending by businesses I, government purchases G, and with net exports NX; with consumption spending C given by the equation: where Y = C + O and C = co + cyY(1-t); and with imports IM given by the equation: IM = imyY...\n",
    "\n",
    "1. Suppose cy = 0.5, the tax rate t=0, imy = 0.5, and G increases by $100 billion. What happens to GDP Y?\n",
    "2. Suppose cy = 0.5, the tax rate t=0, imy = 0.16667, and G increases by $100 billion. What happens to GDP Y?\n",
    "3. Suppose cy = 0.9, the tax rate t=0, imy = 0.1, and G increases by $100 billion. What happens to GDP Y?\n",
    "4. Suppose cy = 0.25, the tax rate t=0, imy = 0.25, and G increases by $100 billion. What happens to GDP Y?"
   ]
  },
  {
   "cell_type": "markdown",
   "metadata": {},
   "source": [
    "#### Shifting National Product II\n",
    "\n",
    "In the simple income-expenditure model with real GDP Y equal to the sum of consumption spending by households C, investment spending by businesses I, government purchases G, and with net exports NX; with consumption spending C given by the equation: C = co + cyY(1-t); and with imports IM given by the equation: IM = imyY...\n",
    "\n",
    "1. Suppose cy = 0.5, the tax rate t=0, imy = 0.5, and I increases by $100 billion. What happens to GDP Y?\n",
    "2. Suppose cy = 0.5, the tax rate t=0, imy = 0.16667, and GX increases by $100 billion. What happens to GDP Y?\n",
    "3. Suppose cy = 0.8, the tax rate t=0, imy = 0.05, and I increases by $100 billion. What happens to GDP Y?\n",
    "4. Suppose cy = 0.25, the tax rate t=0, imy = 0.25, and c0 increases by $100 billion. What happens to GDP Y?"
   ]
  },
  {
   "cell_type": "markdown",
   "metadata": {},
   "source": [
    "#### Shifting National Product III\n",
    "\n",
    "In the simple income-expenditure model with real GDP Y equal to the sum of consumption spending by households C, investment spending by businesses I, government purchases G, and with net exports NX; with consumption spending C given by the equation: C = co + cyY(1-t); and with imports IM given by the equation: IM = imyY...\n",
    "\n",
    "1. Suppose cy = 0.6, the tax rate t=0, imy = 0.1, and I falls by $250 billion. What happens to national product Y?\n",
    "2. Suppose cy = 0.6, the tax rate t=0.2, imy = 0.1, and I falls by $250 billion. What happens to national product GDP Y?\n",
    "3. Suppose cy = 0.6, the tax rate t=0.4, imy = 0.1, and I falls by $250 billion. What happens to national product GDP Y?\n",
    "4. Suppose cy = 0.6, the tax rate t=0.6, imy = 0.1, and I falls by $250 billion. What happens to national product GDP Y?\n",
    "5. Since the 1930s, left-wing economists have argued that an economy with a higher share of government spending and taxes in GDP is less vulnerable to business cycle downturns. Why might this be so?"
   ]
  },
  {
   "cell_type": "markdown",
   "metadata": {},
   "source": [
    "#### Shifting National Product IV\n",
    "\n",
    "In the simple income-expenditure model with real GDP Y equal to the sum of consumption spending by households C, investment spending by businesses I, government purchases G, and with net exports NX; with consumption spending C given by the equation: C = co + cyY(1-t); and with imports IM given by the equation: IM = imyY...\n",
    "\n",
    "1. Suppose cy = 0.6, the tax rate t=0.2, imy = 0.0, and G rises by $250 billion. What happens to GDP Y?\n",
    "2. Suppose cy = 0.6, the tax rate t=0.2, imy = 0.1, and G rises by $250 billion. What happens to GDP Y?\n",
    "3. Suppose cy = 0.6, the tax rate t=0.2, imy = 0.2, and G rises by $250 billion. What happens to GDP Y?\n",
    "4. Suppose cy = 0.6, the tax rate t=0.2, imy = 0.3, and G rises by $250 billion. What happens to GDP Y?\n",
    "5. Since the 1940s, economists have argued that as world trade and the propensity to import rise, government spending becomes less effective as a tool for boosting production and fighting depressions. Why might this be so?"
   ]
  },
  {
   "cell_type": "markdown",
   "metadata": {},
   "source": [
    "#### Shifting National Product V\n",
    "\n",
    "In the simple income-expenditure model with real GDP Y equal to the sum of consumption spending by households C, investment spending by businesses I, government purchases G, and with net exports NX; with consumption spending C given by the equation: C = co + cyY(1-t); and with imports IM given by the equation: IM = imyY...\n",
    "\n",
    "1. Suppose cy = 0.4, the tax rate t=0.2, imy = 0.2, and I falls by $200 billion. What happens to national product Y?\n",
    "2. Suppose cy = 0.6, the tax rate t=0.2, imy = 0.2, and I falls by $200 billion. What happens to national product Y?\n",
    "3. Suppose cy = 0.8, the tax rate t=0.2, imy = 0.2, and I falls by $200 billion. What happens to national product Y?\n",
    "4. Suppose cy = 1.0, the tax rate t=0.2, imy = 0.2, and I falls by $200 billion. What happens to national product Y?"
   ]
  },
  {
   "cell_type": "markdown",
   "metadata": {},
   "source": [
    "## Chapter 12: The Investment and Savings Curve"
   ]
  },
  {
   "cell_type": "markdown",
   "metadata": {},
   "source": [
    "#### TFU\n",
    "\n",
    "Label each of the following statements as True, False, or Uncertain, and explain your answer briefly.\n",
    "\n",
    "1. In the short run, an increase in consumer confidence raises the real interest rate, consumption, and real GDP.\n",
    "2. The fact that the U.S. output growth was only slightly less volatile in the four decades or so after World War 2 than in the four decades or so before the Great Depression shows that fiscal and monetary policy do not have large short-run effects on output.\n",
    "3. If consumers decide to save more at a given level of disposable income than before, investment will rise, and so output will rise."
   ]
  },
  {
   "cell_type": "markdown",
   "metadata": {},
   "source": [
    "#### IS Equilibrium: Tax Increase\n",
    "\n",
    "Suppose there is a tax increase.\n",
    "\n",
    "1. In the simple IS-MP model with a single real interest rate, does consumption rise, fall,\n",
    "stay the same, or is it impossible to tell? Does investment rise, fall, stay the same, or is it\n",
    "impossible to tell?\n",
    "2. In the IS-MP model with an interest rate differential, does consumption rise, fall, stay\n",
    "the same, or is it impossible to tell? Does investment rise, fall, stay the same, or is it impossible to tell?"
   ]
  },
  {
   "cell_type": "markdown",
   "metadata": {},
   "source": [
    "#### True, False, or Uncertain, and explain your answer briefly:\n",
    "\n",
    "1. “In the IS-MP model extended to include an interest rate differential, an increase in confidence in the soundness of the financial system increases output.”\n",
    "2. “Introducing an interest rate differential into the IS-MP model makes the AD curve steeper than it otherwise would be.”\n",
    "3. “If the fiscal policy multiplier is less than 1, then fiscal policy cannot help to end a recession.”"
   ]
  },
  {
   "cell_type": "markdown",
   "metadata": {},
   "source": [
    "#### Pick the Best Answer\n",
    "\n",
    "1. Researchers who are trying to estimate the effects of changes in government purchases on real GDP often focus on military purchases because: a. The types of government purchases that policymakers are likely to use to combat a recession are similar in important ways to military purchases. b. Wars are often accompanied by price controls, which makes them particularly good times for isolating the effects of changes in government purchases. c. Changes in military purchases are caused mainly by geopolitical developments outside the United Sates, not by other factors affecting U.S. GDP. d. It is hard to obtain data on non-military purchases.\n",
    "2. “asset price bubble” means: a. A large, rapid rise in asset prices. b. A rise in asset prices that is reversed.c. A rise in asset prices in response to reductions in interest rates. d. Asset prices being greater than their “fundamental” values.\n",
    "3. Suppose a variable, y, is determined by a factor we can measure, x, and by other factors that we cannot. That is, y = a + bx + e, where a and b are parameters and e is the unobserved other factors. Estimates of b from a regression of y on x (estimated by “ordinary least squares”) will tend to overestimate the impact of x on y if: a. x and e are negatively correlated (that is, e tends to be low when x is high, and high when x is low). b. x and e are uncorrelated (that is, x has no consistent relationship with e). c. x and e are positively correlated (that is, e tends to be high when x is high, and low when x is low). d. a and x are positively correlated.\n",
    "4. The fact that the bankruptcy of Lehman Brothers nearly caused the failure of institutions that had made loans to Lehman Brothers is an example of: a. “Confidence” contagion. b. “Coordination” or “Fire sale” contagion. c. “Counterparty” contagion. d. None of the above.\n",
    "5. The “borrowing” interest rate, rb, is usually higher than the “saving” interest rate, rs, because: a. Financial intermediaries’ information production, liquidity transformation, and diversification provision are costly. b. Government regulations limit the interest rates that banks can pay. c. The interest rates that foreigners can get on their savings are generally lower than interest rates in the United States. d. The inflation rate faced by savers is usually lower than the inflation rate faced by borrowers."
   ]
  },
  {
   "cell_type": "markdown",
   "metadata": {},
   "source": [
    "#### Income-Spending Shifts\n",
    "\n",
    "Consider ΔY = [ΔA0 + ΔG - (Ir + Xεεr)Δr]/(1-(1-t)cy + imy), the investment savings framework (with ΔA0 = Δc0 + ΔI0 -XεΔε0 + Xy*ΔY* + XεεrΔr). Suppose the multiplier 1/(1-(1-t)cy + imy) = 1.5 and the responsiveness of exports to the exchange rate Xε = 500...\n",
    "\n",
    "1. What happens to Y if government purchases G goes up by $100 billion, and nothing else changes?\n",
    "2. What happens to Y if baseline investment spending I0 goes up by $100 billion, and nothing else changes?\n",
    "3. What happens to Y if baseline consumption spending c0 goes up by $100 billion, and nothing else changes?\n",
    "4. What happens to Y if speculator confidence in the currency ε0 goes up by 20%— by 0.2—and nothing else changes?\n",
    "5. Explain the similarities and the differences between your answers to (a)-(d)."
   ]
  },
  {
   "cell_type": "markdown",
   "metadata": {},
   "source": [
    "#### Income-Spending Shifts II\n",
    "\n",
    "Consider ΔY = [ΔA0 + ΔG - (Ir + Xεεr)Δr]/(1-(1-t)cy + imy), the investment savings framework (with ΔA0 = Δc0 + ΔI0 -XεΔε0 + Xy*ΔY* + XεεrΔr). Suppose the multiplier 1/(1-(1-t)cy + imy) = 1.5 and the responsiveness of exports to the exchange rate Xε = 500...\n",
    "\n",
    "1. Suppose that capital controls keep the exchange rate from responding to changes in the interest rate—suppose that εr = 0—and suppose the sensitivity of investment spending to the interest rate Ir = 50. If the interest rate falls by 2%—by 200 basis points, or by 0.02—what happens to Y?\n",
    "2. Suppose that the responsiveness of the exchange rate to changes in the interest εr = 1, and suppose the sensitivity of investment spending to the interest rate Ir = 50. If the interest rate falls by 2%—by 200 basis points, or by 0.02—what happens to Y?\n",
    "3. Suppose that the responsiveness of the exchange rate to changes in the interest εr = 5, and suppose the sensitivity of investment spending to the interest rate Ir = 50. If the interest rate falls by 2%—by 200 basis points, or by 0.02—what happens to Y?\n",
    "4. Suppose that the responsiveness of the exchange rate to changes in the interest εr = 20, and suppose the sensitivity of investment spending to the interest rate Ir = 50. If the interest rate falls by 2%—by 200 basis points, or by 0.02—what happens to Y?\n",
    "5. Explain the similarities and the differences between your answers to (a)-(d). What features of the situation besides government controls on foreign investment might influence the value of εr?"
   ]
  },
  {
   "cell_type": "markdown",
   "metadata": {},
   "source": [
    "#### Income-Spending Shifts III\n",
    "\n",
    "Consider ΔY = [ΔA0 + ΔG - (Ir + Xεεr)Δr]/(1-(1-t)cy + imy), the investment savings framework (with ΔA0 = Δc0 + ΔI0 -XεΔε0 + Xy*ΔY* + XεεrΔr). Suppose the multiplier 1/(1-(1-t)cy + imy) = 1.5, the responsiveness of exports to the exchange rate Xε = 500, and the responsiveness of the exchange rate to changes in the interest εr = 10...\n",
    "\n",
    "1. What happens to Y if the real interest rate r goes up by 1%—by 100 basis points or by 0.01?\n",
    "2. What happens to Y if the real interest rate r goes up by 1%—by 100 basis points or by 0.01—and if baseline investment spending goes up by 50?\n",
    "3. What happens to Y if the real interest rate r goes down by 1%—by 100 basis points or 0.01—and if speculator confidence in the currency goes up by 10%?\n",
    "4. What happens to Y if the real interest rate r goes up by 1%—by 100 basis points or by 0.01— and if baseline consumption spending goes down by 50?"
   ]
  },
  {
   "cell_type": "markdown",
   "metadata": {},
   "source": [
    "#### Income-Spending Shifts IV\n",
    "\n",
    "Consider ΔY = [ΔA0 + ΔG - (Ir + Xεεr)Δr]/(1-(1-t)cy + imy), the investment savings framework (with ΔA0 = Δc0 + ΔI0 -XεΔε0 + Xy*ΔY* + XεεrΔr). Suppose the multiplier 1/(1-(1-t)cy + imy) = 1.5 and the responsiveness of exports to the exchange rate Xε = 500...\n",
    "\n",
    "1. What happens to Y if the real interest rate r goes up by 2%—by 100 basis points or by 0.01—and if speculator confidence in the currency goes down by 20%?\n",
    "2.  What happens to Y if the real interest rate r goes up by 1%—by 100 basis points or by 0.01—and if baseline investment spending goes down by 200?\n",
    "3. What happens to Y if the real interest rate r goes down by 1%—by 100 basis points or 0.01—and if speculator confidence in the currency goes up by 5%?\n",
    "4. What happens to Y if the real interest rate r goes up by 1%—by 100 basis points or by 0.01— and if baseline consumption spending goes up by 100?\n",
    "5.  How would your answers to (8) be different if instead of 1/(1-(1-t)cy + imy) = 1.5, t=0.25, cy =0.8 imy=0.1?"
   ]
  },
  {
   "cell_type": "markdown",
   "metadata": {},
   "source": [
    "#### Income-Spending Shifts V\n",
    "\n",
    "Consider ΔY = [ΔA0 + ΔG - (Ir + Xεεr)Δr]/(1-(1-t)cy + imy), the investment savings framework (with ΔA0 = Δc0 + ΔI0 -XεΔε0 + Xy*ΔY* + XεεrΔr). Suppose the multiplier 1/(1-(1-t)cy + imy) = 1.5 and the responsiveness of exports to the exchange rate Xε = 500...\n",
    "\n",
    "1. Why does a contractionary monetary policy abroad that raises interest rates abroad raise GDP at home?\n",
    "2. Why does an outburst of enthusiasm among foreign exchange speculators that makes them more confident about the long-run value of the home currency reduce GDP at home?\n",
    "3. When an outburst of enthusiasm among foreign exchange speculators that makes them more confident about the long-run value of the home currency reduces GDP at home, what components of GDP change and in which direction?\n",
    "4. What would be the effects on GDP at home of a stimulative fiscal policy abroad that raised real GDP abroad?"
   ]
  },
  {
   "cell_type": "markdown",
   "metadata": {},
   "source": [
    "#### International Shocks\n",
    "\n",
    "Consider ΔY = [ΔA0 + ΔG - (Ir + Xεεr)Δr]/(1-(1-t)cy + imy), the investment savings framework (with ΔA0 = Δc0 + ΔI0 -XεΔε0 + XyfΔYf + XεεrΔrf). Suppose the responsiveness of exports to the exchange rate Xε = 500, the responsiveness of the exchange rate to interest rates εr=10, and the responsiveness of investment to the interest rate Ir = 1000. And suppose t=0.2, cy =0.8 imy=0.14:\n",
    "\n",
    "1. What happens to Y if the real interest rate r goes up by 2%—by 0.02—and if speculator confidence in the currency goes down by 30%?\n",
    "2. What happens to Y if the real interest rate r goes up by 1%—by 0.01—and if baseline investment spending goes down by 300?\n",
    "3. What happens to Y if the real interest rate r goes down by 1%—by 0.01—and if speculator confidence in the currency goes up by 5"
   ]
  },
  {
   "cell_type": "markdown",
   "metadata": {},
   "source": [
    "#### Depression Economic\n",
    "\n",
    "In the simple income-expenditure model with real GDP Y equal to the sum of consumption spending by households C, investment spending by businesses I, government purchases G, and with net exports NX; with consumption spending C given by the equation: C = co + cyY(1-t); and with imports IM given by the equation: IM = imyY...\n",
    "\n",
    "1. Suppose I = $1.7 trillion, G = $2 trillion, GX = $1.3 trillion, co = $3 trillion, cy = 0.85, the tax rate t=0, and imy = .10. What is GDP Y?\n",
    "2. Suppose I = $1.7 trillion, G = $3.5 trillion, GX = $0.8 trillion, co = $3 trillion, cy = 0.65, the tax rate t=0, and imy = .15. What is GDP Y?\n",
    "3. Suppose I = $2.3 trillion, G = $4 trillion, GX = $1.7 trillion, co = $3 trillion, cy = 0.6, the tax rate t=0.67, and imy = .2. What is GDP Y?\n",
    "4. Suppose I = $1.5 trillion, G = $2.5 trillion, GX = $1.0 trillion, co = $3 trillion, cy = 0.67, the tax rate t=0, and imy=.0.WhatisGDPY?"
   ]
  },
  {
   "cell_type": "markdown",
   "metadata": {
    "collapsed": true
   },
   "source": []
  }
 ],
 "metadata": {
  "anaconda-cloud": {},
  "kernelspec": {
   "display_name": "Python [Root]",
   "language": "python",
   "name": "Python [Root]"
  },
  "language_info": {
   "codemirror_mode": {
    "name": "ipython",
    "version": 3
   },
   "file_extension": ".py",
   "mimetype": "text/x-python",
   "name": "python",
   "nbconvert_exporter": "python",
   "pygments_lexer": "ipython3",
   "version": "3.5.2"
  }
 },
 "nbformat": 4,
 "nbformat_minor": 1
}
