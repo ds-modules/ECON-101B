{
 "cells": [
  {
   "cell_type": "markdown",
   "metadata": {},
   "source": [
    "<font size=\"+3\">Econ 101B - Problem Set 3 </font>\n",
    " \n",
    "<font size=\"+1\"> Brad DeLong"
   ]
  },
  {
   "cell_type": "markdown",
   "metadata": {},
   "source": [
    "## Chapter 5: Reality of Economic Growth: History"
   ]
  },
  {
   "cell_type": "markdown",
   "metadata": {},
   "source": [
    "#### Escape from the Malthusian Trap\n",
    "\n",
    "Suppose somebody who hasn't taken any economics courses were to ask you why humanity escaped from the Malthusian trap--of very low standards of living and slow population growth rates that nevertheless put pressure on available natural resources and kept output per worker from rising--in which humanity found itself between the year 8000 B.C.E. and 1800. What answer would you give? (One paragraph only, please!)"
   ]
  },
  {
   "cell_type": "markdown",
   "metadata": {},
   "source": [
    "#### Malthusian Economy\n",
    "\n",
    "Suppose—in the Malthusian model with natural resources—that population growth depends on the level of output per worker, so that:\n",
    "\n",
    "n = (.00002) x [(Y/L) - $400]\n",
    "\n",
    "That is, the population and labor force growth rate n is zero if output per worker equals $400, and that each $100 increase in output per worker raises the population growth rate by 0.2 percent per year. Suppose also that the natural-resources parameter β in the production function: Y = Kα (EL L)1−α−β (ER )β is 0.2. Suppose also that gL=0.\n",
    "\n",
    "1. If gR=0.2% per year, what is the steady-state rate of population growth? If it is 0.4% per year? 1% per year?\n",
    "2. How long does it take the population to double for each of the efficiency-of-using- resources growth rates above?\n",
    "3. By what multiple does the population grow in a millennium for each of the efficiency-of-labor growth rates in (a) above?"
   ]
  },
  {
   "cell_type": "markdown",
   "metadata": {},
   "source": [
    "#### Malthus\n",
    "\n",
    "Write a paragraph explaining to somebody who hasn’t taken this course how human populations could increase from 170 million in year 1 to 500 million in year 1500 without there being any noticeable increases in life expectancy or median material standards of living."
   ]
  },
  {
   "cell_type": "markdown",
   "metadata": {},
   "source": [
    "#### Economic History Facts\n",
    "\n",
    "1. Roughly, how much larger was global world product in 1800 than it was in the year 1?\n",
    "2. Roughly, how large is global world product today?\n",
    "3. Roughly, how much larger is global world product today than it was in 2000?"
   ]
  },
  {
   "cell_type": "markdown",
   "metadata": {},
   "source": [
    "#### Argentina\n",
    "\n",
    "In 1960, Argentina had a level of output per worker of $14,000/year. In the 1940s and 1950s it had had a savings-investment share of 24% and a labor-force growth rate of 2% per year. Since 1960 Argentina has averaged a savings-investment share of 15% and a labor force growth rate of 1%/year. Assume that Argentina in the 1940s and 1950s had an efficiency of labor growth rate g of 1%/year. Assume α= 2⁄3. Assume the depreciation rate δ is 5%/year. Assume that Argentina in 1960 was on its 1940s and 1950s steady-state balanced-growth path, and that Argentina today is on its post-1960 balanced growth path.\n",
    "\n",
    "1. What was Argentinaʼs capital-output ratio in 1960?\n",
    "2. What was Argentinaʼs efficiency of labor E in 1960?\n",
    "3. If the efficiency-of-labor growth rate had been 1%/year since 1960, what would Argentinaʼs efficiency of labor, capital-output ratio, and level of output per worker be today?\n",
    "4. If the efficiency of labor growth rate had been 2%/year since 1960, what would Argentinaʼs efficiency of labor, capital-output ratio, and level of output per worker be today?\n",
    "5. If the efficiency of labor growth rate had been 3%/year since 1960, what would Argentinaʼs efficiency of labor, capital-output ratio, and level of output per worker be today?\n",
    "6. If the efficiency of labor growth rate had been 4%/year since 1960, what would Argentinaʼs efficiency of labor, capital-output ratio, and level of output per worker be today?\n",
    "7. If the efficiency of labor growth rate had been 5%/year since 1960, what would Argentinaʼs efficiency of labor, capital-output ratio, and level of output per worker be today?\n",
    "8. Argentinaʼs level of output per worker today is $27000/year. What do you guess its growth rate of the efficiency of labor has been on average since 1960?"
   ]
  },
  {
   "cell_type": "markdown",
   "metadata": {},
   "source": [
    "## Chapter 6: Reality of Economic Growth: Present and Future"
   ]
  },
  {
   "cell_type": "markdown",
   "metadata": {},
   "source": [
    "#### Suppose somebody\n",
    "\n",
    "who hasn't taken any economics courses were to ask you why it is that some countries are so very, very much poorer than others in the world today. What answer would you give? (Two paragraphs only, please!)"
   ]
  },
  {
   "cell_type": "markdown",
   "metadata": {},
   "source": [
    "#### Constant Returns\n",
    "\n",
    "Suppose we have our standard growth model with s =15 percent, n = 1 percent, g = 1 percent, and δ = 3 percent. Suppose also that the current level of the efficiency of labor E is $5,000 per year and the current level of capital per worker is $25,000. Suppose further that the parameter α in the production function is equal to 1: α = 1.\n",
    "\n",
    "1. What can you say about output per worker in this economy? What would you project output per worker to be at some point in the distant future?\n",
    "2. Suppose the savings rate s is not 15 percent but 17.5 percent. How would that change your projections of the future growth of output per worker?\n",
    "3. What effect does growth in the efficiency of labor have on output per worker when α = 1?\n",
    "4. Why aren’t the normal Solow model tools of analysis and rules of thumb much use when α = 1?"
   ]
  },
  {
   "cell_type": "markdown",
   "metadata": {},
   "source": [
    "#### Computer Revolution\n",
    "\n",
    "Today it appears that because of the computer revolution the rate of growth of the efficiency of labor in the United States has more than doubled, from 1.0 percent per year before 1995 to about 3.0 percent per year since. Suppose this increase were to be permanent.Suppose the rate of labor force growth were to remain constant at 1 percent per year, the depreciation rate were to remain constant at 3 percent per year, and the American savings rate (plus foreign capital invested in America) were to remain constant at 20 percent per year. Assume that the efficiency of labor in the U.S. in 2006 is $18,500 per year, and that the diminishing-returns-to-capital parameter α is 1/2.\n",
    "\n",
    "1. What is the change in the steady-state capital-output ratio because of this acceleration in efficiency-of-labor growth? What is the new steady-state capital- output ratio?\n",
    "2. How would such a permanent acceleration in the rate of growth of the efficiency of labor change your forecast of the level of output per worker in 2040? c. How would your answers to (a) and (b) be different if α were 1/3? If it were 2/3?"
   ]
  },
  {
   "cell_type": "markdown",
   "metadata": {},
   "source": [
    "#### Capital: \n",
    "\n",
    "Suppose that you misestimate the capital stock—think that its rate of growth is lower than it actually is—but otherwise understand the parameters and the growth rates of the base-camp Solow growth model. How will your conclusions about the sources of economic growth be off?"
   ]
  },
  {
   "cell_type": "markdown",
   "metadata": {},
   "source": [
    "#### Prices of Capital Goods\n",
    "\n",
    "Let us suppose that the price of capital goods in terms of output-in-general P(k) varies, so that the law of motion for the capital stock in the Solow growth model is not:\n",
    "\n",
    ">dK/dt = sY − δK\n",
    "\n",
    "but is instead:\n",
    "\n",
    ">dKt = sY/P(k) − δK\n",
    "\n",
    "1. Derive the steady-state balanced-growth capital-output ratio (K/Y)* for this model in which the price of capital goods varies.\n",
    "2. Suppose that richer countries have lower prices of capital goods according to: Y−η PK =L Using your answer from (5), suppose that η=1/3. Now consider the three cases of α equal to 0.25, 0.5, and 0.75. Suppose that something happens in the economy to permanently increase the savings rate from 20% to 21%. \n",
    "3. By what proportional fraction does steady-state output-per-worker increase relative to its previous steady-state balanced-growth path?"
   ]
  },
  {
   "cell_type": "markdown",
   "metadata": {},
   "source": [
    "#### Leninism and Stalinism\n",
    "\n",
    "Take a look at http://en.wikipedia.org/wiki/List_of_countries_by_GDP_%28PPP%29_per_capita_per_hour — the wikipedia page for “List of countries by GDP (PPP) per capita per hour.” Select some countries that were once ruled by Communist governments and compare them to neighboring countries that were lucky enough to escape Communist rule. How big a shadow do you guess having a Communist government imposes on a nation on average, even today?"
   ]
  },
  {
   "cell_type": "markdown",
   "metadata": {},
   "source": [
    "#### Long-Run American Growth\n",
    "\n",
    "Take a look at the 2006 Economic Report of the President at http://www.gpoaccess.gov/eop/index.html. Read pages 36-37 and 43-46. How would you translate the arguments made by Eddie Lazear and his colleagues about the long-run growth rate of the American economy into concepts introduced in this course?"
   ]
  },
  {
   "cell_type": "markdown",
   "metadata": {},
   "source": [
    "#### International Disparities\n",
    "\n",
    "1. Roughly, what is the gap between real per capita GDP in the U.S. today and real per capita GDP in China?\n",
    "2. Roughly, what is the gap between real per capita GDP in China today and real per\n",
    "capita GDP in Mozambique?"
   ]
  },
  {
   "cell_type": "markdown",
   "metadata": {},
   "source": [
    "#### Botswana\n",
    "\n",
    "In the 1950s Botswanaʼs savings rate averaged 6 percent of GDP. In 1960 Botswanaʼs level of GDP per capita was 900 of todayʼs dollars per year. Since 1960 Botswanaʼs savings rate has averaged 30 percent of GDP. Today Botswanaʼs level of GDP per capita is 15000 per year. \n",
    "\n",
    "Assume that the diminishing-returns parameter α in our production function for Botswana is 0.5, that Botswanaʼs population growth rate n has been constant at 2 percent per year, and that its depreciation rate δ has been constant at 4 percent per year. Assume that Botswana was back in 1960 on its old steady- state balanced-growth path (for an s=0.06) and is now on its new steady-state balanced-growth path (for an s=0.30)\n",
    "\n",
    "1. Suppose there had been no growth in the efficiency of labor in Botswana between 1960 and 2011, what do you predict that the level of GDP per capita would be in Botswana today?\n",
    "2. How fast has the efficiency of labor grown in Botswana over the past 50 years?\n",
    "3. What was the value of the efficiency of labor in Botswana in 1960?\n",
    "4. What is the value of the efficiency of labor in Botswana today?"
   ]
  },
  {
   "cell_type": "markdown",
   "metadata": {},
   "source": [
    "#### Zambia\n",
    "\n",
    "In the 1950s Zambiaʼs savings rate averaged 24.5 percent of GDP. In 1960 Zambiaʼs level of GDP per capita was 1800 of todayʼs dollars per year. Since 1980 Zambiaʼs savings rate has averaged 24.5 percent of GDP. Today Zambiaʼs level of GDP per capita is 1300 per year. \n",
    "\n",
    "Assume that the diminishing-returns parameter α in our production function for Zambia is 0.5, that Zambiaʼs population growth rate n has been constant at 3% per year, and that its depreciation rate δ has been constant at 4.64% per year. Assume that Zambiaʼs was back in 1960 on its old steady-state balanced-growth path (for an s=0.3) and is now on its new steady-state balanced- growth path (for an s=0.2)\n",
    "\n",
    "1. Suppose there had been no growth in the efficiency of labor in Zambia between 1960 and 2011, what do you predict that the level of GDP per capita would be in Zambia today?\n",
    "2. How fast has the efficiency of labor grown in Zambia over the past 50 years?\n",
    "3. What was the value of the efficiency of labor in Zambia in 1960?\n",
    "4. What is the value of the efficiency of labor in Zambia today?"
   ]
  },
  {
   "cell_type": "markdown",
   "metadata": {},
   "source": [
    "#### France\n",
    "\n",
    "Since 1946 French population growth (including illegal immigration) has been constant at about 1 percent per year and France has had a savings share of 25 percent of GDP. Today France has a GDP per capita level of about 35,000 per year. The rate of growth of the efficiency of labor in France since the end of World War II in France has been constant at about 2 percent per year. Assume that France is today on its steady-state balanced-growth path.\n",
    "\n",
    "1. If France remains on its current steady-state balanced-growth path, what will GDP per capita be in France in 2050?\n",
    "2. If France remains on its current steady-state balanced-growth path, what will GDP per capita be in France in 2100?\n",
    "3. What would Franceʼs level of GDP per capita have been back in 1946 if it had then been on todayʼs steady-state balanced-growth path?\n",
    "4. In fact, Franceʼs level of GDP per capita back in 1946 was about 3,000 per year even though its efficiency of labor has grown at 2 percent per year since the end of World War II. Why do you think its level back then was so low"
   ]
  },
  {
   "cell_type": "markdown",
   "metadata": {},
   "source": [
    "#### Japan \n",
    "\n",
    "Japan has had a very high savings rate and a high growth rate of output per worker over the past half century, starting from an initial post-WWII very low level of capital per worker. What does the analysis suggest about Japan's ability to sustain a higher growth rate than other industrial countries?"
   ]
  },
  {
   "cell_type": "markdown",
   "metadata": {},
   "source": [
    "#### Italy\n",
    "\n",
    "Since 1946 Italian population growth (including illegal immigration) has been constant at about 1% per year and Italy has had a savings share of 25% of GDP. Today Italy has a GDP per capita level of about $25,000 per year. The rate of growth of the efficiency of labor in Italy since the end of World War II has been constant at about 2% per year. Assume that Italy is today on its steady-state balanced-growth path.\n",
    "\n",
    "1. If Italy remains on its current steady-state balanced-growth path, what will GDP per capita be in Italy in 2050?\n",
    "2. If Italy remains on its current steady-state balanced-growth path, what will GDP per capita be in France in 2100?\n",
    "3. What would Italyʼs level of GDP per capita have been back in 1946 if it had then been on todayʼs steady-state balanced-growth path?\n",
    "4. In fact, Italy level of GDP per capita back in 1946 was about $2,500 per year even though its efficiency of labor has grown at 2% per year since the end of World War II. Why do you think its level back then was so low?"
   ]
  },
  {
   "cell_type": "markdown",
   "metadata": {},
   "source": [
    "#### Environment\n",
    "\n",
    "Suppose that environmental regulations lead to a diversion of investment spending from investments that boost the capital stock to investments that replace polluting with less-polluting capital. In our standard growth model, what would be the consequences of such a diversion for the economy's capital-output ratio and for its balanced-growth path? Would it make sense to say that these environmental regulations diminished the economy's wealth?"
   ]
  },
  {
   "cell_type": "markdown",
   "metadata": {},
   "source": [
    "#### Korea\n",
    "\n",
    "In the 1950s, South Korea had a savings-investment share of GDP of 10%. In 1960, South Korea had a GDP per worker level of $2000 (at 2010 prices, in international dollars). Since 1960 South Koreaʼs savings-investment share of GDP has averaged 27.5%. Today South Korea has a GDP per worker level of $40,000. In the 1950s, South Koreaʼs population growth rate averaged 3% per year. Since 1960 South Koreaʼs population growth rate has averaged 1% per year. Assume that the depreciation rate on the capital stock has been constant at 5%. Assume that the diminishing-returns parameter in the production function α=0.5. Assume that the growth rate of South Koreaʼs efficiency of labor was 0 in the 1950s, and has been constant at some positive value g since. Assume that South Korea in 1960 was in its steady-state balanced-growth path, and is today on its steady-state balanced growth path.\n",
    "\n",
    "a. What was South Koreaʼs efficiency of labor E in 1960?\n",
    "b. Suppose the rate of growth of the efficiency of labor in South Korea since 1960\n",
    "has averaged 6% per year. What would be the efficiency of labor in South Korea\n",
    "today?\n",
    "c. Suppose the rate of growth of the efficiency of labor in South Korea since 1960\n",
    "has averaged 5% per year. What would be the capital-output ratio in South Korea\n",
    "today? \n",
    "d. Suppose the rate of growth of the efficiency of labor in South Korea since 1960\n",
    "has averaged 5% per year. What would be the level of output per worker in South\n",
    "Korea today?\n",
    "e. Do you think the average growth rate of the efficiency of labor in South Korea\n",
    "since 1960 has been faster or slower than 5%. Why?\n",
    "f. Suppose that we have α=2/3 rather than α=0.5. How would your answers be different?"
   ]
  },
  {
   "cell_type": "markdown",
   "metadata": {},
   "source": [
    "#### Korea II\n",
    "\n",
    "Since 1960 South Koreaʼs savings-investment share of GDP has averaged 27.5%. Since 1960 the United Statesʼs savings-investment share of GDP has averaged 20%. Today South Korea has a GDP per worker level of $40,000. Today the United States has a GDP per worker level of $70,000. Since 1960 South Koreaʼs and the United Statesʼs population growth rates have both averaged 1%/year. Assume that the depreciation rate on the capital stock has been constant at 5%/year and that the rate of improvement of the efficiency of labor in the United States has averaged 2% per year. Assume that both South Korea and the United States today are on their balanced growth paths.\n",
    "\n",
    "a. What is the efficiency of labor in South Korea today?\n",
    "b. What is the efficiency of labor in the United States today?\n",
    "c. If the efficiency of labor in the United States continues to grow at its long-run trend pace of 2% per year, what is your forecast of the level of output per worker in the United States in 2100?\n",
    "d. What is your forecast of output per worker in South Korea in 2100?"
   ]
  },
  {
   "cell_type": "markdown",
   "metadata": {},
   "source": [
    "#### Bangladesh\n",
    "\n",
    "Bangladesh: In 1960 annual output per worker in what was to become Bangladesh averaged 1200 dollars. Today annual output per worker in Bangladesh averages $3000. If output per worker in Bangladesh continues to grow at the average pace it has grown since 1960...\n",
    "\n",
    "a. How long will it take Bangladesh to achieve the productivity levels that South Korea has today?\n",
    "b. How long will it take Bangladesh to achieve the productivity levels that the U.S. has today?\n",
    "c. If output per worker in the U.S. continues to grow at its long-run historical average rate of 2 percent/year, what will output per worker in the U.S. be when Bangladesh becomes as prosperous as the United States is now?"
   ]
  },
  {
   "cell_type": "markdown",
   "metadata": {},
   "source": [
    "#### Comparisons\n",
    "\n",
    "1. Roughly, what is the gap between real per capita GDP in Belgium today, real per capita in Indonesia, and real GDP per capita in Nigeria?\n",
    "2. Roughly, what is the gap between real per capita GDP in Qatar today, real per capita in Venezuela, and real GDP per capita in Nigeria?"
   ]
  },
  {
   "cell_type": "markdown",
   "metadata": {},
   "source": [
    "#### Economic Growth\n",
    "\n",
    "With the ebbing of the computer revolution and the growing worry that an increasing share of economic activity in the future will be concentrated in high labor-cost low productivity-growth sectors, many economists fear that the rate of growth of the efficiency of labor in the United States will average 1.2 percent per year in the the future rather than the 2.0 percent per year that has been the average since 1900. Assume that the rate of labor force growth remains constant at 0.8 percent per year, that the depreciation rate were to remain constant at 3 percent per year, that the year-2010 efficiency of labor in the United States was $25,000 per year, that the diminishing-returns-to-capital parameter α in the production function is 1/2, and that the American savings rate (plus foreign capital invested in America) has averaged 20 percent per year.\n",
    "\n",
    "1. What was the level of output per worker in 2010 if the United States was then on its steady-state balanced-growth path?\n",
    "2. If these fears that productivity growth will fall to 1% per year are justified, what is your forecast of the efficiency of labor in the United States in 2050?\n",
    "3. If these fears that productivity growth will fall to 1% per year are justified, what is your forecast of the level of GDP per worker in the United States in 2050 if the savings rate remains at 20 percent?\n",
    "4. If these fears that productivity growth will fall to 1% per year are justified, what is your forecast of the level of GDP per worker in the United States in 2050 if tax cuts and large deficits lead the savings rate to average 15 percent?\n",
    "5. If these fears that productivity growth will fall to 1% per year are justified, what is your forecast of the level of GDP per worker in the United States in 2050 if wise fiscal policies and government-subsidized savings plans lead the savings rate to average 25 percent?"
   ]
  }
 ],
 "metadata": {
  "anaconda-cloud": {},
  "kernelspec": {
   "display_name": "Python [Root]",
   "language": "python",
   "name": "Python [Root]"
  },
  "language_info": {
   "codemirror_mode": {
    "name": "ipython",
    "version": 3
   },
   "file_extension": ".py",
   "mimetype": "text/x-python",
   "name": "python",
   "nbconvert_exporter": "python",
   "pygments_lexer": "ipython3",
   "version": "3.5.2"
  }
 },
 "nbformat": 4,
 "nbformat_minor": 1
}
