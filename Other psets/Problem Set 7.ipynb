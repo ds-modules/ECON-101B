{
 "cells": [
  {
   "cell_type": "markdown",
   "metadata": {},
   "source": [
    "<font size=\"+3\">Econ 101B - Problem Set 1 </font>\n",
    " \n",
    "<font size=\"+1\"> Brad DeLong"
   ]
  },
  {
   "cell_type": "markdown",
   "metadata": {},
   "source": [
    "## Chapter 13: Financial Crises"
   ]
  },
  {
   "cell_type": "markdown",
   "metadata": {},
   "source": [
    "#### Financial Crisis\n",
    "\n",
    "This problem asks you to perform an event study. In the extension of the IS-MP-IA model to include an interest rate differential, a financial crisis is assumed to raise the differential. This problem therefore asks you to investigate whether interest rate differentials (often referred to as interest rate spreads) rose at the time of some of the major events associated with the financial crisis in the fall of 2008.\n",
    "\n",
    "Specifically, consider the difference between the interest rates on BAA corporate bonds and on 30-year Treasury bonds. And consider any 3 of the following 4 events, all of which occurred in September 2008: (1) The government takeover of Fannie Mae and Freddie Mac; (2) Lehman Brothers’ announcement that it would file for bankruptcy; (3) The government takeover of AIG; (4) The House of Representatives’ rejection of the initial TARP legislation. (Note: no extra credit for considering all 4 events.)\n",
    "a.\n",
    "1. For each event that you chose, find the day that it occurred. As far as you can tell, did it occur when financial markets were open (which, loosely speaking, corresponds to normal working hours in New York) or when they were closed? Describe how you found this information and how confident you are about it.\n",
    "2. For each event, if it occurred when financial markets were open, find the change in the interest rate spread on the day of the event. If financial markets were closed, find the change in the spread on the next day of trading. Did these events lead to noticeable increases in the interest rate spread? Be sure to describe where you found your data.\n",
    "3. What was the overall change in the spread from the end of August 2008 to the end of October 2008?\n",
    "4. For many economic relationships (for example, between money and output), we would not expect a big effect in a day. Explain why one might or might not expect the worsening of a financial crisis to have a noticeable impact on interest rate spreads in a day."
   ]
  },
  {
   "cell_type": "markdown",
   "metadata": {},
   "source": [
    "#### Risky Interest Rates\n",
    "\n",
    "Our model with an interest rate differential assumes that all investment depends on a single interest rate, rb. In truth, there are many interest rates, and they are relevant to many different kinds of investment.\n",
    "\n",
    "To partially capture this idea, suppose investment is the sum of two types of investment, a safer type I1 and a riskier type I2. I1 depends on rb1 and I2 depends on rb2: I1 = I1(rb1), I2 = I2(rb2), where both functions are decreasing. Suppose also that rb1 – rs = d1(Y) and rb2 – rs = d2(Y), again with both functions decreasing. To reflect the idea that Type 2 investment is riskier than Type 1 investment, assume that for a given Y, rb2 – rs is greater than rb1 – rs, and that when Y falls, rb2 – rs rises by more than rb1 – rs does.\n",
    "\n",
    "1. In this model, suppose there is a fall in consumer confidence, so that C for a given Y – T is lower than before.\n",
    "i. What is the effect of this change on rs, Y, rb1 – rs, and rb2 – rs? ii. Is the change in rb1 – rs larger, smaller, or the same as the change in rb2 – rs, or is it not possible to tell?\n",
    "2. One message we have stressed is that a modeling assumption is not inherently “good” or “bad”; the value of an assumption depends on the question we are trying to answer. Thus, give one example of a question that moving from a model with just one interest rate differential (rb – rs) to one with two differentials (rb1 – rs and rb2 – rs) would be helpful in answering. Give one example of a question where moving from a model with one differential to a model with two would complicate the analysis without generating any significant additional insights."
   ]
  },
  {
   "cell_type": "markdown",
   "metadata": {},
   "source": [
    "#### Debt and Vulnerability\n",
    "\n",
    "Recent research stresses the role of high levels of debt for consumers and firms in causing or exacerbating short-run fluctuations.\n",
    "\n",
    "1. What is some of the evidence that high levels of debt affect consumer or firm behavior?\n",
    "2. If consumers and firms are trying to reduce their debt (deleverage), how, if at all, is this likely to show up in the IS-MP diagram? Why?\n",
    "3. What policy actions would be most effective in combating a recession caused by deleveraging? Why?"
   ]
  },
  {
   "cell_type": "markdown",
   "metadata": {},
   "source": [
    "#### True, False, or Uncertain, and explain your answer briefly\n",
    "\n",
    "1. “The bursting of an asset price bubble can lead to a financial crisis.”\n",
    "2. “High income inequality can result in a long-lasting shortfall of aggregate demand and very prolonged high unemployment.”\n",
    "  "
   ]
  },
  {
   "cell_type": "markdown",
   "metadata": {},
   "source": [
    "#### The Eurozone\n",
    "\n",
    "Both Iceland and Ireland suffered major banking crises starting around September 2008. One potentially important difference between the two countries is that Ireland is a member of the Eurozone while Iceland has its own currency:\n",
    "\n",
    "1. By how much did the Icelandic Króna depreciate against the euro from August 2008 to its low point? How much lower is the Króna against the euro today than it was in August 2008?\n",
    "2. By how much did the unemployment rate rise, in percentage points, in Iceland from its pre-crisis level to its peak? By how much did it rise in Ireland?\n",
    "3. If the exchange rate was important to the different performances of the two countries, we would expect that to be reflected in the behavior of net exports. Is the behavior of net exports in the two countries consistent with the hypothesis that exchange rate depreciation helped to cushion the effects of the banking crisis in Iceland?\n",
    "Pick the best answer to each of questions 5–8. No explanations of your answers are needed."
   ]
  },
  {
   "cell_type": "markdown",
   "metadata": {},
   "source": [
    "#### Financial Panics in the Great Depression\n",
    "\n",
    "In the paper by Richardson and Troost on banking panics in Mississippi, the authors find that the monetary policy beliefs and behavior of the Federal Reserve Banks of Atlanta and St. Louis were:\n",
    "\n",
    "1. Fundamentally different before, during, and after the panics of 1930.\n",
    "2. Different in the 1920s, but very similar starting in 1929.\n",
    "3. Similar throughout the 1920s and 1930s.\n",
    "4. Very different before and during the panic of 1930, but similar during later panics in\n",
    "the Depression."
   ]
  },
  {
   "cell_type": "markdown",
   "metadata": {},
   "source": [
    "#### \"Uncertainty\"\n",
    "\n",
    "Uncertainty is likely to have an especially large negative short-run effect on spending by households and firms if:\n",
    "\n",
    "1. They do not expect the uncertainty to be resolved soon.\n",
    "2. There are large costs to reversing their spending decisions. \n",
    "3. The real interest rate is high.\n",
    "4. Inflation is high.\n",
    "5. All of the above.\n",
    "6. None of the above."
   ]
  },
  {
   "cell_type": "markdown",
   "metadata": {},
   "source": [
    "#### Financial Sophistication\n",
    "\n",
    "In 1986 your lecturer Brad DeLong and Lawrence Summers wrote a paper in which they argued that the coming of more sophisticated financial markets—in which households could borrow and repay easily and did not have to respond to a $1 decline in their incomes by cutting their consumption spending by a large fraction of $1—would be less vulnerable to business cycle downturns. It now looks as though we were catatrophically wrong. But why did we think this back then?"
   ]
  },
  {
   "cell_type": "markdown",
   "metadata": {},
   "source": [
    "## Chapter 14: Liquidity and Money"
   ]
  },
  {
   "cell_type": "markdown",
   "metadata": {},
   "source": [
    "## Chapter 15: The Phillips Curve, Expectations, and Monetary Policy"
   ]
  },
  {
   "cell_type": "markdown",
   "metadata": {},
   "source": [
    "#### Adaptive Expectations\n",
    "\n",
    "Suppose that the economy's Phillips curve is given by:\n",
    "\n",
    ">u = u' − β(π − πe)\n",
    "\n",
    "with β equal to 0.5 and the natural rate of unemployment u' equal to 5 percent. Suppose that the economy has for a long time had a constant inflation rate π equal to 2 percent per year. Suddenly the government announces a new policy: it will use fiscal policy to push the unemployment rate down by 2 percentage points--and promises it will keep that expanded fiscal policy in place indefinitely.\n",
    "\n",
    "Suppose, further that the dominant way of forming expectations in the economy is such that people have adaptive expectations of inflation--so that this year's expected inflation is equal to last year's actual inflation. What will be the course of inflation and unemployment in this economy in the years after the shift in fiscal policy? Track the economy out ten years, assuming that there are no additional shocks."
   ]
  },
  {
   "cell_type": "markdown",
   "metadata": {},
   "source": [
    "#### Rational Expectations\n",
    "\n",
    "Suppose that the economy's Phillips curve is given by:\n",
    "\n",
    ">u = u' − β(π − πe)\n",
    "\n",
    "with β equal to 0.5 and the natural rate of unemployment u' equal to 5 percent. Suppose that the economy has for a long time had a constant inflation rate π equal to 2 percent per year. Suddenly the government announces a new policy: it will use fiscal policy to push the unemployment rate down by 2 percentage points--and promises it will keep that expanded fiscal policy in place indefinitely.\n",
    "\n",
    "Suppose further that agents in the economy have rational expectations of inflation--so that this year's expected inflation is what an economist knowing the structure of the economy and proposed economic policies would calculate actual inflation was likely to be. What will be the course of inflation and unemployment in this economy in the years after the shift in fiscal policy? Track the economy out twenty years, assuming that there are no additional shocks."
   ]
  },
  {
   "cell_type": "markdown",
   "metadata": {},
   "source": [
    "#### The Sacrifice Ratio\n",
    "\n",
    "Suppose that an economy starts at an initial inflation level π0 and that its central bank seeks to reduce inflation down to some final level πT by pushing the unemployment rate u up above the natural rate of unemployment u'. Suppose that the relationship between inflation and unemployment is given by the adaptive-expectations Phillips Curve equation:\n",
    "\n",
    ">π = π−1+β(u'−u)\n",
    "\n",
    "where β is a known parameter. Let U stand for the total cumulative excess of € unemployment over the natural rate needed to accomplish this policy. \n",
    "\n",
    "Solve, algebraically, for the total cumulative excess unemployment U. In what units is U measured? Suppose that you are asked to calculate the sacrifice ratio S/( π0- πT). How is the sacrifice ratio related to the parameter β in the Phillips Curve? Write a paragraph explaining how you would go about deciding whether the policy of reducing inflation through higher-than-natural unemployment is a good one or a bad one."
   ]
  },
  {
   "cell_type": "markdown",
   "metadata": {},
   "source": [
    "#### Quantity Theory of Money\n",
    "\n",
    "Suppose that the rate of labor force growth is 3% per year, the efficiency of labor is constant, and the economy is on its steady state growth path. Suppose also that the rate of growth of the nominal money stock is 10% per year. Do you think that it is likely that the inflation rate is less than 5% per year? Why or why not?"
   ]
  },
  {
   "cell_type": "markdown",
   "metadata": {},
   "source": [
    "#### Phillips Curve\n",
    "\n",
    "In the Phillips Curve framework in which π = E(π) + β(un - u)—the inflation rate π equals the previously-expected inflation rate E(π) plus the Phillips Curve slope parameter β times the difference between the economy's natural rate of unemployment un and the current rate of unemployment u...\n",
    "\n",
    "1. If E(π) = 9% per year, u* = 6%, and u = 8%, what is the inflation rate π going to be if the Phillips Curve slope parameter β = 1/2?\n",
    "2. If E(π) = 3% per year, u* = 4%, and u = 4%, what is the inflation rate π going to be if the Phillips Curve slope parameter β = 1/2?\n",
    "3. If E(π) = 1% per year, u* = 7%, and u = 3%, what is the inflation rate π going to be if the Phillips Curve slope parameter β = 1/3?\n",
    "4. If E(π) = 1% per year, u* = 7%, and u = 3%, what is the inflation rate π going to be if the Phillips Curve slope parameter β = 2/3?\n",
    "5. If E(π) = 1% per year, u* = 7%, and u = 3%, what is the inflation rate π going to be if the Phillips Curve slope parameter β = 1?"
   ]
  },
  {
   "cell_type": "markdown",
   "metadata": {},
   "source": [
    "#### Monetary Policy\n",
    "\n",
    "Suppose we have an economy with a natural rate of unemployment of 6%, current expected inflation of 2%, and a Phillips Curve slope parameter of 1/2. Suppose that the Federal Reserve has a target ut for the unemployment rate and a target πT for the inflation rate, and suppose that for each percentage point inflation is above its target level the Federal Reserve raises unemployment by an extra percentage point above its target level.\n",
    "\n",
    "1. If the target for the inflation rate is 2% and the target for the unemployment rate is 6%, what will inflation and unemployment be?\n",
    "2. If the target for the inflation rate is 3% and the target for the unemployment rate is 4%, what will inflation and unemployment be?\n",
    "3. If the target for the inflation rate is 6% and the target for the unemployment rate is 8%, what will inflation and unemployment be?\n",
    "4. If the target for the inflation rate is 4% and the target for the unemployment rate is 4%, what will inflation and unemployment be?"
   ]
  },
  {
   "cell_type": "markdown",
   "metadata": {},
   "source": [
    "#### Monetary Policy II\n",
    "\n",
    "Suppose we have an economy with a natural rate of unemployment of 4%, current expected inflation of 15%, and a Phillips Curve slope parameter of 1/2. Suppose that the Federal Reserve has a target u0 for the unemployment rate and a target πt for the inflation rate, and suppose that for each percentage point inflation is above its target level the Federal Reserve raises unemployment by an extra two percentage points above its target level.\n",
    "\n",
    "1. Suppose that from this year forward the Federal Reserve sets its target for the inflation rate at 3% and its target for the unemployment rate at 5%, what will inflation and unemployment be this year?\n",
    "2. Suppose expected inflation is adaptive in that each year's expected inflation is the previous year's actual inflation. What will inflation and unemployment be next year?\n",
    "3. Suppose expected inflation is adaptive in that each year's expected inflation is the previous year's actual inflation. What will inflation and unemployment be two years from now?\n",
    "4. Suppose expected inflation is adaptive in that each year's expected inflation is the previous year's actual inflation. What will inflation and unemployment be five years from now?\n",
    "5. Suppose expected inflation is adaptive in that each year's expected inflation is the previous year's actual inflation. What will inflation and unemployment be ten years from now?"
   ]
  },
  {
   "cell_type": "markdown",
   "metadata": {},
   "source": [
    "#### Monetary Policy III\n",
    "\n",
    "Suppose we have an economy with a natural rate of unemployment of 4%, and a Phillips Curve slope parameter of 1. Suppose that the Federal Reserve has a target u0 for the unemployment rate and a target πt for the inflation rate, and suppose that for each percentage point inflation is above its target level the Federal Reserve raises unemployment by an extra two percentage points above its target level.\n",
    "\n",
    "1. If the Federal Reserve's target for the inflation rate is 2% and its target for the unemployment rate is 4%, what will the long run rate of inflation be?\n",
    "2. If the Federal Reserve's target for the inflation rate is 2% and its target for the unemployment rate is 6%, what will the long run rate of inflation be?\n",
    "3. If the Federal Reserve's target for the inflation rate is 4% and its target for the unemployment rate is 4%, what will the long run rate of inflation be?\n",
    "4. If the Federal Reserve's target for the inflation rate is 4% and its target for the unemployment rate is 8%, what will the long run rate of inflation be?"
   ]
  },
  {
   "cell_type": "markdown",
   "metadata": {},
   "source": [
    "#### Phillips Curve\n",
    "\n",
    "In the Phillips Curve framework in which π = E(π) + β(u* - u)—the inflation rate π equals the previously-expected inflation rate E(π) plus the Phillips Curve slope parameter β times the difference between the economy's natural rate of unemployment u* and the current rate of unemployment u...\n",
    "\n",
    "1. If E(π) = 2% per year, u* = 6%, and u = 10%, what is the inflation rate π going to be if the Phillips Curve slope parameter β = 1/2?\n",
    "2. If E(π) = 3% per year, u* = 4%, and u = 6%, what is the inflation rate π going to be if the Phillips Curve slope parameter β = 1/2?\n",
    "3. If E(π) = 6% per year, u* = 7%, and u = 3%, what is the inflation rate π going to be if the Phillips Curve slope parameter β = 1/3?\n",
    "4. If E(π) = 1% per year, u* = 7%, and u = 9%, what is the inflation rate π going to be if the Phillips Curve slope parameter β = 2/3?\n",
    "5. If E(π) = 4% per year, u* = 8%, and u = 5%, what is the inflation rate π going to be if the Phillips Curve slope parameter β = 1?"
   ]
  },
  {
   "cell_type": "markdown",
   "metadata": {},
   "source": [
    "#### Phillips Curve\n",
    "\n",
    "In the Phillips Curve framework in which π = E(π) + β(u* - u)— the inflation rate π equals the previously-expected inflation rate E(π) plus the Phillips Curve slope parameter β times the difference between the economy's natural rate of unemployment u* and the current rate of unemployment u...\n",
    "\n",
    "1. IfE(π)=9%peryear,u*=6%,andu=8%,whatistheinflationrateπ going to be if the Phillips Curve slope parameter β = 1/2?\n",
    "2. IfE(π)=3%peryear,u*=4%,andu=4%,whatistheinflationrateπ going to be if the Phillips Curve slope parameter β = 1/2?\n",
    "3. IfE(π)=1%peryear,u*=7%,andu=3%,whatistheinflationrateπ going to be if the Phillips Curve slope parameter β = 1/3?\n",
    "4. IfE(π)=1%peryear,u*=7%,andu=3%,whatistheinflationrateπ going to be if the Phillips Curve slope parameter β = 2/3?\n",
    "5. IfE(π)=1%peryear,u*=7%,andu=3%,whatistheinflationrateπ going to be if the Phillips Curve slope parameter β = 1?"
   ]
  },
  {
   "cell_type": "markdown",
   "metadata": {},
   "source": [
    "#### Phillips Curve\n",
    "\n",
    "In the Phillips Curve framework in which π = E(π) + β(u* - u)— the inflation rate π equals the previously-expected inflation rate E(π) plus the Phillips Curve slope parameter β times the difference between the economy's natural rate of unemployment u* and the current rate of unemployment u...\n",
    "\n",
    "1. Suppose that the economy starts out with an expected rate of inflation of 2%/year, a Phillips Curve slope parameter of 1/2, and a natural rate of unemployment of 5%. Suppose that the Federal Reserve decides to reduce the rate of unemployment to 3% through expansionary monetary policy and does so. What is the inflation rate?\n",
    "2. Now look one year ahead to next year. Next year, expectations of inflation will be adaptive: that is, expectations of inflation next year will be equal to what inflation was this year. What will expectations of inflation be next year?\n",
    "3. What will actual inflation be next year if the Federal Reserve continues to pursue expansionary monetary policies to keep the rate of unemployment at 3%?\n",
    "4. If inflation expectations continue to be adaptive in this sense that each year's expected is the previous year's actual inflation, what will actual inflation be two years from now?\n",
    "5. If inflation expectations continue to be adaptive and if the Federal Reserve continues to follow policies to keep the unemployment rate at 3%, what will actual inflation be five years from now?\n",
    "6. If inflation expectations continue to be adaptive and if the Federal Reserve continues to follow policies to keep the unemployment rate at 3%, what will actual inflation be ten years from now?\n",
    "7. If inflation expectations continue to be adaptive and if the Federal Reserve continues to follow policies to keep the unemployment rate at 3%, what will actual inflation be twenty years from now?\n",
    "8. . Do you think that inflation expectations will continue to be adaptive in this sense as this process rolls forward over the next twenty years, or do you think the process by which expectations of inflation are formed will change? e. If you think it will change, what do you think it will change to?\n"
   ]
  },
  {
   "cell_type": "markdown",
   "metadata": {},
   "source": [
    "## Chapter 16: Stabilization Policy"
   ]
  },
  {
   "cell_type": "markdown",
   "metadata": {},
   "source": [
    "#### Monetary vs. Fiscal Policy\n",
    "\n",
    "Why do economists today tend to believe that monetary policy is superior to discretionary fiscal policy as a stabilization policy tool? In what circumstances that you can imagine would this belief be reversed? (One paragraph only!)"
   ]
  },
  {
   "cell_type": "markdown",
   "metadata": {},
   "source": [
    "#### Raising Investment\n",
    "\n",
    "Suppose that the government and central bank together want to keep GDP constant but raise the rate of investment. What policies can they follow to achieve this? (One sentence only!)"
   ]
  },
  {
   "cell_type": "markdown",
   "metadata": {},
   "source": [
    "#### Credibility\n",
    "\n",
    "Former Federal Reserve Vice Chair Alan Blinder has remarked that Alan Greenspan’s policies at fighting unemployment have been much more aggressive in attempting to reduce unemployment than any Federal Reserve Chair with less of a reputation as an inflation hawk would dare attempt. Can you make sense of this remark?"
   ]
  },
  {
   "cell_type": "markdown",
   "metadata": {},
   "source": [
    "#### Reputation\n",
    "\n",
    "Suppose that you believe that investors, businesses, and workers in your economy have rational expectations of inflation. Suppose that you have a choice between two candidates to head your central bank—one of whom believes that the central bank must always do whatever is necessary to keep inflation low, and the other of whom believes that if the central bank were to push unemployment above the natural rate to try to reduce inflation it would be making a serious mistake. Which candidate would you prefer to run your central bank, and why?"
   ]
  },
  {
   "cell_type": "markdown",
   "metadata": {},
   "source": [
    "#### Sticky Price Output and  Interest Rates\n",
    "\n",
    "Describe how, if at all, each of the following developments affects the real interest rate and output in the short run (or whether it is not possible to tell). In parts (1) and (2), assume that the central bank is following an interest rate rule; in parts (3) and (4), use the information in the question to decide what assumption to make about how monetary policy is being conducted:\n",
    "\n",
    "1. The government cuts taxes.\n",
    "2. The government cuts taxes and government purchases by equal amounts.\n",
    "3. The government cuts taxes and, at the same time, the central bank changes its monetary policy rule so that it sets a lower real interest rate at a given level of output than before.\n",
    "4. The central bank lowers its target for the money stock."
   ]
  },
  {
   "cell_type": "markdown",
   "metadata": {},
   "source": [
    "#### Monetary Policy Rules\n",
    "\n",
    "Suppose the central bank changes its policy rule to respond more to changes in output. Specifically, it decides not to change the real interest rate at the current level of output, but that it will increase it by more than before if output rises, and cut it by more than before if output falls:\n",
    "\n",
    "1. Would you use the IS–MP or IS–LM model to analyze the effects of this development? Why?\n",
    "2. How, if at all, would this development affect the two curves (IS and MP, or IS and LM)? Explain your reasoning.\n",
    "3. Suppose that after this change in the monetary policy rule, firms become more optimistic about the profitability of investment projects, so investment demand at a given real interest rate is higher than before. How, if at all, does this change affect the real interest rate and output in the short run? For each variable (r and Y), is the effect larger than before the change in the rule, smaller, the same, or is it impossible to tell?"
   ]
  },
  {
   "cell_type": "markdown",
   "metadata": {},
   "source": [
    "#### Shocks Requriring Stabilization\n",
    "\n",
    "Describe how, if at all, each of the following developments affects real output, the exchange rate, and net exports in the short run. Assume the central bank is following an interest rate rule…\n",
    "\n",
    "1. The discovery of new investment opportunities causes investment demand to be higher at a given interest rate than before.\n",
    "2. The central bank changes its monetary policy rule so that it sets a lower real interest rate at a given level of output than before.\n",
    "3. The demand for money increases (that is, consumers’ preferences change so that at a given level of i and Y they want to hold more real balances than before)."
   ]
  },
  {
   "cell_type": "markdown",
   "metadata": {},
   "source": [
    "#### Real Business Cycles\n",
    "\n",
    "Consider our usual IS-MP-IA model, starting in long-run equilibrium. Suppose that potential output falls because of reduced productivity.\n",
    "1. How, if at all, would this change show up in the IS-MP diagram in the short run?\n",
    "2. What will be the impact of the fall in   on output and inflation in the long run?"
   ]
  },
  {
   "cell_type": "markdown",
   "metadata": {},
   "source": [
    "#### Econometrics\n",
    "\n",
    "Explain in a few sentences, without using any math, what is wrong with the following argument: “I obtained annual data on money growth and output growth, and then estimated the OLS regression Δ ln Y = a + b Δ ln M + u. After running the regression, I computed the correlation between money growth and the regression residual. It was exactly zero. Thus, since there is no correlation between the right-hand side variable and the residual, I know that my regression does not suffer from omitted-variable bias."
   ]
  },
  {
   "cell_type": "markdown",
   "metadata": {},
   "source": [
    "#### Monetary Policy\n",
    "\n",
    "Suppose we have an economy with a natural rate of unemployment of 6%, current expected inflation of 4%, and a Phillips Curve slope parameter of 1/2. Suppose that the Federal Reserve has a target u0 for the unemployment rate and a target πt for the inflation rate.\n",
    "\n",
    "1. If the target for the inflation rate is 4% and the target for the unemployment rate is 6%, what will inflation and unemployment be?\n",
    "2. If the target for the inflation rate is 2% and the target for the unemployment rate is 6%, what will inflation and unemployment be if for each extra percentage point of inflation the Federal Reserve raises unemployment by an extra two percentage points?\n",
    "3. If the target for the inflation rate is 2% and the target for the unemployment rate is 6%, what will inflation and unemployment be if for each extra percentage point of inflation the Federal Reserve raises unemployment by an extra half a percentage point?\n",
    "4. If the target for the inflation rate is 2% and the target for the unemployment rate is 6%, what will inflation and unemployment be if for each extra percentage point of inflation the Federal Reserve raises unemployment by an extra percentage point?"
   ]
  },
  {
   "cell_type": "markdown",
   "metadata": {},
   "source": [
    "#### Monetary Policy\n",
    "\n",
    "Suppose we have an economy with a natural rate of unemployment of 6%, current expected inflation of 10%, and a Phillips Curve slope parameter of 1/2. Suppose that the Federal Reserve has a target u0 for the unemployment rate and a target πt for the inflation rate, and suppose that for each percentage point inflation is above its target level the Federal Reserve raises unemployment by an extra percentage point above its target level.\n",
    "\n",
    "1. Suppose that from this year forward the Federal Reserve sets its target for the inflation rate at 3% and its target for the unemployment rate at 5%, what will inflation and unemployment be this year?\n",
    "2. Suppose expected inflation is adaptive in that each year's expected inflation is the previous year's actual inflation. What will inflation and unemployment be next year?\n",
    "3. Suppose expected inflation is adaptive in that each year's expected inflation is the previous year's actual inflation. What will inflation and unemployment be two years from now?\n",
    "4. Suppose expected inflation is adaptive in that each year's expected inflation is the previous year's actual inflation. What will inflation and unemployment be five years from now?\n",
    "5. Suppose expected inflation is adaptive in that each year's expected inflation is the previous year's actual inflation. What will inflation and unemployment be ten years from now?"
   ]
  },
  {
   "cell_type": "markdown",
   "metadata": {},
   "source": [
    "#### Monetary Policy\n",
    "\n",
    "Suppose we have an economy with a natural rate of unemployment of 6%, and a Phillips Curve slope parameter of 1/2. Suppose that the Federal Reserve has a target u0 for the unemployment rate and a target πt for the inflation rate, and suppose that for each percentage point inflation is above its target level the Federal Reserve raises unemployment by an extra two percentage points above its target level.\n",
    "\n",
    "1. If the Federal Reserve's target for the inflation rate is 2% and its target for the unemployment rate is 4%, what will the long run rate of inflation be?\n",
    "2. If the Federal Reserve's target for the inflation rate is 2% and its target for the unemployment rate is 6%, what will the long run rate of inflation be?\n",
    "3. If the Federal Reserve's target for the inflation rate is 4% and its target for the unemployment rate is 4%, what will the long run rate of inflation be?\n",
    "4. If the Federal Reserve's target for the inflation rate is 4% and its target for the unemployment rate is 8%, what will the long run rate of inflation be?"
   ]
  },
  {
   "cell_type": "markdown",
   "metadata": {},
   "source": [
    "#### Monetary Policy\n",
    "\n",
    "Suppose we have an economy with a natural rate of unemployment of 6%, current expected inflation of 2%, and a Phillips Curve slope parameter of 1/2. Suppose that the Federal Reserve has a target ut for the unemployment rate and a target πt for the inflation rate, and suppose that for each percentage point inflation is above its target level the Federal Reserve raises unemployment by an extra percentage point above its target level.\n",
    "1. If the target for the inflation rate is 2% and the target for the unemployment rate is 6%, what will inflation and unemployment be?\n",
    "2. If the target for the inflation rate is 3% and the target for the unemployment rate is 4%, what will inflation and unemployment be? \n",
    "3. If the target for the inflation rate is 6% and the target for the unemployment rate is 8%, what will inflation and unemployment be? 4. If the target for the inflation rate is 4% and the target for the unemployment rate is 4%, what will inflation and unemployment be?"
   ]
  },
  {
   "cell_type": "markdown",
   "metadata": {},
   "source": [
    "#### Monetary Policy\n",
    "\n",
    "Suppose we have an economy with a natural rate of unemployment of 6%, current expected inflation of 10%, and a Phillips Curve slope parameter of 1/2. Suppose that the Federal Reserve has a target ut for the unemployment rate and a target πt for the inflation rate, and suppose that for each percentage point inflation is above its target level the Federal Reserve raises unemployment by an extra percentage point above its target level.\n",
    "\n",
    "1. Suppose that from this year forward the Federal Reserve sets its target for the inflation rate at 2% and its target for the unemployment rate at 4%, what will inflation and unemployment be this year?\n",
    "2. Suppose expected inflation is adaptive in that each year's expected inflation is the previous year's actual inflation. What will inflation and unemployment be next year?\n",
    "3. Suppose expected inflation is adaptive in that each year's expected inflation is the previous year's actual inflation. What will inflation and unemployment be two years from now?\n",
    "4. Suppose expected inflation is adaptive in that each year's expected inflation is the previous year's actual inflation. What will inflation and unemployment be five years from now?\n",
    "5. Suppose expected inflation is adaptive in that each year's expected inflation is the previous year's actual inflation. What will inflation and unemployment be ten years from now?"
   ]
  },
  {
   "cell_type": "markdown",
   "metadata": {},
   "source": [
    "## Chapter 17: The Liquidity Trap"
   ]
  },
  {
   "cell_type": "markdown",
   "metadata": {},
   "source": [
    "#### DeLong and Summers (1992)\n",
    "\n",
    "The fact that the central bank cannot push the short-term nominal interest rate below zero raises the possibility of a liquidity trap—an inability of the central bank to push the long-term real interest rate down to a level that produces enough investment to get full employment. Back in 1992 Brad DeLong and Larry Summers argued that this made it desirable for the Federal Reserve to have an inflation target of 4-5% per year rather than 1-2% per year: the higher inflation target, you see, would give the Federal Reserve more ability to reduce the long-term real interest rate when necessary. The Fed didn’t think much of this argument. What do you think of it?"
   ]
  },
  {
   "cell_type": "markdown",
   "metadata": {},
   "source": [
    "## Chapter 18: The Government Debt"
   ]
  },
  {
   "cell_type": "markdown",
   "metadata": {},
   "source": [
    "## Chapter 19: Secular Stagnation"
   ]
  },
  {
   "cell_type": "markdown",
   "metadata": {},
   "source": [
    "#### Secular Stagnation\n",
    "\n",
    "The three “coping mechanisms” that Reich argues middle class families used to deal with stagnating incomes included all of the following except:\n",
    "\n",
    "1. Women move into paid work.\n",
    "2. Everyone works longer hours.\n",
    "3. Families stop investing in their children’s education. d. We draw down savings and borrow to the hilt."
   ]
  },
  {
   "cell_type": "markdown",
   "metadata": {},
   "source": [
    "## Chapter 20: The Short Run Shapes the Long Run: \"Hysteresis\""
   ]
  },
  {
   "cell_type": "markdown",
   "metadata": {},
   "source": [
    "#### A Fluctuating Natural Rate of Unemployment\n",
    "\n",
    "Begin our very simple Phillips Curve: \n",
    "\n",
    ">π = πe +β(u' −u)\n",
    "\n",
    "with simple adaptive expectations:\n",
    "\n",
    ">πe =π−1\n",
    "\n",
    "But add a difference: the natural rate of unemployment depends on what unemployment was last year:\n",
    "\n",
    ">u' = (1−θ)u'−1 +θu−1\n",
    "\n",
    "for some parameter θ between zero and one. \n",
    "\n",
    "Suppose that the central bank induces a recession and raises the unemployment rate one percentage point above its natural rate for one year, and then lets unemployment fall back to its natural rate:\n",
    "\n",
    "1. What is the time path of inflation as a result of this one-year shift in policy? \n",
    "2. What is the time path of unemployment?\n",
    "3. How does the Sacrifice Ratio—the amount of excess point-years of unemployment that must be run in order to permanently reduce the inflation rate by one percent—depend on the parameter θ? \n",
    "4. What actions can you think of that the central bank might take that could reduce the value of θ?"
   ]
  },
  {
   "cell_type": "markdown",
   "metadata": {},
   "source": [
    "#### Supply Shocks\n",
    "\n",
    "Suppose that a supply shock hits the economy—that is, that for one year the Phillips curve is not:\n",
    "\n",
    ">π = πe + β(u'− u) \n",
    "\n",
    "But is instead:\n",
    "\n",
    ">π = πe +β(u' − u )+ s\n",
    "\n",
    "where st is some positive shock to inflation caused by, say, a spike in oil prices. And\n",
    "suppose that inflation expectations are adaptive:\n",
    "\n",
    ">πe = π−1\n",
    "\n",
    "1. What happens to inflation over time if the central bank keeps unemployment at its natural rate always? \n",
    "2. What happens to the unemployment rate over time if the central bank adjusts unemployment to keep inflation at its initial value π0 always?"
   ]
  },
  {
   "cell_type": "markdown",
   "metadata": {},
   "source": [
    "#### Permanent Unemployment Shocks\n",
    "\n",
    "Suppose we have our standard Phillips curve: \n",
    "\n",
    ">π = πe +β(u' − u)\n",
    "\n",
    "with our standard adaptive inflation expectations: \n",
    "\n",
    ">πe =π−1\n",
    "\n",
    "But that the natural rate of unemployment u' is subject to hysteresis: u' =u−1\n",
    "\n",
    "How is this situation is different from that of a constant natural rate of unemployment combined with static inflation expectations?"
   ]
  },
  {
   "cell_type": "markdown",
   "metadata": {},
   "source": [
    "#### The Computer Revolution and the Natural Rate of Unemployment\n",
    "\n",
    "In the late 1990s Alan Greenspan argued that the natural rate of unemployment in the U.S. had temporarily fallen because of the acceleration of productivity growth. Briefly, outline a model of worker behavior in which this claim of Alan Greenspan’s is true, and outline a model of worker behavior in which this claim of Alan Greenspan’s would have been false. Keep your answer to whatever equations you find necessary and to less than 300 words (and a couple of figures)."
   ]
  },
  {
   "cell_type": "markdown",
   "metadata": {},
   "source": [
    "#### European Unemployment\n",
    "\n",
    "Explain—to somebody who has never taken an economics course—the reasons you think that western European unemployment today is so much higher than western European unemployment was back in the 1960s."
   ]
  },
  {
   "cell_type": "markdown",
   "metadata": {},
   "source": [
    "#### The Japanese Slowdown\n",
    "\n",
    "Explain—to somebody who has never taken an economics course—the reasons that you think economic growth in Japan slowed from 4.5% over 1973-1991 to less than 1.5% over 1991-present. Keep your answer to less than 300 words (and a couple of figures)."
   ]
  },
  {
   "cell_type": "markdown",
   "metadata": {},
   "source": [
    "#### Hysteresis\n",
    "\n",
    "When economists speak of hysteresis, they refer to the fact that:\n",
    "\n",
    "1. Once a recession starts, it is likely to last for a while.\n",
    "2. High unemployment tends to be followed by low unemployment.\n",
    "3. Prolonged high unemployment can cause the natural rate of unemployment to rise.\n",
    "4. Prolonged high unemployment will eventually reduce inflation."
   ]
  },
  {
   "cell_type": "markdown",
   "metadata": {},
   "source": [
    "## Chapter 21: International Economic Policy"
   ]
  },
  {
   "cell_type": "markdown",
   "metadata": {},
   "source": [
    "#### Speculative Attacks\n",
    "\n",
    "Explain—to somebody who has never taken an economics course—why a loss of confidence in the value of a country’s currency on the part of foreign exchange speculators is highly likely to lead to a fall in the rate of investment even if no financial crisis is created. Keep your answer to less than 150 words (and a figure or two)."
   ]
  },
  {
   "cell_type": "markdown",
   "metadata": {},
   "source": [
    "#### Foreign Monetary Policy \n",
    "\n",
    "Suppose that many foreign central banks tighten their monetary policies, so that real interest rates abroad rise.\n",
    "\n",
    "1. How would you expect this change to affect the CF(r) function in the United States? Why?\n",
    "2. How would the change affect output and the real interest rate in the short run? Explain.\n",
    "3. How would the change affect net exports, and the real exchange rate in the short run? Explain. "
   ]
  },
  {
   "cell_type": "markdown",
   "metadata": {},
   "source": [
    "#### Flexible Price World Foreign Exchange Crises\n",
    "\n",
    "Start out with our consensus flexible-price model in “difference” form, the relevant parts of which are:\n",
    "\n",
    ">ΔY = ΔC + ΔI + ΔG + ΔX − ΔIM    \n",
    "ΔC = Cy x (1−t)(ΔY)  \n",
    "ΔI = ΔI0 − Ir(Δr)   \n",
    "ΔX = Xε(Δε)   \n",
    "Δε = Δε0 − εr(Δr)\n",
    "\n",
    "and let’s consider the effect of a collapse of confidence in the currency—a large sudden € rise in the Δε0 parameter that governs long-term expectations of the price of foreign currency. \n",
    "\n",
    "Suppose that there are no effects on the supply side—ΔY=0—no effects on investor confidence—ΔI0=0—no effects on imports—ΔIM=0—and that government spending is unchanged as well—ΔG=0.\n",
    "\n",
    "1. In the flexible price model, solve for the equilibrium changes in the exchange rate ε, in the interest rate r, in investment I, and in exports X as a result of the rise in\n",
    "Δε0.\n",
    "2. Suppose that the cause of the crisis is that government spending is rising rapidly and that investors have no confidence that the budget will ever be balanced, and thus that the government bonds they own will ever be repaid without inflation. Thus there is a relationship between government spending and the change in expectations of the exchange rate: Δε0 = θΔG for some value of the parameter θ. Now solve for the equilibrium changes in the exchange rate ε, in the interest rate r, in investment I, and in exports X as a result of the rise government spending G.\n",
    "€\n",
    "ΔY =ΔC+ΔI+ΔG+ΔX −ΔIM ΔC = Cy (1− t)ΔY\n",
    "ΔI=ΔI0 −IrΔr−Iε(Δε)2 ΔX = XεΔε\n",
    "ΔIM = −IMyΔY Δε=Δε0 −εrΔr"
   ]
  },
  {
   "cell_type": "markdown",
   "metadata": {},
   "source": [
    "#### Sticky Price  Price World Foreign Exchange Crises\n",
    "\n",
    "Now let’s turn to the consensus sticky-price model, the relevant parts of which are:\n",
    "\n",
    ">ΔY = ΔC + ΔI + ΔG + ΔX − ΔIM    \n",
    "ΔC = Cy x (1−t)(ΔY)  \n",
    "ΔI = ΔI0 − Ir(Δr) - Iε(Δε)^2   \n",
    "ΔX = Xε(Δε)   \n",
    "ΔIM = −IMy(ΔY)   \n",
    "Δε = Δε0 − εr(Δr)\n",
    "\n",
    "and once again consider the effect of a collapse of confidence in the currency—a large sudden rise in the Δε0 parameter that governs long-term expectations of the price of foreign currency—this time in the short run in which full employment is not guaranteed, and in which the real interest rate r is chosen by the central bank. And not the extra term in the investment equation: a large shift in the exchange rate causes massive bankruptcies, destabilizes the financial system, and causes investment I to collapse and output Y to fall.\n",
    "\n",
    "1. Solve for the change in the exchange rate as a function of the change in the interest rate r, and then turn that around: if the change in the exchange rate is going to take on a certain value Δε, what must the change in the interest rate Δr be?\n",
    "2. Now let’s view the central bank as choosing not the interest rate but the exchange rate. In this model, solve for the change in output ΔY as a function of the change in the exchange rate Δε (taking account of the fact that the central bank must choose the change in the interest rate Δr to make the change in the exchange rate equal to the chosen value.\n",
    "3. What is the best that the central bank can do in the short run. Where should it choose to set the exchange rate and the interest rate (bearing in mind that they are linked) to make the effects of the crisis as small as possible?\n",
    "4. Suppose that the IMF is on hand to help, and to give the central bank extra foreign exchange R that it can then spend to affect the exchange rate: Δε = Δε0 −εr(Δr) −εr(ΔR). Solve for how the best the central bank can do is affected by the addition of more help from the IMF."
   ]
  },
  {
   "cell_type": "markdown",
   "metadata": {},
   "source": [
    "## Chapter 22: Changes in the Macroeconomy and Changes in Macroeconomic Policy"
   ]
  },
  {
   "cell_type": "markdown",
   "metadata": {},
   "source": [
    "#### Pick the Best Answer\n",
    "\n",
    "1. If the central bank is targeting the money supply, an increase in government purchases: a. Shifts the LM curve up. b. Shifts the LM curve down. c. Does not affect the LM curve. d. It is not possible to tell.\n",
    "2. The IS curve slopes down because: a. As the real interest rate rises, the government increases taxes to finance the greater interest payments on its debt. b. As the real interest rate rises, the central bank tightens monetary policy. c. As the real interest rate rises, the government cuts back on its purchases. d. As the real interest rate rises, households invest less in the stock market. e. As the real interest rate rises, firms buy fewer machines and build fewer factories. f. (a) and (b). g. All of the above.\n",
    "3. Saying that the regression yt = a + bxt + et suffers from omitted variable bias means that: a. There is correlation between the variables left out of the regression (which show up in e) and the variable whose effect on y we are trying to estimate (x). b. The variables left out of the regression (which show up in e) affect the variable whose behavior we are trying to understand (y). c. The researcher chose to omit some observations because they do not support his or her hypothesis. d. y is on average high when x is high, and low when x is low.\n",
    "4. The following periods are listed in order from least to greatest macroeconomic volatility:va. 1886–1916, 1947–1985, 1985–2005. b. 1886–1916, 1985–2005, 1929–1941. c. 1985–2005, 1947–1985, 1929–1941. d. 1985–2005, 1929–1941, 1947–1985. e. None of the above."
   ]
  },
  {
   "cell_type": "markdown",
   "metadata": {},
   "source": [
    "#### The Gold Standard\n",
    "\n",
    "Label the following statement as True, False, or Uncertain, and explain your answer briefly: “The gold standard played little role in the Great Depression.”"
   ]
  },
  {
   "cell_type": "markdown",
   "metadata": {},
   "source": [
    "#### Pick the Best Answer\n",
    "\n",
    "1. Suppose that initially Y > Yf. As the economy moves to long-run equilibrium: a/ Inflation rises. b. Output falls. c. The real interest rate rises. d. (a) and (b). e. All of the above.\n",
    "2. In the extension of the IS–MP–IA model to include the zero lower bound, the “kink” in the AD curve occurs at: a. The inflation rate given by the IA curve. b. The inflation rate that causes the IS and MP curves to intersect at the “kink” of the MP curve. c. Y = Yf. d. π=0. e. (c) and (d).\n",
    "3. The fact that inflation has not fallen very much since 2007 despite the fact that unemployment has been very high over that period could be the result of any of the following except: a. Inflation expectations are “anchored.” b. The normal or natural rate of unemployment has risen substantially. c. The Federal Reserve is constrained by the zero lower bound. d. There have been inflation shocks acting to increase the inflation rate."
   ]
  },
  {
   "cell_type": "markdown",
   "metadata": {},
   "source": [
    "## Chapter 23: The Past, Present, and Future of Macroeconomics"
   ]
  },
  {
   "cell_type": "markdown",
   "metadata": {},
   "source": [
    "#### What (briefly!) does Robert Heilbroner think of Karl Marx?"
   ]
  },
  {
   "cell_type": "markdown",
   "metadata": {},
   "source": [
    "#### What (briefly!) does Robert Heilbroner think of John Maynard Keynes?"
   ]
  },
  {
   "cell_type": "markdown",
   "metadata": {},
   "source": [
    "## Auxiliary Readings"
   ]
  },
  {
   "cell_type": "markdown",
   "metadata": {},
   "source": [
    "#### Write one paragraph\n",
    "\n",
    "(one hundred to two hundred words) explaining to somebody who has not read the article what its main point is: Paul Krugman's \"Cartoon Model\" http://krugman.blogs.nytimes.com/2008/03/10/a-cartoon-model-of-the-crisis-more-serious-wonkery/"
   ]
  },
  {
   "cell_type": "markdown",
   "metadata": {},
   "source": [
    "#### Write one paragraph\n",
    "\n",
    "(one hundred to two hundred words) explaining to somebody who has not read the article what its main point is: Raghuram Rajan, \"Global Current Account Imbalances: Hard Landing or Soft Landing?\" http://www.imf.org/external/np/speeches/2005/031505.htm"
   ]
  },
  {
   "cell_type": "markdown",
   "metadata": {},
   "source": [
    "#### Write one paragraph\n",
    "\n",
    "(one hundred to two hundred words) explaining to somebody who has not read the article what its main point is: Maurice Obstfeld, \"Global Imbalances\" http://www.econ.berkeley.edu/~obstfeld/280c_sp07/adjustment.pdf"
   ]
  },
  {
   "cell_type": "markdown",
   "metadata": {},
   "source": [
    "#### Write one paragraph\n",
    "\n",
    "(one hundred to two hundred words) explaining to somebody who has not read the article what its main point is: Barry Eichengreen,\"China's Exchange Rate Regime: The Long and Short of It\" http://www.econ.berkeley.edu/~eichengr/research/short.pdf"
   ]
  },
  {
   "cell_type": "markdown",
   "metadata": {},
   "source": [
    "#### Write one paragraph\n",
    "\n",
    "(one hundred to two hundred words) explaining to somebody who has not read the article what its main point is: C. Fred Bergsten, \"The Dollar and the Renminbi\" http://www.iie.com/publications/papers/paper.cfm?ResearchID=747\n",
    "Institute for International Economics, \"China: The Balance Sheet\" http://www.petersoninstitute.org/publications/chapters_preview/04648/0"
   ]
  },
  {
   "cell_type": "markdown",
   "metadata": {},
   "source": [
    "## Essays\n",
    "\n",
    "1. Why did America have a housing boom in the mid-2000s?\n",
    "\n",
    "2. Why did the conditions that had been required for mortgage borrowers before 2000--20% down payment, evidence of a stable job, no more than a 33% ratio of housing expenses (including utilities and taxes) to income--disappear in the 2000s?\n",
    "\n",
    "3. Why did the world economy fall into a very deep economic recession at the end of 2008?\n",
    "\n",
    "4. Why is recovery from the current downturn in the United States likely to be partial and delayed?\n",
    "\n",
    "5. Why are the economies of East and South Asia likely to grow much faster than the United States over the next half-decade or so?\n",
    "\n",
    "6. Why is America’s health care spending per capita so much higher than health care spending in other industrialized countries?\n",
    "\n",
    "7. What will happen if America never brings its government revenues up to balance with spending, but keeps running federal budget deficits into the future?"
   ]
  },
  {
   "cell_type": "markdown",
   "metadata": {},
   "source": [
    "## Identifications\n",
    "\n",
    "1. National product\n",
    "2. Income-expenditure equation\n",
    "3. Subprime mortgages\n",
    "4. Unemployment rate\n",
    "5. Inflation rate\n",
    "6. Long-term real risky interest rate\n",
    "7. Investment-savings curve\n",
    "8. Investment-savings equation\n",
    "9. Marginal propensity to consume\n",
    "10. About how many people lose or quit their jobs in an average month?\n",
    "11. About how many people get jobs in an average month?\n",
    "12. About how many people are unemployed in an average month?"
   ]
  },
  {
   "cell_type": "markdown",
   "metadata": {},
   "source": [
    "## Short Answers\n",
    "\n",
    "1. Why did America have a housing boom in the mid-2000s?\n",
    "2. Why did the conditions that had been required for mortgage borrowers before 2000--20% down payment, evidence of a stable job, no more than a 33% ratio of housing expenses (including utilities and taxes) to income-- disappear in the 2000s?\n",
    "3. Why did the world economy fall into a very deep economic recession at the end of 2008?\n",
    "4. What are the five (four positive, one negative) major components of national product on the expenditure side?\n",
    "5. Jean Baptiste Say in 1803 claimed that, because nobody makes anything without intending to use it or sell it, and nobody sells anything without intending to buy something else, that there could be no general shortage of demand in an economy--that there could be a planned excess of supply of some commodities, but it would be balanced by a planned excess of demand of some other commodities. Was he wrong? Why was he wrong?"
   ]
  },
  {
   "cell_type": "markdown",
   "metadata": {
    "collapsed": true
   },
   "source": []
  }
 ],
 "metadata": {
  "anaconda-cloud": {},
  "kernelspec": {
   "display_name": "Python [Root]",
   "language": "python",
   "name": "Python [Root]"
  },
  "language_info": {
   "codemirror_mode": {
    "name": "ipython",
    "version": 3
   },
   "file_extension": ".py",
   "mimetype": "text/x-python",
   "name": "python",
   "nbconvert_exporter": "python",
   "pygments_lexer": "ipython3",
   "version": "3.5.2"
  }
 },
 "nbformat": 4,
 "nbformat_minor": 1
}
