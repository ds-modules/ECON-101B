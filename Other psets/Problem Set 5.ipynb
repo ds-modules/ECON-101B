{
 "cells": [
  {
   "cell_type": "markdown",
   "metadata": {},
   "source": [
    "<font size=\"+3\">Econ 101B - Problem Set 1 </font>\n",
    " \n",
    "<font size=\"+1\"> Brad DeLong"
   ]
  },
  {
   "cell_type": "markdown",
   "metadata": {},
   "source": [
    "## Chapter 9: Equilibrium in the Flexible Price Model"
   ]
  },
  {
   "cell_type": "markdown",
   "metadata": {},
   "source": [
    "#### Adding Up National Product\n",
    "\n",
    "In the simple income-expenditure model with real national product Y equal to the sum of consumption spending by households C, investment spending by businesses I, government purchases G, and with net exports NX; with consumption spending C given by the equation: where Y = C + O and C = co + cyY(1-t); and with imports IM given by the equation: IM = imyY...\n",
    "\n",
    "1. Suppose C = $10.25 trillion, I = $1.68 trillion, G = $2.97 trillion, GX = $1.66 trillion, the tax rate t=0, and IM = $2.10 trillion. What is national product Y?\n",
    "2. Suppose C = $3.83 trillion, the tax rate t=0, I = $0.86 trillion, G = $1.18 trillion, GX = $.55 trillion, and Y = $5.80 trillion. What is gross imports IM?\n",
    "3. Suppose Suppose IM = $0.29 trillion, the tax rate t=0, I = $0.48 trillion, G = $0.57 trillion, GX = $.28 trillion, and Y = $2.79 trillion. What is consumption spending C?\n",
    "4. Suppose Suppose IM = $0.02 trillion, the tax rate t=0, I = $0.08 trillion, G = $0.11 trillion, GX = $0.03 trillion, and C = $0.33 trillion. What is national product Y?"
   ]
  },
  {
   "cell_type": "markdown",
   "metadata": {},
   "source": [
    "#### Adding Up National Product II\n",
    "\n",
    "In the simple income-expenditure model with real GDP Y equal to the sum of consumption spending by households C, investment spending by businesses I, government purchases G, and with net exports NX; with consumption spending C given by the equation: C = co + cyY(1-t); and with imports IM given by the equation: IM = imyY...\n",
    "\n",
    "1. Suppose I = $1.7 trillion, G = $3 trillion, GX = $1.7 trillion, co = $3 trillion, cy = 0.5, the tax rate t=0, and imy = .15. What is national product Y?\n",
    "2. Suppose I = $1.7 trillion, G = $3.5 trillion, GX = $1.7 trillion, co = $3 trillion, cy = 0.5, the tax rate t=0, and imy = .15. What is national product Y?\n",
    "3. Suppose I = $1.7 trillion, G = $4 trillion, GX = $1.7 trillion, co = $3 trillion, cy = 0.5, the tax rate t=0, and imy = .15. What is national product Y?\n",
    "4. Suppose I = $1.7 trillion, G = $2.5 trillion, GX = $1.7 trillion, co = $3 trillion, cy = 0.5, the tax rate t=0, and imy = .15. What is national product Y?"
   ]
  },
  {
   "cell_type": "markdown",
   "metadata": {},
   "source": [
    "#### Adding Up National Product III\n",
    "\n",
    "In the simple income-expenditure model with real GDP Y equal to the sum of consumption spending by households C, investment spending by businesses I, government purchases G, and with net exports NX; with consumption spending C given by the equation: C = co + cyY(1-t); and with imports IM given by the equation: IM = imyY...\n",
    "\n",
    "1. Suppose I = $1.8 trillion, G = $3 trillion, GX = $1.7 trillion, co = $3 trillion, cy = 0.5, the tax rate t=0, and imy = .15. What is GDP Y?\n",
    "2. Suppose I = $1.8 trillion, G = $3.5 trillion, GX = $1.7 trillion, co = $2 trillion, cy = 1.0, the tax rate t=0.85, and imy = .15. What is GDP Y?\n",
    "3. Suppose I = $1.7 trillion, G = $2 trillion, GX = $1.8 trillion, co = $3 trillion, cy = 0.65, the tax rate t=0, and imy = .15. What is GDP Y?"
   ]
  },
  {
   "cell_type": "markdown",
   "metadata": {},
   "source": [
    "## Chapter 10: Money, Prices, and Inflation"
   ]
  },
  {
   "cell_type": "markdown",
   "metadata": {},
   "source": [
    "#### Money Growth, Real Growth, and Inflation\n",
    "\n",
    "Suppose that the rate of labor force growth is 1% per year and that the rate of growth of the efficiency of labor is 2% per year. Suppose also that the rate of growth of the nominal money stock is 15% per year, and there are little or no changes in how the banking system works. Do you think that it is likely that the inflation rate is less than 5% per year? Why or why not?"
   ]
  },
  {
   "cell_type": "markdown",
   "metadata": {},
   "source": [
    "#### Open Market Operations\n",
    "\n",
    "What would the Federal Reserve have to do if it wanted to raise the monetary base today by $20 billion? What do you guess would happen to the interest rate on short-term government bonds if the Federal Reserve did this?"
   ]
  },
  {
   "cell_type": "markdown",
   "metadata": {},
   "source": [
    "#### \"Money\"\n",
    "\n",
    "Do you think that unspent balances on credit cards--the difference between what you currently owe on your credit card and the limit that the credit card company allows you-- should be counted as \"money\"? Why or why not? (One sentence only!)"
   ]
  },
  {
   "cell_type": "markdown",
   "metadata": {},
   "source": [
    "#### Quantity Theory of Money\n",
    "\n",
    "Suppose that the rate of labor force growth is 1% per year, the efficiency of labor is growing at 2% per year, and the economy is on its steady state growth path. Suppose also that the trend is that the velocity of money is growing at 1% per year.\n",
    "\n",
    "1. How fast should the Federal Reserve seek to make the growth rate of the money stock if it its inflation target is price stability--a 0% per year rate of growth of the CPI?\n",
    "2. How fast should the Federal Reserve seek to make the growth rate of the money stock if it its inflation target is a 2% per year rate of growth of the CPI?\n",
    "3. How fast should the Federal Reserve seek to make the growth rate of the money stock if it its inflation target is a 5% per year rate of growth of the CPI?"
   ]
  },
  {
   "cell_type": "markdown",
   "metadata": {},
   "source": [
    "#### Quantity Theory of Money:\n",
    "\n",
    "1. Suppose that the level of real potential output Y* is $14 trillion, the nominal money stock M is $2 trillion, and the velocity of money V is 7. What is the price level P?\n",
    "2. Suppose that the level of real potential output Y* is $14 trillion, the nominal money stock M is $2.5 trillion, and the velocity of money V is 5. What is the price level P?\n",
    "3. Suppose that the level of real potential output Y* is $14 trillion, the nominal money stock M is $4 trillion, and the velocity of money V is 7. What is the price level P?\n",
    "4. Suppose that the level of real potential output Y* is $15 trillion, the nominal money stock M is $4 trillion, and the velocity of money V is 5. What is the price level P?"
   ]
  },
  {
   "cell_type": "markdown",
   "metadata": {
    "collapsed": true
   },
   "source": []
  }
 ],
 "metadata": {
  "anaconda-cloud": {},
  "kernelspec": {
   "display_name": "Python [Root]",
   "language": "python",
   "name": "Python [Root]"
  },
  "language_info": {
   "codemirror_mode": {
    "name": "ipython",
    "version": 3
   },
   "file_extension": ".py",
   "mimetype": "text/x-python",
   "name": "python",
   "nbconvert_exporter": "python",
   "pygments_lexer": "ipython3",
   "version": "3.5.2"
  }
 },
 "nbformat": 4,
 "nbformat_minor": 1
}
