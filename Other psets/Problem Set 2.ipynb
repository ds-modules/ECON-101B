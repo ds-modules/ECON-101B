{
 "cells": [
  {
   "cell_type": "markdown",
   "metadata": {},
   "source": [
    "<font size=\"+3\">Econ 101B - Problem Set 2 </font>\n",
    " \n",
    "<font size=\"+1\"> Brad DeLong"
   ]
  },
  {
   "cell_type": "markdown",
   "metadata": {
    "collapsed": true
   },
   "source": [
    "## Chapter 3: Thinking Like an Economist\n",
    "\n",
    "#### In what sense can a line on a graph \"be\" an equation?\n",
    "\n",
    "## Chapter 4: Theories of Economic Growth\n",
    "\n",
    "#### Production Functions\n",
    "\n",
    "1. Suppose α = 1/2, E=1, L=100, and K=64; what is output per worker Y/L?\n",
    "2. Suppose α = 1/2, E=3, L=196, and K=49; what is output per worker Y/L? € c. If both capital K and labor L triple, what happens to total output Y?\n",
    "3. Holding E=1, suppose that capital per worker increases from 4 to 8 and then from 8 to 12. What happens to output per worker?\n",
    "\n",
    "#### Budget Deficits\n",
    "\n",
    "Consider an economy in which the depreciation rate is 2% per year, the rate of population increase is 1% per year, the rate of technological progress is 1% per year, and the private savings rate is 17% of GDP. Suppose that the government increases its budget deficit--which had been at 1% of GDP for a long time--to 5% of GDP and keeps it there indefinitely.\n",
    "\n",
    "1. What is the effect of this shift on the economy's steady-state capital-output ratio? b. What is the effect of this shift on the economy's steady state growth path for output per worker?\n",
    "2. Suppose that your forecast of output per worker 20 years in the future had been $120,000. What is your new forecast of output per worker twenty years hence?\n",
    "3. Suppose that environmental regulations lead to a diversion of investment spending from investments that boost the capital stock to investments that replace polluting with less-polluting capital. In our standard growth model, what would be the consequences of such a diversion for the economy's capital-output ratio and for its balanced-growth path? Would it make sense to say that these environmental regulations diminished the economy's wealth?\n",
    "\n",
    "#### Savings Rates\n",
    "\n",
    "Consider an economy in which the depreciation rate is 4% per year, the rate of population increase is 1% per year, the rate of technological progress is 2% per year, and the national savings rate is 21% of GDP. Suppose that thrift-promoting policies raise the savings rate to 24.5% of GDP and keep it there indefinitely.\n",
    "\n",
    "1. Calculate—that is write an equation for it as a function of time—what the level of output per worker would have been had the savings rate remained at 21%, and had the economy initially been on its steady-state growth path.\n",
    "2. Calculate—that is write an equation for it as a function of time—what the level of output per worker will have be now that the savings rate has increased.\n",
    "\n",
    "#### Population Growth\n",
    "\n",
    "Many project that by the middle of the twenty-first century the population of the United States will be stable. Using the Solow growth model, what would the qualitative effects of such a downward shift in the growth rate of the labor force be on the growth of output per worker and to the growth of total output? (Consider both the effect of zero population growth on the steady-state growth path, and the transition from the \"old\" positive population growth to the \"new\" zero population growth steady-state growth path.)\n",
    "\n",
    "#### Long Run Models\n",
    "\n",
    "We have cautioned you that the Solow growth model is—especially in its focus-on- the-steady-state-growth-path version—a long run model. What do we mean by that?\n",
    "\n",
    "#### Doubling Capital per Worker\n",
    "\n",
    "Consider an economy with the production function: Y=K^α(EL)^(1−α) on its steady-state balanced-growth path:\n",
    "\n",
    "1. Suppose α = 1/2, E=1, L=100, and K=64; what is output per worker Y/L?\n",
    "2. Suppose α = 1/2, E=3, L=196, and K=49; what is output per worker Y/L?\n",
    "3. If both capital K and labor L triple, what happens to total output Y?\n",
    "4. Holding E=1, suppose that capital per worker increases from 4 to 8 and then from\n",
    "8 to 12. What happens to output per worker?\n",
    "\n",
    "#### Walking Up the Production Function\n",
    "\n",
    "Consider an economy with the production function: Y=K^α(EL)^(1−α) on its steady-state balanced-growth path:\n",
    "\n",
    "1. Suppose α = 1/3, E=1, L=100, and K=64; what is output per worker Y/L?\n",
    "2. Suppose α = 1/3, E=3, L=196, and K=49; what is output per worker Y/L?\n",
    "3. If both capital K and labor L double, what happens to total output Y?\n",
    "4. Holding E=1, suppose that capital per worker increases from 1 to 4 and then from\n",
    "4 to 9. What happens to output per worker?\n",
    "\n",
    "#### Balanced Growth Path\n",
    "\n",
    "Suppose that an economy's production function is Y = K^0.5(EL)^0.5; suppose further that the savings rate s is 40  percent of GDP, that the depreciation rate δ is 4 percent per year, the population growth rate n is 0, and the rate of growth g of the efficiency of the labor force is 2 percent per year.\n",
    "\n",
    "1. What is the steady-state balanced-growth capital-output ratio?\n",
    "2. How fast does output per worker grow along the steady-state balanced-growth\n",
    "path?\n",
    "3. How fast does total output grow along the steady-state balanced-growth path?\n",
    "4. Suppose that all variables are the same save the production function, which instead is: K^0.8(EL)^0.2; how would your answers be different? Why would your answers are different?"
   ]
  }
 ],
 "metadata": {
  "anaconda-cloud": {},
  "kernelspec": {
   "display_name": "Python [Root]",
   "language": "python",
   "name": "Python [Root]"
  },
  "language_info": {
   "codemirror_mode": {
    "name": "ipython",
    "version": 3
   },
   "file_extension": ".py",
   "mimetype": "text/x-python",
   "name": "python",
   "nbconvert_exporter": "python",
   "pygments_lexer": "ipython3",
   "version": "3.5.2"
  }
 },
 "nbformat": 4,
 "nbformat_minor": 1
}
